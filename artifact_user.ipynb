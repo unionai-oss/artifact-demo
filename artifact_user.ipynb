{
 "cells": [
  {
   "cell_type": "code",
   "execution_count": 1,
   "id": "5774d172",
   "metadata": {},
   "outputs": [],
   "source": [
    "import typing\n",
    "import pandas as pd\n",
    "from datetime import datetime\n",
    "\n",
    "from typing_extensions import Annotated\n",
    "\n",
    "from flytekit.remote.remote import FlyteRemote\n",
    "from flytekit import task, workflow, LaunchPlan\n",
    "from flytekit.configuration import Config\n",
    "from flytekit.core.artifact import Artifact\n",
    "from flytekit.extend import TypeEngine\n",
    "\n",
    "from flytekit.core.context_manager import FlyteContextManager\n",
    "from flytekit.types.structured.structured_dataset import StructuredDataset"
   ]
  },
  {
   "cell_type": "code",
   "execution_count": 9,
   "id": "43ae3177",
   "metadata": {},
   "outputs": [],
   "source": [
    "r = FlyteRemote(\n",
    "    Config.auto(config_file=\"/Users/ytong/.flyte/local_admin.yaml\"),\n",
    "    default_project=\"flytesnacks\",\n",
    "    default_domain=\"development\",\n",
    ")"
   ]
  },
  {
   "cell_type": "markdown",
   "id": "b8b9d211",
   "metadata": {},
   "source": [
    "### Existing Interaction Model"
   ]
  },
  {
   "cell_type": "markdown",
   "id": "c1776f78",
   "metadata": {},
   "source": [
    "Ran the `run_gather_data` Fetch and traverse nodes"
   ]
  },
  {
   "cell_type": "code",
   "execution_count": 3,
   "id": "1a004986",
   "metadata": {},
   "outputs": [],
   "source": [
    "e1 = r.fetch_execution(name=\"ajwx5v6qldmtkdzbsgxl\")"
   ]
  },
  {
   "cell_type": "code",
   "execution_count": 4,
   "id": "ab533d3a",
   "metadata": {},
   "outputs": [
    {
     "data": {
      "text/plain": [
       "<FlyteLiteral id { project: \"flytesnacks\" domain: \"development\" name: \"ajwx5v6qldmtkdzbsgxl\" } spec { launch_plan { resource_type: LAUNCH_PLAN project: \"flytesnacks\" domain: \"development\" name: \"artifact_ux.basic_ml.run_gather_data\" version: \"NRFyWGQyjORIYkH14yQ7IA==\" } metadata { system_metadata { } } labels { } annotations { } auth_role { } } closure { outputs { uri: \"s3://my-s3-bucket/metadata/propeller/flytesnacks-development-ajwx5v6qldmtkdzbsgxl/end-node/data/0/outputs.pb\" } phase: SUCCEEDED started_at { seconds: 1693880538 nanos: 526056000 } duration { seconds: 31 nanos: 891672000 } created_at { seconds: 1693880538 nanos: 511048000 } updated_at { seconds: 1693880570 nanos: 417728000 } }>"
      ]
     },
     "execution_count": 4,
     "metadata": {},
     "output_type": "execute_result"
    }
   ],
   "source": [
    "r.sync_execution(e1, sync_nodes=True)"
   ]
  },
  {
   "cell_type": "code",
   "execution_count": 5,
   "id": "beabd33a",
   "metadata": {},
   "outputs": [],
   "source": [
    "v = e1.node_executions[\"n0\"].outputs.get(\"o0\")"
   ]
  },
  {
   "cell_type": "code",
   "execution_count": 6,
   "id": "b8794428",
   "metadata": {},
   "outputs": [],
   "source": [
    "df = v.open(pd.DataFrame).all()"
   ]
  },
  {
   "cell_type": "code",
   "execution_count": 7,
   "id": "377b62d0",
   "metadata": {},
   "outputs": [
    {
     "data": {
      "text/html": [
       "<div>\n",
       "<style scoped>\n",
       "    .dataframe tbody tr th:only-of-type {\n",
       "        vertical-align: middle;\n",
       "    }\n",
       "\n",
       "    .dataframe tbody tr th {\n",
       "        vertical-align: top;\n",
       "    }\n",
       "\n",
       "    .dataframe thead th {\n",
       "        text-align: right;\n",
       "    }\n",
       "</style>\n",
       "<table border=\"1\" class=\"dataframe\">\n",
       "  <thead>\n",
       "    <tr style=\"text-align: right;\">\n",
       "      <th></th>\n",
       "      <th>sectors</th>\n",
       "      <th>rides</th>\n",
       "    </tr>\n",
       "  </thead>\n",
       "  <tbody>\n",
       "    <tr>\n",
       "      <th>0</th>\n",
       "      <td>SEA</td>\n",
       "      <td>696</td>\n",
       "    </tr>\n",
       "    <tr>\n",
       "      <th>1</th>\n",
       "      <td>SAE</td>\n",
       "      <td>253</td>\n",
       "    </tr>\n",
       "    <tr>\n",
       "      <th>2</th>\n",
       "      <td>ESA</td>\n",
       "      <td>397</td>\n",
       "    </tr>\n",
       "    <tr>\n",
       "      <th>3</th>\n",
       "      <td>EAS</td>\n",
       "      <td>816</td>\n",
       "    </tr>\n",
       "    <tr>\n",
       "      <th>4</th>\n",
       "      <td>ASE</td>\n",
       "      <td>532</td>\n",
       "    </tr>\n",
       "    <tr>\n",
       "      <th>5</th>\n",
       "      <td>AES</td>\n",
       "      <td>811</td>\n",
       "    </tr>\n",
       "  </tbody>\n",
       "</table>\n",
       "</div>"
      ],
      "text/plain": [
       "  sectors  rides\n",
       "0     SEA    696\n",
       "1     SAE    253\n",
       "2     ESA    397\n",
       "3     EAS    816\n",
       "4     ASE    532\n",
       "5     AES    811"
      ]
     },
     "execution_count": 7,
     "metadata": {},
     "output_type": "execute_result"
    }
   ],
   "source": [
    "df"
   ]
  },
  {
   "cell_type": "markdown",
   "id": "8f6e8780",
   "metadata": {},
   "source": [
    "### Union Artifact Model"
   ]
  },
  {
   "cell_type": "markdown",
   "id": "a86c3a98",
   "metadata": {},
   "source": [
    "#### Data Access"
   ]
  },
  {
   "cell_type": "code",
   "execution_count": 8,
   "id": "c9516d9a",
   "metadata": {},
   "outputs": [],
   "source": [
    "execid = \"ajwx5v6qldmtkdzbsgxl\""
   ]
  },
  {
   "cell_type": "code",
   "execution_count": 9,
   "id": "e516424d",
   "metadata": {},
   "outputs": [
    {
     "data": {
      "text/html": [
       "<pre style=\"white-space:pre;overflow-x:auto;line-height:normal;font-family:Menlo,'DejaVu Sans Mono',consolas,'Courier New',monospace\"><span style=\"color: #800000; text-decoration-color: #800000\">╭─────────────────────────────────────── </span><span style=\"color: #800000; text-decoration-color: #800000; font-weight: bold\">Traceback </span><span style=\"color: #bf7f7f; text-decoration-color: #bf7f7f; font-weight: bold\">(most recent call last)</span><span style=\"color: #800000; text-decoration-color: #800000\"> ───────────────────────────────────────╮</span>\n",
       "<span style=\"color: #800000; text-decoration-color: #800000\">│</span> in <span style=\"color: #00ff00; text-decoration-color: #00ff00\">&lt;module&gt;</span>:<span style=\"color: #0000ff; text-decoration-color: #0000ff\">1</span>                                                                                                   <span style=\"color: #800000; text-decoration-color: #800000\">│</span>\n",
       "<span style=\"color: #800000; text-decoration-color: #800000\">│</span>                                                                                                                 <span style=\"color: #800000; text-decoration-color: #800000\">│</span>\n",
       "<span style=\"color: #800000; text-decoration-color: #800000\">│</span> <span style=\"color: #800000; text-decoration-color: #800000\">❱ </span>1 a = r.get_artifact(<span style=\"color: #808000; text-decoration-color: #808000\">f\"flyte://av0.1/flytesnacks/development/{</span>execid<span style=\"color: #808000; text-decoration-color: #808000\">}/n0/0/o/o0\"</span>)                             <span style=\"color: #800000; text-decoration-color: #800000\">│</span>\n",
       "<span style=\"color: #800000; text-decoration-color: #800000\">│</span>                                                                                                                 <span style=\"color: #800000; text-decoration-color: #800000\">│</span>\n",
       "<span style=\"color: #800000; text-decoration-color: #800000\">│</span> <span style=\"color: #bfbf7f; text-decoration-color: #bfbf7f\">/Users/ytong/go/src/github.com/unionai/flytekit/flytekit/remote/</span><span style=\"color: #808000; text-decoration-color: #808000; font-weight: bold\">remote.py</span>:<span style=\"color: #0000ff; text-decoration-color: #0000ff\">399</span> in <span style=\"color: #00ff00; text-decoration-color: #00ff00\">get_artifact</span>                   <span style=\"color: #800000; text-decoration-color: #800000\">│</span>\n",
       "<span style=\"color: #800000; text-decoration-color: #800000\">│</span>                                                                                                                 <span style=\"color: #800000; text-decoration-color: #800000\">│</span>\n",
       "<span style=\"color: #800000; text-decoration-color: #800000\">│</span> <span style=\"color: #800000; text-decoration-color: #800000\">❱ </span> 399 <span style=\"color: #7f7f7f; text-decoration-color: #7f7f7f\">│   │   </span>resp = <span style=\"color: #00ffff; text-decoration-color: #00ffff\">self</span>.client.get_artifact(req)                                                             <span style=\"color: #800000; text-decoration-color: #800000\">│</span>\n",
       "<span style=\"color: #800000; text-decoration-color: #800000\">│</span>                                                                                                                 <span style=\"color: #800000; text-decoration-color: #800000\">│</span>\n",
       "<span style=\"color: #800000; text-decoration-color: #800000\">│</span> <span style=\"color: #bfbf7f; text-decoration-color: #bfbf7f\">/Users/ytong/go/src/github.com/unionai/flytekit/flytekit/clients/</span><span style=\"color: #808000; text-decoration-color: #808000; font-weight: bold\">friendly.py</span>:<span style=\"color: #0000ff; text-decoration-color: #0000ff\">1042</span> in <span style=\"color: #00ff00; text-decoration-color: #00ff00\">get_artifact</span>               <span style=\"color: #800000; text-decoration-color: #800000\">│</span>\n",
       "<span style=\"color: #800000; text-decoration-color: #800000\">│</span>                                                                                                                 <span style=\"color: #800000; text-decoration-color: #800000\">│</span>\n",
       "<span style=\"color: #800000; text-decoration-color: #800000\">│</span> <span style=\"color: #800000; text-decoration-color: #800000\">❱ </span>1042 <span style=\"color: #7f7f7f; text-decoration-color: #7f7f7f\">│   │   </span><span style=\"color: #0000ff; text-decoration-color: #0000ff\">return</span> <span style=\"color: #00ffff; text-decoration-color: #00ffff\">self</span>._artifact_stub.GetArtifact(request)                                                  <span style=\"color: #800000; text-decoration-color: #800000\">│</span>\n",
       "<span style=\"color: #800000; text-decoration-color: #800000\">│</span>                                                                                                                 <span style=\"color: #800000; text-decoration-color: #800000\">│</span>\n",
       "<span style=\"color: #800000; text-decoration-color: #800000\">│</span> <span style=\"color: #bfbf7f; text-decoration-color: #bfbf7f\">/Users/ytong/envs/experiments/lib/python3.11/site-packages/grpc/</span><span style=\"color: #808000; text-decoration-color: #808000; font-weight: bold\">_channel.py</span>:<span style=\"color: #0000ff; text-decoration-color: #0000ff\">1030</span> in <span style=\"color: #00ff00; text-decoration-color: #00ff00\">__call__</span>                    <span style=\"color: #800000; text-decoration-color: #800000\">│</span>\n",
       "<span style=\"color: #800000; text-decoration-color: #800000\">│</span>                                                                                                                 <span style=\"color: #800000; text-decoration-color: #800000\">│</span>\n",
       "<span style=\"color: #800000; text-decoration-color: #800000\">│</span> <span style=\"color: #800000; text-decoration-color: #800000\">❱ </span>1030 <span style=\"color: #7f7f7f; text-decoration-color: #7f7f7f\">│   │   </span><span style=\"color: #0000ff; text-decoration-color: #0000ff\">return</span> _end_unary_response_blocking(state, call, <span style=\"color: #0000ff; text-decoration-color: #0000ff\">False</span>, <span style=\"color: #0000ff; text-decoration-color: #0000ff\">None</span>)                                    <span style=\"color: #800000; text-decoration-color: #800000\">│</span>\n",
       "<span style=\"color: #800000; text-decoration-color: #800000\">│</span>                                                                                                                 <span style=\"color: #800000; text-decoration-color: #800000\">│</span>\n",
       "<span style=\"color: #800000; text-decoration-color: #800000\">│</span> <span style=\"color: #bfbf7f; text-decoration-color: #bfbf7f\">/Users/ytong/envs/experiments/lib/python3.11/site-packages/grpc/</span><span style=\"color: #808000; text-decoration-color: #808000; font-weight: bold\">_channel.py</span>:<span style=\"color: #0000ff; text-decoration-color: #0000ff\">910</span> in <span style=\"color: #00ff00; text-decoration-color: #00ff00\">_end_unary_response_blocking</span> <span style=\"color: #800000; text-decoration-color: #800000\">│</span>\n",
       "<span style=\"color: #800000; text-decoration-color: #800000\">│</span>                                                                                                                 <span style=\"color: #800000; text-decoration-color: #800000\">│</span>\n",
       "<span style=\"color: #800000; text-decoration-color: #800000\">│</span> <span style=\"color: #800000; text-decoration-color: #800000\">❱ </span> 910 <span style=\"color: #7f7f7f; text-decoration-color: #7f7f7f\">│   │   </span><span style=\"color: #0000ff; text-decoration-color: #0000ff\">raise</span> _InactiveRpcError(state)  <span style=\"color: #7f7f7f; text-decoration-color: #7f7f7f\"># pytype: disable=not-instantiable</span>                               <span style=\"color: #800000; text-decoration-color: #800000\">│</span>\n",
       "<span style=\"color: #800000; text-decoration-color: #800000\">╰─────────────────────────────────────────────────────────────────────────────────────────────────────────────────╯</span>\n",
       "<span style=\"color: #ff0000; text-decoration-color: #ff0000; font-weight: bold\">_InactiveRpcError: </span><span style=\"font-weight: bold\">&lt;</span><span style=\"color: #ff00ff; text-decoration-color: #ff00ff; font-weight: bold\">_InactiveRpcError</span><span style=\"color: #000000; text-decoration-color: #000000\"> of RPC that terminated with:</span>\n",
       "<span style=\"color: #000000; text-decoration-color: #000000\"> </span>       <span style=\"color: #000000; text-decoration-color: #000000\">status = StatusCode.NOT_FOUND</span>\n",
       "<span style=\"color: #000000; text-decoration-color: #000000\"> </span>       <span style=\"color: #000000; text-decoration-color: #000000\">details = \"Artifact not found with ID search artifact_key </span><span style=\"color: #000000; text-decoration-color: #000000; font-weight: bold\">{</span>\n",
       "<span style=\"color: #000000; text-decoration-color: #000000\">  project: </span><span style=\"color: #008000; text-decoration-color: #008000\">\"flytesnacks\"</span>\n",
       "<span style=\"color: #000000; text-decoration-color: #000000\">  domain: </span><span style=\"color: #008000; text-decoration-color: #008000\">\"development\"</span>\n",
       "<span style=\"color: #000000; text-decoration-color: #000000\">  name: </span><span style=\"color: #008000; text-decoration-color: #008000\">\"ajwx5v6qldmtkdzbsgxl/n0/0/o/o0\"</span>\n",
       "<span style=\"color: #000000; text-decoration-color: #000000; font-weight: bold\">}</span>\n",
       "<span style=\"color: #000000; text-decoration-color: #000000\">\"</span>\n",
       "<span style=\"color: #000000; text-decoration-color: #000000\"> </span>       <span style=\"color: #000000; text-decoration-color: #000000\">debug_error_string = </span><span style=\"color: #008000; text-decoration-color: #008000\">\"UNKNOWN:Error received from peer  {created_time:\"</span><span style=\"color: #008080; text-decoration-color: #008080; font-weight: bold\">2023</span><span style=\"color: #000000; text-decoration-color: #000000\">-</span><span style=\"color: #008080; text-decoration-color: #008080; font-weight: bold\">09</span><span style=\"color: #000000; text-decoration-color: #000000\">-04T</span><span style=\"color: #00ff00; text-decoration-color: #00ff00; font-weight: bold\">19:24:50</span><span style=\"color: #000000; text-decoration-color: #000000\">.</span><span style=\"color: #008080; text-decoration-color: #008080; font-weight: bold\">876313</span><span style=\"color: #000000; text-decoration-color: #000000\">-</span><span style=\"color: #00ff00; text-decoration-color: #00ff00; font-weight: bold\">07:00</span><span style=\"color: #000000; text-decoration-color: #000000\">\", </span>\n",
       "<span style=\"color: #000000; text-decoration-color: #000000\">grpc_status:</span><span style=\"color: #008080; text-decoration-color: #008080; font-weight: bold\">5</span><span style=\"color: #000000; text-decoration-color: #000000\">, grpc_message:</span><span style=\"color: #008000; text-decoration-color: #008000\">\"Artifact not found with ID search artifact_key {\\n  project: \\\"flytesnacks\\\"\\n  </span>\n",
       "<span style=\"color: #008000; text-decoration-color: #008000\">domain: \\\"development\\\"\\n  name: \\\"ajwx5v6qldmtkdzbsgxl/n0/0/o/o0\\\"\\n}\\n\"</span><span style=\"color: #000000; text-decoration-color: #000000; font-weight: bold\">}</span><span style=\"color: #000000; text-decoration-color: #000000\">\"</span>\n",
       "<span style=\"font-weight: bold\">&gt;</span>\n",
       "</pre>\n"
      ],
      "text/plain": [
       "\u001b[31m╭─\u001b[0m\u001b[31m──────────────────────────────────────\u001b[0m\u001b[31m \u001b[0m\u001b[1;31mTraceback \u001b[0m\u001b[1;2;31m(most recent call last)\u001b[0m\u001b[31m \u001b[0m\u001b[31m──────────────────────────────────────\u001b[0m\u001b[31m─╮\u001b[0m\n",
       "\u001b[31m│\u001b[0m in \u001b[92m<module>\u001b[0m:\u001b[94m1\u001b[0m                                                                                                   \u001b[31m│\u001b[0m\n",
       "\u001b[31m│\u001b[0m                                                                                                                 \u001b[31m│\u001b[0m\n",
       "\u001b[31m│\u001b[0m \u001b[31m❱ \u001b[0m1 a = r.get_artifact(\u001b[33mf\u001b[0m\u001b[33m\"\u001b[0m\u001b[33mflyte://av0.1/flytesnacks/development/\u001b[0m\u001b[33m{\u001b[0mexecid\u001b[33m}\u001b[0m\u001b[33m/n0/0/o/o0\u001b[0m\u001b[33m\"\u001b[0m)                             \u001b[31m│\u001b[0m\n",
       "\u001b[31m│\u001b[0m                                                                                                                 \u001b[31m│\u001b[0m\n",
       "\u001b[31m│\u001b[0m \u001b[2;33m/Users/ytong/go/src/github.com/unionai/flytekit/flytekit/remote/\u001b[0m\u001b[1;33mremote.py\u001b[0m:\u001b[94m399\u001b[0m in \u001b[92mget_artifact\u001b[0m                   \u001b[31m│\u001b[0m\n",
       "\u001b[31m│\u001b[0m                                                                                                                 \u001b[31m│\u001b[0m\n",
       "\u001b[31m│\u001b[0m \u001b[31m❱ \u001b[0m 399 \u001b[2m│   │   \u001b[0mresp = \u001b[96mself\u001b[0m.client.get_artifact(req)                                                             \u001b[31m│\u001b[0m\n",
       "\u001b[31m│\u001b[0m                                                                                                                 \u001b[31m│\u001b[0m\n",
       "\u001b[31m│\u001b[0m \u001b[2;33m/Users/ytong/go/src/github.com/unionai/flytekit/flytekit/clients/\u001b[0m\u001b[1;33mfriendly.py\u001b[0m:\u001b[94m1042\u001b[0m in \u001b[92mget_artifact\u001b[0m               \u001b[31m│\u001b[0m\n",
       "\u001b[31m│\u001b[0m                                                                                                                 \u001b[31m│\u001b[0m\n",
       "\u001b[31m│\u001b[0m \u001b[31m❱ \u001b[0m1042 \u001b[2m│   │   \u001b[0m\u001b[94mreturn\u001b[0m \u001b[96mself\u001b[0m._artifact_stub.GetArtifact(request)                                                  \u001b[31m│\u001b[0m\n",
       "\u001b[31m│\u001b[0m                                                                                                                 \u001b[31m│\u001b[0m\n",
       "\u001b[31m│\u001b[0m \u001b[2;33m/Users/ytong/envs/experiments/lib/python3.11/site-packages/grpc/\u001b[0m\u001b[1;33m_channel.py\u001b[0m:\u001b[94m1030\u001b[0m in \u001b[92m__call__\u001b[0m                    \u001b[31m│\u001b[0m\n",
       "\u001b[31m│\u001b[0m                                                                                                                 \u001b[31m│\u001b[0m\n",
       "\u001b[31m│\u001b[0m \u001b[31m❱ \u001b[0m1030 \u001b[2m│   │   \u001b[0m\u001b[94mreturn\u001b[0m _end_unary_response_blocking(state, call, \u001b[94mFalse\u001b[0m, \u001b[94mNone\u001b[0m)                                    \u001b[31m│\u001b[0m\n",
       "\u001b[31m│\u001b[0m                                                                                                                 \u001b[31m│\u001b[0m\n",
       "\u001b[31m│\u001b[0m \u001b[2;33m/Users/ytong/envs/experiments/lib/python3.11/site-packages/grpc/\u001b[0m\u001b[1;33m_channel.py\u001b[0m:\u001b[94m910\u001b[0m in \u001b[92m_end_unary_response_blocking\u001b[0m \u001b[31m│\u001b[0m\n",
       "\u001b[31m│\u001b[0m                                                                                                                 \u001b[31m│\u001b[0m\n",
       "\u001b[31m│\u001b[0m \u001b[31m❱ \u001b[0m 910 \u001b[2m│   │   \u001b[0m\u001b[94mraise\u001b[0m _InactiveRpcError(state)  \u001b[2m# pytype: disable=not-instantiable\u001b[0m                               \u001b[31m│\u001b[0m\n",
       "\u001b[31m╰─────────────────────────────────────────────────────────────────────────────────────────────────────────────────╯\u001b[0m\n",
       "\u001b[1;91m_InactiveRpcError: \u001b[0m\u001b[1m<\u001b[0m\u001b[1;95m_InactiveRpcError\u001b[0m\u001b[39m of RPC that terminated with:\u001b[0m\n",
       "\u001b[39m \u001b[0m       \u001b[39mstatus = StatusCode.NOT_FOUND\u001b[0m\n",
       "\u001b[39m \u001b[0m       \u001b[39mdetails = \"Artifact not found with ID search artifact_key \u001b[0m\u001b[1;39m{\u001b[0m\n",
       "\u001b[39m  project: \u001b[0m\u001b[32m\"flytesnacks\"\u001b[0m\n",
       "\u001b[39m  domain: \u001b[0m\u001b[32m\"development\"\u001b[0m\n",
       "\u001b[39m  name: \u001b[0m\u001b[32m\"ajwx5v6qldmtkdzbsgxl/n0/0/o/o0\"\u001b[0m\n",
       "\u001b[1;39m}\u001b[0m\n",
       "\u001b[39m\"\u001b[0m\n",
       "\u001b[39m \u001b[0m       \u001b[39mdebug_error_string = \u001b[0m\u001b[32m\"UNKNOWN:Error received from peer  \u001b[0m\u001b[32m{\u001b[0m\u001b[32mcreated_time:\"\u001b[0m\u001b[1;36m2023\u001b[0m\u001b[39m-\u001b[0m\u001b[1;36m09\u001b[0m\u001b[39m-04T\u001b[0m\u001b[1;92m19:24:50\u001b[0m\u001b[39m.\u001b[0m\u001b[1;36m876313\u001b[0m\u001b[39m-\u001b[0m\u001b[1;92m07:00\u001b[0m\u001b[39m\", \u001b[0m\n",
       "\u001b[39mgrpc_status:\u001b[0m\u001b[1;36m5\u001b[0m\u001b[39m, grpc_message:\u001b[0m\u001b[32m\"Artifact not found with ID search artifact_key \u001b[0m\u001b[32m{\u001b[0m\u001b[32m\\n  project: \\\"flytesnacks\\\"\\n  \u001b[0m\n",
       "\u001b[32mdomain: \\\"development\\\"\\n  name: \\\"ajwx5v6qldmtkdzbsgxl/n0/0/o/o0\\\"\\n\u001b[0m\u001b[32m}\u001b[0m\u001b[32m\\n\"\u001b[0m\u001b[1;39m}\u001b[0m\u001b[39m\"\u001b[0m\n",
       "\u001b[1m>\u001b[0m\n"
      ]
     },
     "metadata": {},
     "output_type": "display_data"
    }
   ],
   "source": [
    "a = r.get_artifact(f\"flyte://av0.1/flytesnacks/development/{execid}/n0/0/o/o0\")"
   ]
  },
  {
   "cell_type": "code",
   "execution_count": 23,
   "id": "87f43cea",
   "metadata": {},
   "outputs": [
    {
     "data": {
      "text/plain": [
       "Artifact: project=flytesnacks, domain=development, name=amt7q2qbrz7j42hq48x5/n0/0/o/o0, version=amt7q2qbrz7j42hq48x5\n",
       "  name=amt7q2qbrz7j42hq48x5/n0/0/o/o0\n",
       "  partitions=None\n",
       "  tags=None\n",
       "  literal_type=<FlyteLiteral structured_dataset_type { }>, literal=<FlyteLiteral scalar { structured_dataset { uri: \"s3://my-s3-bucket/data/55/amt7q2qbrz7j42hq48x5-n0-0/7474760bb307fb2b2589365146d82c2f\" metadata { structured_dataset_type { format: \"parquet\" } } } }>)"
      ]
     },
     "execution_count": 23,
     "metadata": {},
     "output_type": "execute_result"
    }
   ],
   "source": [
    "a"
   ]
  },
  {
   "cell_type": "code",
   "execution_count": 3,
   "id": "33e8ebb9-d384-4e6c-a176-29e97ebe77aa",
   "metadata": {},
   "outputs": [],
   "source": [
    "a = r.get_artifact(f\"flyte://av0.1/flytesnacks/development/ride_count_data?region=SEA&ds=2023-09-05\")"
   ]
  },
  {
   "cell_type": "code",
   "execution_count": 4,
   "id": "68230432-3952-4f63-a883-4c57ff81e5fa",
   "metadata": {},
   "outputs": [
    {
     "data": {
      "text/plain": [
       "Artifact: project=flytesnacks, domain=development, name=ride_count_data, version=adb7ssdvvnjs8lchx4ld/n0/0/o0\n",
       "  name=ride_count_data\n",
       "  partitions=<flytekit.core.artifact.Partitions object at 0x158768650>\n",
       "  tags=None\n",
       "  literal_type=<FlyteLiteral structured_dataset_type { }>, literal=<FlyteLiteral scalar { structured_dataset { uri: \"s3://my-s3-bucket/data/sb/adb7ssdvvnjs8lchx4ld-n0-0/917af49e434b530001eea264d2a064c1\" metadata { structured_dataset_type { format: \"parquet\" } } } }>)"
      ]
     },
     "execution_count": 4,
     "metadata": {},
     "output_type": "execute_result"
    }
   ],
   "source": [
    "a"
   ]
  },
  {
   "cell_type": "code",
   "execution_count": 24,
   "id": "642e0cc6",
   "metadata": {},
   "outputs": [],
   "source": [
    "ctx = FlyteContextManager.current_context()\n",
    "v = TypeEngine.to_python_value(ctx, a.literal, pd.DataFrame)"
   ]
  },
  {
   "cell_type": "code",
   "execution_count": 25,
   "id": "0e2ed74a",
   "metadata": {},
   "outputs": [
    {
     "data": {
      "text/html": [
       "<div>\n",
       "<style scoped>\n",
       "    .dataframe tbody tr th:only-of-type {\n",
       "        vertical-align: middle;\n",
       "    }\n",
       "\n",
       "    .dataframe tbody tr th {\n",
       "        vertical-align: top;\n",
       "    }\n",
       "\n",
       "    .dataframe thead th {\n",
       "        text-align: right;\n",
       "    }\n",
       "</style>\n",
       "<table border=\"1\" class=\"dataframe\">\n",
       "  <thead>\n",
       "    <tr style=\"text-align: right;\">\n",
       "      <th></th>\n",
       "      <th>sectors</th>\n",
       "      <th>rides</th>\n",
       "    </tr>\n",
       "  </thead>\n",
       "  <tbody>\n",
       "    <tr>\n",
       "      <th>0</th>\n",
       "      <td>SEA</td>\n",
       "      <td>314</td>\n",
       "    </tr>\n",
       "    <tr>\n",
       "      <th>1</th>\n",
       "      <td>SAE</td>\n",
       "      <td>869</td>\n",
       "    </tr>\n",
       "    <tr>\n",
       "      <th>2</th>\n",
       "      <td>ESA</td>\n",
       "      <td>346</td>\n",
       "    </tr>\n",
       "    <tr>\n",
       "      <th>3</th>\n",
       "      <td>EAS</td>\n",
       "      <td>895</td>\n",
       "    </tr>\n",
       "    <tr>\n",
       "      <th>4</th>\n",
       "      <td>ASE</td>\n",
       "      <td>140</td>\n",
       "    </tr>\n",
       "    <tr>\n",
       "      <th>5</th>\n",
       "      <td>AES</td>\n",
       "      <td>256</td>\n",
       "    </tr>\n",
       "  </tbody>\n",
       "</table>\n",
       "</div>"
      ],
      "text/plain": [
       "  sectors  rides\n",
       "0     SEA    314\n",
       "1     SAE    869\n",
       "2     ESA    346\n",
       "3     EAS    895\n",
       "4     ASE    140\n",
       "5     AES    256"
      ]
     },
     "execution_count": 25,
     "metadata": {},
     "output_type": "execute_result"
    }
   ],
   "source": [
    "v"
   ]
  },
  {
   "cell_type": "markdown",
   "id": "a8f20f7b",
   "metadata": {},
   "source": [
    "#### Ability to Launch"
   ]
  },
  {
   "cell_type": "markdown",
   "id": "481585d0",
   "metadata": {},
   "source": [
    "kick off new execution with the fetched artifact, confirm it can be used and querying doesn't fail.\n",
    "then kick it off again without any artifact at all."
   ]
  },
  {
   "cell_type": "code",
   "execution_count": 10,
   "id": "217c49a4",
   "metadata": {},
   "outputs": [],
   "source": [
    "run_train_model_wf = r.fetch_workflow(\n",
    "        \"flytesnacks\", \"development\", \"artifact_ux.basic_ml.run_train_model\", \"a4\"\n",
    "    )"
   ]
  },
  {
   "cell_type": "code",
   "execution_count": 10,
   "id": "3e8f6302",
   "metadata": {
    "scrolled": true
   },
   "outputs": [
    {
     "data": {
      "text/html": [
       "<pre style=\"white-space:pre;overflow-x:auto;line-height:normal;font-family:Menlo,'DejaVu Sans Mono',consolas,'Courier New',monospace\"><span style=\"color: #800000; text-decoration-color: #800000\">╭─────────────────────────────────────── </span><span style=\"color: #800000; text-decoration-color: #800000; font-weight: bold\">Traceback </span><span style=\"color: #bf7f7f; text-decoration-color: #bf7f7f; font-weight: bold\">(most recent call last)</span><span style=\"color: #800000; text-decoration-color: #800000\"> ───────────────────────────────────────╮</span>\n",
       "<span style=\"color: #800000; text-decoration-color: #800000\">│</span> <span style=\"color: #bfbf7f; text-decoration-color: #bfbf7f\">/Users/ytong/envs/experiments/lib/python3.11/site-packages/grpc/</span><span style=\"color: #808000; text-decoration-color: #808000; font-weight: bold\">_interceptor.py</span>:<span style=\"color: #0000ff; text-decoration-color: #0000ff\">274</span> in <span style=\"color: #00ff00; text-decoration-color: #00ff00\">continuation</span>             <span style=\"color: #800000; text-decoration-color: #800000\">│</span>\n",
       "<span style=\"color: #800000; text-decoration-color: #800000\">│</span>                                                                                                                 <span style=\"color: #800000; text-decoration-color: #800000\">│</span>\n",
       "<span style=\"color: #800000; text-decoration-color: #800000\">│</span> <span style=\"color: #800000; text-decoration-color: #800000\">❱ </span>274 <span style=\"color: #7f7f7f; text-decoration-color: #7f7f7f\">│   │   │   │   </span>response, call = <span style=\"color: #00ffff; text-decoration-color: #00ffff\">self</span>._thunk(new_method).with_call(                                       <span style=\"color: #800000; text-decoration-color: #800000\">│</span>\n",
       "<span style=\"color: #800000; text-decoration-color: #800000\">│</span>                                                                                                                 <span style=\"color: #800000; text-decoration-color: #800000\">│</span>\n",
       "<span style=\"color: #800000; text-decoration-color: #800000\">│</span> <span style=\"color: #bfbf7f; text-decoration-color: #bfbf7f\">/Users/ytong/envs/experiments/lib/python3.11/site-packages/grpc/</span><span style=\"color: #808000; text-decoration-color: #808000; font-weight: bold\">_interceptor.py</span>:<span style=\"color: #0000ff; text-decoration-color: #0000ff\">301</span> in <span style=\"color: #00ff00; text-decoration-color: #00ff00\">with_call</span>                <span style=\"color: #800000; text-decoration-color: #800000\">│</span>\n",
       "<span style=\"color: #800000; text-decoration-color: #800000\">│</span>                                                                                                                 <span style=\"color: #800000; text-decoration-color: #800000\">│</span>\n",
       "<span style=\"color: #800000; text-decoration-color: #800000\">│</span> <span style=\"color: #800000; text-decoration-color: #800000\">❱ </span>301 <span style=\"color: #7f7f7f; text-decoration-color: #7f7f7f\">│   │   </span><span style=\"color: #0000ff; text-decoration-color: #0000ff\">return</span> <span style=\"color: #00ffff; text-decoration-color: #00ffff\">self</span>._with_call(request,                                                                   <span style=\"color: #800000; text-decoration-color: #800000\">│</span>\n",
       "<span style=\"color: #800000; text-decoration-color: #800000\">│</span>                                                                                                                 <span style=\"color: #800000; text-decoration-color: #800000\">│</span>\n",
       "<span style=\"color: #800000; text-decoration-color: #800000\">│</span> <span style=\"color: #bfbf7f; text-decoration-color: #bfbf7f\">/Users/ytong/envs/experiments/lib/python3.11/site-packages/grpc/</span><span style=\"color: #808000; text-decoration-color: #808000; font-weight: bold\">_interceptor.py</span>:<span style=\"color: #0000ff; text-decoration-color: #0000ff\">290</span> in <span style=\"color: #00ff00; text-decoration-color: #00ff00\">_with_call</span>               <span style=\"color: #800000; text-decoration-color: #800000\">│</span>\n",
       "<span style=\"color: #800000; text-decoration-color: #800000\">│</span>                                                                                                                 <span style=\"color: #800000; text-decoration-color: #800000\">│</span>\n",
       "<span style=\"color: #800000; text-decoration-color: #800000\">│</span> <span style=\"color: #800000; text-decoration-color: #800000\">❱ </span>290 <span style=\"color: #7f7f7f; text-decoration-color: #7f7f7f\">│   │   </span><span style=\"color: #0000ff; text-decoration-color: #0000ff\">return</span> call.result(), call                                                                        <span style=\"color: #800000; text-decoration-color: #800000\">│</span>\n",
       "<span style=\"color: #800000; text-decoration-color: #800000\">│</span>                                                                                                                 <span style=\"color: #800000; text-decoration-color: #800000\">│</span>\n",
       "<span style=\"color: #800000; text-decoration-color: #800000\">│</span> <span style=\"color: #bfbf7f; text-decoration-color: #bfbf7f\">/Users/ytong/envs/experiments/lib/python3.11/site-packages/grpc/</span><span style=\"color: #808000; text-decoration-color: #808000; font-weight: bold\">_channel.py</span>:<span style=\"color: #0000ff; text-decoration-color: #0000ff\">379</span> in <span style=\"color: #00ff00; text-decoration-color: #00ff00\">result</span>                       <span style=\"color: #800000; text-decoration-color: #800000\">│</span>\n",
       "<span style=\"color: #800000; text-decoration-color: #800000\">│</span>                                                                                                                 <span style=\"color: #800000; text-decoration-color: #800000\">│</span>\n",
       "<span style=\"color: #800000; text-decoration-color: #800000\">│</span> <span style=\"color: #800000; text-decoration-color: #800000\">❱ </span> 379 <span style=\"color: #7f7f7f; text-decoration-color: #7f7f7f\">│   │   </span><span style=\"color: #0000ff; text-decoration-color: #0000ff\">raise</span> <span style=\"color: #00ffff; text-decoration-color: #00ffff\">self</span>                                                                                       <span style=\"color: #800000; text-decoration-color: #800000\">│</span>\n",
       "<span style=\"color: #800000; text-decoration-color: #800000\">│</span>                                                                                                                 <span style=\"color: #800000; text-decoration-color: #800000\">│</span>\n",
       "<span style=\"color: #800000; text-decoration-color: #800000\">│</span> <span style=\"color: #bfbf7f; text-decoration-color: #bfbf7f\">/Users/ytong/envs/experiments/lib/python3.11/site-packages/grpc/</span><span style=\"color: #808000; text-decoration-color: #808000; font-weight: bold\">_interceptor.py</span>:<span style=\"color: #0000ff; text-decoration-color: #0000ff\">274</span> in <span style=\"color: #00ff00; text-decoration-color: #00ff00\">continuation</span>             <span style=\"color: #800000; text-decoration-color: #800000\">│</span>\n",
       "<span style=\"color: #800000; text-decoration-color: #800000\">│</span>                                                                                                                 <span style=\"color: #800000; text-decoration-color: #800000\">│</span>\n",
       "<span style=\"color: #800000; text-decoration-color: #800000\">│</span> <span style=\"color: #800000; text-decoration-color: #800000\">❱ </span>274 <span style=\"color: #7f7f7f; text-decoration-color: #7f7f7f\">│   │   │   │   </span>response, call = <span style=\"color: #00ffff; text-decoration-color: #00ffff\">self</span>._thunk(new_method).with_call(                                       <span style=\"color: #800000; text-decoration-color: #800000\">│</span>\n",
       "<span style=\"color: #800000; text-decoration-color: #800000\">│</span>                                                                                                                 <span style=\"color: #800000; text-decoration-color: #800000\">│</span>\n",
       "<span style=\"color: #800000; text-decoration-color: #800000\">│</span> <span style=\"color: #bfbf7f; text-decoration-color: #bfbf7f\">/Users/ytong/envs/experiments/lib/python3.11/site-packages/grpc/</span><span style=\"color: #808000; text-decoration-color: #808000; font-weight: bold\">_channel.py</span>:<span style=\"color: #0000ff; text-decoration-color: #0000ff\">1043</span> in <span style=\"color: #00ff00; text-decoration-color: #00ff00\">with_call</span>                   <span style=\"color: #800000; text-decoration-color: #800000\">│</span>\n",
       "<span style=\"color: #800000; text-decoration-color: #800000\">│</span>                                                                                                                 <span style=\"color: #800000; text-decoration-color: #800000\">│</span>\n",
       "<span style=\"color: #800000; text-decoration-color: #800000\">│</span> <span style=\"color: #800000; text-decoration-color: #800000\">❱ </span>1043 <span style=\"color: #7f7f7f; text-decoration-color: #7f7f7f\">│   │   </span><span style=\"color: #0000ff; text-decoration-color: #0000ff\">return</span> _end_unary_response_blocking(state, call, <span style=\"color: #0000ff; text-decoration-color: #0000ff\">True</span>, <span style=\"color: #0000ff; text-decoration-color: #0000ff\">None</span>)                                     <span style=\"color: #800000; text-decoration-color: #800000\">│</span>\n",
       "<span style=\"color: #800000; text-decoration-color: #800000\">│</span>                                                                                                                 <span style=\"color: #800000; text-decoration-color: #800000\">│</span>\n",
       "<span style=\"color: #800000; text-decoration-color: #800000\">│</span> <span style=\"color: #bfbf7f; text-decoration-color: #bfbf7f\">/Users/ytong/envs/experiments/lib/python3.11/site-packages/grpc/</span><span style=\"color: #808000; text-decoration-color: #808000; font-weight: bold\">_channel.py</span>:<span style=\"color: #0000ff; text-decoration-color: #0000ff\">910</span> in <span style=\"color: #00ff00; text-decoration-color: #00ff00\">_end_unary_response_blocking</span> <span style=\"color: #800000; text-decoration-color: #800000\">│</span>\n",
       "<span style=\"color: #800000; text-decoration-color: #800000\">│</span>                                                                                                                 <span style=\"color: #800000; text-decoration-color: #800000\">│</span>\n",
       "<span style=\"color: #800000; text-decoration-color: #800000\">│</span> <span style=\"color: #800000; text-decoration-color: #800000\">❱ </span> 910 <span style=\"color: #7f7f7f; text-decoration-color: #7f7f7f\">│   │   </span><span style=\"color: #0000ff; text-decoration-color: #0000ff\">raise</span> _InactiveRpcError(state)  <span style=\"color: #7f7f7f; text-decoration-color: #7f7f7f\"># pytype: disable=not-instantiable</span>                               <span style=\"color: #800000; text-decoration-color: #800000\">│</span>\n",
       "<span style=\"color: #800000; text-decoration-color: #800000\">╰─────────────────────────────────────────────────────────────────────────────────────────────────────────────────╯</span>\n",
       "<span style=\"color: #ff0000; text-decoration-color: #ff0000; font-weight: bold\">_InactiveRpcError: </span><span style=\"font-weight: bold\">&lt;</span><span style=\"color: #ff00ff; text-decoration-color: #ff00ff; font-weight: bold\">_InactiveRpcError</span><span style=\"color: #000000; text-decoration-color: #000000\"> of RPC that terminated with:</span>\n",
       "<span style=\"color: #000000; text-decoration-color: #000000\"> </span>       <span style=\"color: #000000; text-decoration-color: #000000\">status = StatusCode.INVALID_ARGUMENT</span>\n",
       "<span style=\"color: #000000; text-decoration-color: #000000\"> </span>       <span style=\"color: #000000; text-decoration-color: #000000\">details = </span><span style=\"color: #008000; text-decoration-color: #008000\">\"expected_inputs kickoff_time missing\"</span>\n",
       "<span style=\"color: #000000; text-decoration-color: #000000\"> </span>       <span style=\"color: #000000; text-decoration-color: #000000\">debug_error_string = </span><span style=\"color: #008000; text-decoration-color: #008000\">\"UNKNOWN:Error received from peer  {created_time:\"</span><span style=\"color: #008080; text-decoration-color: #008080; font-weight: bold\">2023</span><span style=\"color: #000000; text-decoration-color: #000000\">-</span><span style=\"color: #008080; text-decoration-color: #008080; font-weight: bold\">09</span><span style=\"color: #000000; text-decoration-color: #000000\">-22T</span><span style=\"color: #00ff00; text-decoration-color: #00ff00; font-weight: bold\">14:23:23</span><span style=\"color: #000000; text-decoration-color: #000000\">.</span><span style=\"color: #008080; text-decoration-color: #008080; font-weight: bold\">918417</span><span style=\"color: #000000; text-decoration-color: #000000\">-</span><span style=\"color: #00ff00; text-decoration-color: #00ff00; font-weight: bold\">07:00</span><span style=\"color: #000000; text-decoration-color: #000000\">\", </span>\n",
       "<span style=\"color: #000000; text-decoration-color: #000000\">grpc_status:</span><span style=\"color: #008080; text-decoration-color: #008080; font-weight: bold\">3</span><span style=\"color: #000000; text-decoration-color: #000000\">, grpc_message:</span><span style=\"color: #008000; text-decoration-color: #008000\">\"expected_inputs kickoff_time missing\"</span><span style=\"color: #000000; text-decoration-color: #000000; font-weight: bold\">}</span><span style=\"color: #000000; text-decoration-color: #000000\">\"</span>\n",
       "<span style=\"font-weight: bold\">&gt;</span>\n",
       "\n",
       "<span style=\"font-style: italic\">The above exception was the direct cause of the following exception:</span>\n",
       "\n",
       "<span style=\"color: #800000; text-decoration-color: #800000\">╭─────────────────────────────────────── </span><span style=\"color: #800000; text-decoration-color: #800000; font-weight: bold\">Traceback </span><span style=\"color: #bf7f7f; text-decoration-color: #bf7f7f; font-weight: bold\">(most recent call last)</span><span style=\"color: #800000; text-decoration-color: #800000\"> ───────────────────────────────────────╮</span>\n",
       "<span style=\"color: #800000; text-decoration-color: #800000\">│</span> in <span style=\"color: #00ff00; text-decoration-color: #00ff00\">&lt;module&gt;</span>:<span style=\"color: #0000ff; text-decoration-color: #0000ff\">1</span>                                                                                                   <span style=\"color: #800000; text-decoration-color: #800000\">│</span>\n",
       "<span style=\"color: #800000; text-decoration-color: #800000\">│</span>                                                                                                                 <span style=\"color: #800000; text-decoration-color: #800000\">│</span>\n",
       "<span style=\"color: #800000; text-decoration-color: #800000\">│</span> <span style=\"color: #800000; text-decoration-color: #800000\">❱ </span>1 r.execute(run_train_model_wf, inputs={<span style=\"color: #808000; text-decoration-color: #808000\">\"region\"</span>: <span style=\"color: #808000; text-decoration-color: #808000\">\"SEA\"</span>, <span style=\"color: #808000; text-decoration-color: #808000\">\"data\"</span>: a})                                          <span style=\"color: #800000; text-decoration-color: #800000\">│</span>\n",
       "<span style=\"color: #800000; text-decoration-color: #800000\">│</span>                                                                                                                 <span style=\"color: #800000; text-decoration-color: #800000\">│</span>\n",
       "<span style=\"color: #800000; text-decoration-color: #800000\">│</span> <span style=\"color: #bfbf7f; text-decoration-color: #bfbf7f\">/Users/ytong/go/src/github.com/unionai/flytekit/flytekit/remote/</span><span style=\"color: #808000; text-decoration-color: #808000; font-weight: bold\">remote.py</span>:<span style=\"color: #0000ff; text-decoration-color: #0000ff\">1247</span> in <span style=\"color: #00ff00; text-decoration-color: #00ff00\">execute</span>                       <span style=\"color: #800000; text-decoration-color: #800000\">│</span>\n",
       "<span style=\"color: #800000; text-decoration-color: #800000\">│</span>                                                                                                                 <span style=\"color: #800000; text-decoration-color: #800000\">│</span>\n",
       "<span style=\"color: #800000; text-decoration-color: #800000\">│</span> <span style=\"color: #800000; text-decoration-color: #800000\">❱ </span>1247 <span style=\"color: #7f7f7f; text-decoration-color: #7f7f7f\">│   │   │   </span><span style=\"color: #0000ff; text-decoration-color: #0000ff\">return</span> <span style=\"color: #00ffff; text-decoration-color: #00ffff\">self</span>.execute_remote_wf(                                                               <span style=\"color: #800000; text-decoration-color: #800000\">│</span>\n",
       "<span style=\"color: #800000; text-decoration-color: #800000\">│</span>                                                                                                                 <span style=\"color: #800000; text-decoration-color: #800000\">│</span>\n",
       "<span style=\"color: #800000; text-decoration-color: #800000\">│</span> <span style=\"color: #bfbf7f; text-decoration-color: #bfbf7f\">/Users/ytong/go/src/github.com/unionai/flytekit/flytekit/remote/</span><span style=\"color: #808000; text-decoration-color: #808000; font-weight: bold\">remote.py</span>:<span style=\"color: #0000ff; text-decoration-color: #0000ff\">1354</span> in <span style=\"color: #00ff00; text-decoration-color: #00ff00\">execute_remote_wf</span>             <span style=\"color: #800000; text-decoration-color: #800000\">│</span>\n",
       "<span style=\"color: #800000; text-decoration-color: #800000\">│</span>                                                                                                                 <span style=\"color: #800000; text-decoration-color: #800000\">│</span>\n",
       "<span style=\"color: #800000; text-decoration-color: #800000\">│</span> <span style=\"color: #800000; text-decoration-color: #800000\">❱ </span>1354 <span style=\"color: #7f7f7f; text-decoration-color: #7f7f7f\">│   │   </span><span style=\"color: #0000ff; text-decoration-color: #0000ff\">return</span> <span style=\"color: #00ffff; text-decoration-color: #00ffff\">self</span>.execute_remote_task_lp(                                                              <span style=\"color: #800000; text-decoration-color: #800000\">│</span>\n",
       "<span style=\"color: #800000; text-decoration-color: #800000\">│</span>                                                                                                                 <span style=\"color: #800000; text-decoration-color: #800000\">│</span>\n",
       "<span style=\"color: #800000; text-decoration-color: #800000\">│</span> <span style=\"color: #bfbf7f; text-decoration-color: #bfbf7f\">/Users/ytong/go/src/github.com/unionai/flytekit/flytekit/remote/</span><span style=\"color: #808000; text-decoration-color: #808000; font-weight: bold\">remote.py</span>:<span style=\"color: #0000ff; text-decoration-color: #0000ff\">1323</span> in <span style=\"color: #00ff00; text-decoration-color: #00ff00\">execute_remote_task_lp</span>        <span style=\"color: #800000; text-decoration-color: #800000\">│</span>\n",
       "<span style=\"color: #800000; text-decoration-color: #800000\">│</span>                                                                                                                 <span style=\"color: #800000; text-decoration-color: #800000\">│</span>\n",
       "<span style=\"color: #800000; text-decoration-color: #800000\">│</span> <span style=\"color: #800000; text-decoration-color: #800000\">❱ </span>1323 <span style=\"color: #7f7f7f; text-decoration-color: #7f7f7f\">│   │   </span><span style=\"color: #0000ff; text-decoration-color: #0000ff\">return</span> <span style=\"color: #00ffff; text-decoration-color: #00ffff\">self</span>._execute(                                                                            <span style=\"color: #800000; text-decoration-color: #800000\">│</span>\n",
       "<span style=\"color: #800000; text-decoration-color: #800000\">│</span>                                                                                                                 <span style=\"color: #800000; text-decoration-color: #800000\">│</span>\n",
       "<span style=\"color: #800000; text-decoration-color: #800000\">│</span> <span style=\"color: #bfbf7f; text-decoration-color: #bfbf7f\">/Users/ytong/go/src/github.com/unionai/flytekit/flytekit/remote/</span><span style=\"color: #808000; text-decoration-color: #808000; font-weight: bold\">remote.py</span>:<span style=\"color: #0000ff; text-decoration-color: #0000ff\">1110</span> in <span style=\"color: #00ff00; text-decoration-color: #00ff00\">_execute</span>                      <span style=\"color: #800000; text-decoration-color: #800000\">│</span>\n",
       "<span style=\"color: #800000; text-decoration-color: #800000\">│</span>                                                                                                                 <span style=\"color: #800000; text-decoration-color: #800000\">│</span>\n",
       "<span style=\"color: #800000; text-decoration-color: #800000\">│</span> <span style=\"color: #800000; text-decoration-color: #800000\">❱ </span>1110 <span style=\"color: #7f7f7f; text-decoration-color: #7f7f7f\">│   │   │   </span>exec_id = <span style=\"color: #00ffff; text-decoration-color: #00ffff\">self</span>.client.create_execution(                                                      <span style=\"color: #800000; text-decoration-color: #800000\">│</span>\n",
       "<span style=\"color: #800000; text-decoration-color: #800000\">│</span>                                                                                                                 <span style=\"color: #800000; text-decoration-color: #800000\">│</span>\n",
       "<span style=\"color: #800000; text-decoration-color: #800000\">│</span> <span style=\"color: #bfbf7f; text-decoration-color: #bfbf7f\">/Users/ytong/go/src/github.com/unionai/flytekit/flytekit/clients/</span><span style=\"color: #808000; text-decoration-color: #808000; font-weight: bold\">friendly.py</span>:<span style=\"color: #0000ff; text-decoration-color: #0000ff\">552</span> in <span style=\"color: #00ff00; text-decoration-color: #00ff00\">create_execution</span>            <span style=\"color: #800000; text-decoration-color: #800000\">│</span>\n",
       "<span style=\"color: #800000; text-decoration-color: #800000\">│</span>                                                                                                                 <span style=\"color: #800000; text-decoration-color: #800000\">│</span>\n",
       "<span style=\"color: #800000; text-decoration-color: #800000\">│</span> <span style=\"color: #800000; text-decoration-color: #800000\">❱ </span> 552 <span style=\"color: #7f7f7f; text-decoration-color: #7f7f7f\">│   │   │   </span>.create_execution(                                                                           <span style=\"color: #800000; text-decoration-color: #800000\">│</span>\n",
       "<span style=\"color: #800000; text-decoration-color: #800000\">│</span>                                                                                                                 <span style=\"color: #800000; text-decoration-color: #800000\">│</span>\n",
       "<span style=\"color: #800000; text-decoration-color: #800000\">│</span> <span style=\"color: #bfbf7f; text-decoration-color: #bfbf7f\">/Users/ytong/go/src/github.com/unionai/flytekit/flytekit/clients/</span><span style=\"color: #808000; text-decoration-color: #808000; font-weight: bold\">raw.py</span>:<span style=\"color: #0000ff; text-decoration-color: #0000ff\">354</span> in <span style=\"color: #00ff00; text-decoration-color: #00ff00\">create_execution</span>                 <span style=\"color: #800000; text-decoration-color: #800000\">│</span>\n",
       "<span style=\"color: #800000; text-decoration-color: #800000\">│</span>                                                                                                                 <span style=\"color: #800000; text-decoration-color: #800000\">│</span>\n",
       "<span style=\"color: #800000; text-decoration-color: #800000\">│</span> <span style=\"color: #800000; text-decoration-color: #800000\">❱ </span>354 <span style=\"color: #7f7f7f; text-decoration-color: #7f7f7f\">│   │   </span><span style=\"color: #0000ff; text-decoration-color: #0000ff\">return</span> <span style=\"color: #00ffff; text-decoration-color: #00ffff\">self</span>._stub.CreateExecution(create_execution_request, metadata=<span style=\"color: #00ffff; text-decoration-color: #00ffff\">self</span>._metad                  <span style=\"color: #800000; text-decoration-color: #800000\">│</span>\n",
       "<span style=\"color: #800000; text-decoration-color: #800000\">│</span>                                                                                                                 <span style=\"color: #800000; text-decoration-color: #800000\">│</span>\n",
       "<span style=\"color: #800000; text-decoration-color: #800000\">│</span> <span style=\"color: #bfbf7f; text-decoration-color: #bfbf7f\">/Users/ytong/envs/experiments/lib/python3.11/site-packages/grpc/</span><span style=\"color: #808000; text-decoration-color: #808000; font-weight: bold\">_interceptor.py</span>:<span style=\"color: #0000ff; text-decoration-color: #0000ff\">247</span> in <span style=\"color: #00ff00; text-decoration-color: #00ff00\">__call__</span>                 <span style=\"color: #800000; text-decoration-color: #800000\">│</span>\n",
       "<span style=\"color: #800000; text-decoration-color: #800000\">│</span>                                                                                                                 <span style=\"color: #800000; text-decoration-color: #800000\">│</span>\n",
       "<span style=\"color: #800000; text-decoration-color: #800000\">│</span> <span style=\"color: #800000; text-decoration-color: #800000\">❱ </span>247 <span style=\"color: #7f7f7f; text-decoration-color: #7f7f7f\">│   │   </span>response, ignored_call = <span style=\"color: #00ffff; text-decoration-color: #00ffff\">self</span>._with_call(request,                                                 <span style=\"color: #800000; text-decoration-color: #800000\">│</span>\n",
       "<span style=\"color: #800000; text-decoration-color: #800000\">│</span>                                                                                                                 <span style=\"color: #800000; text-decoration-color: #800000\">│</span>\n",
       "<span style=\"color: #800000; text-decoration-color: #800000\">│</span> <span style=\"color: #bfbf7f; text-decoration-color: #bfbf7f\">/Users/ytong/envs/experiments/lib/python3.11/site-packages/grpc/</span><span style=\"color: #808000; text-decoration-color: #808000; font-weight: bold\">_interceptor.py</span>:<span style=\"color: #0000ff; text-decoration-color: #0000ff\">287</span> in <span style=\"color: #00ff00; text-decoration-color: #00ff00\">_with_call</span>               <span style=\"color: #800000; text-decoration-color: #800000\">│</span>\n",
       "<span style=\"color: #800000; text-decoration-color: #800000\">│</span>                                                                                                                 <span style=\"color: #800000; text-decoration-color: #800000\">│</span>\n",
       "<span style=\"color: #800000; text-decoration-color: #800000\">│</span> <span style=\"color: #800000; text-decoration-color: #800000\">❱ </span>287 <span style=\"color: #7f7f7f; text-decoration-color: #7f7f7f\">│   │   </span>call = <span style=\"color: #00ffff; text-decoration-color: #00ffff\">self</span>._interceptor.intercept_unary_unary(continuation,                                      <span style=\"color: #800000; text-decoration-color: #800000\">│</span>\n",
       "<span style=\"color: #800000; text-decoration-color: #800000\">│</span>                                                                                                                 <span style=\"color: #800000; text-decoration-color: #800000\">│</span>\n",
       "<span style=\"color: #800000; text-decoration-color: #800000\">│</span> <span style=\"color: #bfbf7f; text-decoration-color: #bfbf7f\">/Users/ytong/go/src/github.com/unionai/flytekit/flytekit/clients/grpc_utils/</span><span style=\"color: #808000; text-decoration-color: #808000; font-weight: bold\">wrap_exception_interceptor.py</span>:<span style=\"color: #0000ff; text-decoration-color: #0000ff\">44</span> in <span style=\"color: #800000; text-decoration-color: #800000\">│</span>\n",
       "<span style=\"color: #800000; text-decoration-color: #800000\">│</span> <span style=\"color: #00ff00; text-decoration-color: #00ff00\">intercept_unary_unary</span>                                                                                           <span style=\"color: #800000; text-decoration-color: #800000\">│</span>\n",
       "<span style=\"color: #800000; text-decoration-color: #800000\">│</span>                                                                                                                 <span style=\"color: #800000; text-decoration-color: #800000\">│</span>\n",
       "<span style=\"color: #800000; text-decoration-color: #800000\">│</span> <span style=\"color: #800000; text-decoration-color: #800000\">❱ </span>44 <span style=\"color: #7f7f7f; text-decoration-color: #7f7f7f\">│   │   │   │   │   </span><span style=\"color: #0000ff; text-decoration-color: #0000ff\">raise</span> e                                                                                <span style=\"color: #800000; text-decoration-color: #800000\">│</span>\n",
       "<span style=\"color: #800000; text-decoration-color: #800000\">│</span>                                                                                                                 <span style=\"color: #800000; text-decoration-color: #800000\">│</span>\n",
       "<span style=\"color: #800000; text-decoration-color: #800000\">│</span> <span style=\"color: #bfbf7f; text-decoration-color: #bfbf7f\">/Users/ytong/go/src/github.com/unionai/flytekit/flytekit/clients/grpc_utils/</span><span style=\"color: #808000; text-decoration-color: #808000; font-weight: bold\">wrap_exception_interceptor.py</span>:<span style=\"color: #0000ff; text-decoration-color: #0000ff\">40</span> in <span style=\"color: #800000; text-decoration-color: #800000\">│</span>\n",
       "<span style=\"color: #800000; text-decoration-color: #800000\">│</span> <span style=\"color: #00ff00; text-decoration-color: #00ff00\">intercept_unary_unary</span>                                                                                           <span style=\"color: #800000; text-decoration-color: #800000\">│</span>\n",
       "<span style=\"color: #800000; text-decoration-color: #800000\">│</span>                                                                                                                 <span style=\"color: #800000; text-decoration-color: #800000\">│</span>\n",
       "<span style=\"color: #800000; text-decoration-color: #800000\">│</span> <span style=\"color: #800000; text-decoration-color: #800000\">❱ </span>40 <span style=\"color: #7f7f7f; text-decoration-color: #7f7f7f\">│   │   │   │   │   </span><span style=\"color: #00ffff; text-decoration-color: #00ffff\">self</span>._raise_if_exc(request, e)                                                         <span style=\"color: #800000; text-decoration-color: #800000\">│</span>\n",
       "<span style=\"color: #800000; text-decoration-color: #800000\">│</span>                                                                                                                 <span style=\"color: #800000; text-decoration-color: #800000\">│</span>\n",
       "<span style=\"color: #800000; text-decoration-color: #800000\">│</span> <span style=\"color: #bfbf7f; text-decoration-color: #bfbf7f\">/Users/ytong/go/src/github.com/unionai/flytekit/flytekit/clients/grpc_utils/</span><span style=\"color: #808000; text-decoration-color: #808000; font-weight: bold\">wrap_exception_interceptor.py</span>:<span style=\"color: #0000ff; text-decoration-color: #0000ff\">30</span> in <span style=\"color: #800000; text-decoration-color: #800000\">│</span>\n",
       "<span style=\"color: #800000; text-decoration-color: #800000\">│</span> <span style=\"color: #00ff00; text-decoration-color: #00ff00\">_raise_if_exc</span>                                                                                                   <span style=\"color: #800000; text-decoration-color: #800000\">│</span>\n",
       "<span style=\"color: #800000; text-decoration-color: #800000\">│</span>                                                                                                                 <span style=\"color: #800000; text-decoration-color: #800000\">│</span>\n",
       "<span style=\"color: #800000; text-decoration-color: #800000\">│</span> <span style=\"color: #800000; text-decoration-color: #800000\">❱ </span>30 <span style=\"color: #7f7f7f; text-decoration-color: #7f7f7f\">│   │   │   │   </span><span style=\"color: #0000ff; text-decoration-color: #0000ff\">raise</span> FlyteInvalidInputException(request) <span style=\"color: #0000ff; text-decoration-color: #0000ff\">from</span> <span style=\"color: #00ffff; text-decoration-color: #00ffff; text-decoration: underline\">e</span>                                           <span style=\"color: #800000; text-decoration-color: #800000\">│</span>\n",
       "<span style=\"color: #800000; text-decoration-color: #800000\">╰─────────────────────────────────────────────────────────────────────────────────────────────────────────────────╯</span>\n",
       "<span style=\"color: #ff0000; text-decoration-color: #ff0000; font-weight: bold\">FlyteInvalidInputException</span>\n",
       "</pre>\n"
      ],
      "text/plain": [
       "\u001b[31m╭─\u001b[0m\u001b[31m──────────────────────────────────────\u001b[0m\u001b[31m \u001b[0m\u001b[1;31mTraceback \u001b[0m\u001b[1;2;31m(most recent call last)\u001b[0m\u001b[31m \u001b[0m\u001b[31m──────────────────────────────────────\u001b[0m\u001b[31m─╮\u001b[0m\n",
       "\u001b[31m│\u001b[0m \u001b[2;33m/Users/ytong/envs/experiments/lib/python3.11/site-packages/grpc/\u001b[0m\u001b[1;33m_interceptor.py\u001b[0m:\u001b[94m274\u001b[0m in \u001b[92mcontinuation\u001b[0m             \u001b[31m│\u001b[0m\n",
       "\u001b[31m│\u001b[0m                                                                                                                 \u001b[31m│\u001b[0m\n",
       "\u001b[31m│\u001b[0m \u001b[31m❱ \u001b[0m274 \u001b[2m│   │   │   │   \u001b[0mresponse, call = \u001b[96mself\u001b[0m._thunk(new_method).with_call(                                       \u001b[31m│\u001b[0m\n",
       "\u001b[31m│\u001b[0m                                                                                                                 \u001b[31m│\u001b[0m\n",
       "\u001b[31m│\u001b[0m \u001b[2;33m/Users/ytong/envs/experiments/lib/python3.11/site-packages/grpc/\u001b[0m\u001b[1;33m_interceptor.py\u001b[0m:\u001b[94m301\u001b[0m in \u001b[92mwith_call\u001b[0m                \u001b[31m│\u001b[0m\n",
       "\u001b[31m│\u001b[0m                                                                                                                 \u001b[31m│\u001b[0m\n",
       "\u001b[31m│\u001b[0m \u001b[31m❱ \u001b[0m301 \u001b[2m│   │   \u001b[0m\u001b[94mreturn\u001b[0m \u001b[96mself\u001b[0m._with_call(request,                                                                   \u001b[31m│\u001b[0m\n",
       "\u001b[31m│\u001b[0m                                                                                                                 \u001b[31m│\u001b[0m\n",
       "\u001b[31m│\u001b[0m \u001b[2;33m/Users/ytong/envs/experiments/lib/python3.11/site-packages/grpc/\u001b[0m\u001b[1;33m_interceptor.py\u001b[0m:\u001b[94m290\u001b[0m in \u001b[92m_with_call\u001b[0m               \u001b[31m│\u001b[0m\n",
       "\u001b[31m│\u001b[0m                                                                                                                 \u001b[31m│\u001b[0m\n",
       "\u001b[31m│\u001b[0m \u001b[31m❱ \u001b[0m290 \u001b[2m│   │   \u001b[0m\u001b[94mreturn\u001b[0m call.result(), call                                                                        \u001b[31m│\u001b[0m\n",
       "\u001b[31m│\u001b[0m                                                                                                                 \u001b[31m│\u001b[0m\n",
       "\u001b[31m│\u001b[0m \u001b[2;33m/Users/ytong/envs/experiments/lib/python3.11/site-packages/grpc/\u001b[0m\u001b[1;33m_channel.py\u001b[0m:\u001b[94m379\u001b[0m in \u001b[92mresult\u001b[0m                       \u001b[31m│\u001b[0m\n",
       "\u001b[31m│\u001b[0m                                                                                                                 \u001b[31m│\u001b[0m\n",
       "\u001b[31m│\u001b[0m \u001b[31m❱ \u001b[0m 379 \u001b[2m│   │   \u001b[0m\u001b[94mraise\u001b[0m \u001b[96mself\u001b[0m                                                                                       \u001b[31m│\u001b[0m\n",
       "\u001b[31m│\u001b[0m                                                                                                                 \u001b[31m│\u001b[0m\n",
       "\u001b[31m│\u001b[0m \u001b[2;33m/Users/ytong/envs/experiments/lib/python3.11/site-packages/grpc/\u001b[0m\u001b[1;33m_interceptor.py\u001b[0m:\u001b[94m274\u001b[0m in \u001b[92mcontinuation\u001b[0m             \u001b[31m│\u001b[0m\n",
       "\u001b[31m│\u001b[0m                                                                                                                 \u001b[31m│\u001b[0m\n",
       "\u001b[31m│\u001b[0m \u001b[31m❱ \u001b[0m274 \u001b[2m│   │   │   │   \u001b[0mresponse, call = \u001b[96mself\u001b[0m._thunk(new_method).with_call(                                       \u001b[31m│\u001b[0m\n",
       "\u001b[31m│\u001b[0m                                                                                                                 \u001b[31m│\u001b[0m\n",
       "\u001b[31m│\u001b[0m \u001b[2;33m/Users/ytong/envs/experiments/lib/python3.11/site-packages/grpc/\u001b[0m\u001b[1;33m_channel.py\u001b[0m:\u001b[94m1043\u001b[0m in \u001b[92mwith_call\u001b[0m                   \u001b[31m│\u001b[0m\n",
       "\u001b[31m│\u001b[0m                                                                                                                 \u001b[31m│\u001b[0m\n",
       "\u001b[31m│\u001b[0m \u001b[31m❱ \u001b[0m1043 \u001b[2m│   │   \u001b[0m\u001b[94mreturn\u001b[0m _end_unary_response_blocking(state, call, \u001b[94mTrue\u001b[0m, \u001b[94mNone\u001b[0m)                                     \u001b[31m│\u001b[0m\n",
       "\u001b[31m│\u001b[0m                                                                                                                 \u001b[31m│\u001b[0m\n",
       "\u001b[31m│\u001b[0m \u001b[2;33m/Users/ytong/envs/experiments/lib/python3.11/site-packages/grpc/\u001b[0m\u001b[1;33m_channel.py\u001b[0m:\u001b[94m910\u001b[0m in \u001b[92m_end_unary_response_blocking\u001b[0m \u001b[31m│\u001b[0m\n",
       "\u001b[31m│\u001b[0m                                                                                                                 \u001b[31m│\u001b[0m\n",
       "\u001b[31m│\u001b[0m \u001b[31m❱ \u001b[0m 910 \u001b[2m│   │   \u001b[0m\u001b[94mraise\u001b[0m _InactiveRpcError(state)  \u001b[2m# pytype: disable=not-instantiable\u001b[0m                               \u001b[31m│\u001b[0m\n",
       "\u001b[31m╰─────────────────────────────────────────────────────────────────────────────────────────────────────────────────╯\u001b[0m\n",
       "\u001b[1;91m_InactiveRpcError: \u001b[0m\u001b[1m<\u001b[0m\u001b[1;95m_InactiveRpcError\u001b[0m\u001b[39m of RPC that terminated with:\u001b[0m\n",
       "\u001b[39m \u001b[0m       \u001b[39mstatus = StatusCode.INVALID_ARGUMENT\u001b[0m\n",
       "\u001b[39m \u001b[0m       \u001b[39mdetails = \u001b[0m\u001b[32m\"expected_inputs kickoff_time missing\"\u001b[0m\n",
       "\u001b[39m \u001b[0m       \u001b[39mdebug_error_string = \u001b[0m\u001b[32m\"UNKNOWN:Error received from peer  \u001b[0m\u001b[32m{\u001b[0m\u001b[32mcreated_time:\"\u001b[0m\u001b[1;36m2023\u001b[0m\u001b[39m-\u001b[0m\u001b[1;36m09\u001b[0m\u001b[39m-22T\u001b[0m\u001b[1;92m14:23:23\u001b[0m\u001b[39m.\u001b[0m\u001b[1;36m918417\u001b[0m\u001b[39m-\u001b[0m\u001b[1;92m07:00\u001b[0m\u001b[39m\", \u001b[0m\n",
       "\u001b[39mgrpc_status:\u001b[0m\u001b[1;36m3\u001b[0m\u001b[39m, grpc_message:\u001b[0m\u001b[32m\"expected_inputs kickoff_time missing\"\u001b[0m\u001b[1;39m}\u001b[0m\u001b[39m\"\u001b[0m\n",
       "\u001b[1m>\u001b[0m\n",
       "\n",
       "\u001b[3mThe above exception was the direct cause of the following exception:\u001b[0m\n",
       "\n",
       "\u001b[31m╭─\u001b[0m\u001b[31m──────────────────────────────────────\u001b[0m\u001b[31m \u001b[0m\u001b[1;31mTraceback \u001b[0m\u001b[1;2;31m(most recent call last)\u001b[0m\u001b[31m \u001b[0m\u001b[31m──────────────────────────────────────\u001b[0m\u001b[31m─╮\u001b[0m\n",
       "\u001b[31m│\u001b[0m in \u001b[92m<module>\u001b[0m:\u001b[94m1\u001b[0m                                                                                                   \u001b[31m│\u001b[0m\n",
       "\u001b[31m│\u001b[0m                                                                                                                 \u001b[31m│\u001b[0m\n",
       "\u001b[31m│\u001b[0m \u001b[31m❱ \u001b[0m1 r.execute(run_train_model_wf, inputs={\u001b[33m\"\u001b[0m\u001b[33mregion\u001b[0m\u001b[33m\"\u001b[0m: \u001b[33m\"\u001b[0m\u001b[33mSEA\u001b[0m\u001b[33m\"\u001b[0m, \u001b[33m\"\u001b[0m\u001b[33mdata\u001b[0m\u001b[33m\"\u001b[0m: a})                                          \u001b[31m│\u001b[0m\n",
       "\u001b[31m│\u001b[0m                                                                                                                 \u001b[31m│\u001b[0m\n",
       "\u001b[31m│\u001b[0m \u001b[2;33m/Users/ytong/go/src/github.com/unionai/flytekit/flytekit/remote/\u001b[0m\u001b[1;33mremote.py\u001b[0m:\u001b[94m1247\u001b[0m in \u001b[92mexecute\u001b[0m                       \u001b[31m│\u001b[0m\n",
       "\u001b[31m│\u001b[0m                                                                                                                 \u001b[31m│\u001b[0m\n",
       "\u001b[31m│\u001b[0m \u001b[31m❱ \u001b[0m1247 \u001b[2m│   │   │   \u001b[0m\u001b[94mreturn\u001b[0m \u001b[96mself\u001b[0m.execute_remote_wf(                                                               \u001b[31m│\u001b[0m\n",
       "\u001b[31m│\u001b[0m                                                                                                                 \u001b[31m│\u001b[0m\n",
       "\u001b[31m│\u001b[0m \u001b[2;33m/Users/ytong/go/src/github.com/unionai/flytekit/flytekit/remote/\u001b[0m\u001b[1;33mremote.py\u001b[0m:\u001b[94m1354\u001b[0m in \u001b[92mexecute_remote_wf\u001b[0m             \u001b[31m│\u001b[0m\n",
       "\u001b[31m│\u001b[0m                                                                                                                 \u001b[31m│\u001b[0m\n",
       "\u001b[31m│\u001b[0m \u001b[31m❱ \u001b[0m1354 \u001b[2m│   │   \u001b[0m\u001b[94mreturn\u001b[0m \u001b[96mself\u001b[0m.execute_remote_task_lp(                                                              \u001b[31m│\u001b[0m\n",
       "\u001b[31m│\u001b[0m                                                                                                                 \u001b[31m│\u001b[0m\n",
       "\u001b[31m│\u001b[0m \u001b[2;33m/Users/ytong/go/src/github.com/unionai/flytekit/flytekit/remote/\u001b[0m\u001b[1;33mremote.py\u001b[0m:\u001b[94m1323\u001b[0m in \u001b[92mexecute_remote_task_lp\u001b[0m        \u001b[31m│\u001b[0m\n",
       "\u001b[31m│\u001b[0m                                                                                                                 \u001b[31m│\u001b[0m\n",
       "\u001b[31m│\u001b[0m \u001b[31m❱ \u001b[0m1323 \u001b[2m│   │   \u001b[0m\u001b[94mreturn\u001b[0m \u001b[96mself\u001b[0m._execute(                                                                            \u001b[31m│\u001b[0m\n",
       "\u001b[31m│\u001b[0m                                                                                                                 \u001b[31m│\u001b[0m\n",
       "\u001b[31m│\u001b[0m \u001b[2;33m/Users/ytong/go/src/github.com/unionai/flytekit/flytekit/remote/\u001b[0m\u001b[1;33mremote.py\u001b[0m:\u001b[94m1110\u001b[0m in \u001b[92m_execute\u001b[0m                      \u001b[31m│\u001b[0m\n",
       "\u001b[31m│\u001b[0m                                                                                                                 \u001b[31m│\u001b[0m\n",
       "\u001b[31m│\u001b[0m \u001b[31m❱ \u001b[0m1110 \u001b[2m│   │   │   \u001b[0mexec_id = \u001b[96mself\u001b[0m.client.create_execution(                                                      \u001b[31m│\u001b[0m\n",
       "\u001b[31m│\u001b[0m                                                                                                                 \u001b[31m│\u001b[0m\n",
       "\u001b[31m│\u001b[0m \u001b[2;33m/Users/ytong/go/src/github.com/unionai/flytekit/flytekit/clients/\u001b[0m\u001b[1;33mfriendly.py\u001b[0m:\u001b[94m552\u001b[0m in \u001b[92mcreate_execution\u001b[0m            \u001b[31m│\u001b[0m\n",
       "\u001b[31m│\u001b[0m                                                                                                                 \u001b[31m│\u001b[0m\n",
       "\u001b[31m│\u001b[0m \u001b[31m❱ \u001b[0m 552 \u001b[2m│   │   │   \u001b[0m.create_execution(                                                                           \u001b[31m│\u001b[0m\n",
       "\u001b[31m│\u001b[0m                                                                                                                 \u001b[31m│\u001b[0m\n",
       "\u001b[31m│\u001b[0m \u001b[2;33m/Users/ytong/go/src/github.com/unionai/flytekit/flytekit/clients/\u001b[0m\u001b[1;33mraw.py\u001b[0m:\u001b[94m354\u001b[0m in \u001b[92mcreate_execution\u001b[0m                 \u001b[31m│\u001b[0m\n",
       "\u001b[31m│\u001b[0m                                                                                                                 \u001b[31m│\u001b[0m\n",
       "\u001b[31m│\u001b[0m \u001b[31m❱ \u001b[0m354 \u001b[2m│   │   \u001b[0m\u001b[94mreturn\u001b[0m \u001b[96mself\u001b[0m._stub.CreateExecution(create_execution_request, metadata=\u001b[96mself\u001b[0m._metad                  \u001b[31m│\u001b[0m\n",
       "\u001b[31m│\u001b[0m                                                                                                                 \u001b[31m│\u001b[0m\n",
       "\u001b[31m│\u001b[0m \u001b[2;33m/Users/ytong/envs/experiments/lib/python3.11/site-packages/grpc/\u001b[0m\u001b[1;33m_interceptor.py\u001b[0m:\u001b[94m247\u001b[0m in \u001b[92m__call__\u001b[0m                 \u001b[31m│\u001b[0m\n",
       "\u001b[31m│\u001b[0m                                                                                                                 \u001b[31m│\u001b[0m\n",
       "\u001b[31m│\u001b[0m \u001b[31m❱ \u001b[0m247 \u001b[2m│   │   \u001b[0mresponse, ignored_call = \u001b[96mself\u001b[0m._with_call(request,                                                 \u001b[31m│\u001b[0m\n",
       "\u001b[31m│\u001b[0m                                                                                                                 \u001b[31m│\u001b[0m\n",
       "\u001b[31m│\u001b[0m \u001b[2;33m/Users/ytong/envs/experiments/lib/python3.11/site-packages/grpc/\u001b[0m\u001b[1;33m_interceptor.py\u001b[0m:\u001b[94m287\u001b[0m in \u001b[92m_with_call\u001b[0m               \u001b[31m│\u001b[0m\n",
       "\u001b[31m│\u001b[0m                                                                                                                 \u001b[31m│\u001b[0m\n",
       "\u001b[31m│\u001b[0m \u001b[31m❱ \u001b[0m287 \u001b[2m│   │   \u001b[0mcall = \u001b[96mself\u001b[0m._interceptor.intercept_unary_unary(continuation,                                      \u001b[31m│\u001b[0m\n",
       "\u001b[31m│\u001b[0m                                                                                                                 \u001b[31m│\u001b[0m\n",
       "\u001b[31m│\u001b[0m \u001b[2;33m/Users/ytong/go/src/github.com/unionai/flytekit/flytekit/clients/grpc_utils/\u001b[0m\u001b[1;33mwrap_exception_interceptor.py\u001b[0m:\u001b[94m44\u001b[0m in \u001b[31m│\u001b[0m\n",
       "\u001b[31m│\u001b[0m \u001b[92mintercept_unary_unary\u001b[0m                                                                                           \u001b[31m│\u001b[0m\n",
       "\u001b[31m│\u001b[0m                                                                                                                 \u001b[31m│\u001b[0m\n",
       "\u001b[31m│\u001b[0m \u001b[31m❱ \u001b[0m44 \u001b[2m│   │   │   │   │   \u001b[0m\u001b[94mraise\u001b[0m e                                                                                \u001b[31m│\u001b[0m\n",
       "\u001b[31m│\u001b[0m                                                                                                                 \u001b[31m│\u001b[0m\n",
       "\u001b[31m│\u001b[0m \u001b[2;33m/Users/ytong/go/src/github.com/unionai/flytekit/flytekit/clients/grpc_utils/\u001b[0m\u001b[1;33mwrap_exception_interceptor.py\u001b[0m:\u001b[94m40\u001b[0m in \u001b[31m│\u001b[0m\n",
       "\u001b[31m│\u001b[0m \u001b[92mintercept_unary_unary\u001b[0m                                                                                           \u001b[31m│\u001b[0m\n",
       "\u001b[31m│\u001b[0m                                                                                                                 \u001b[31m│\u001b[0m\n",
       "\u001b[31m│\u001b[0m \u001b[31m❱ \u001b[0m40 \u001b[2m│   │   │   │   │   \u001b[0m\u001b[96mself\u001b[0m._raise_if_exc(request, e)                                                         \u001b[31m│\u001b[0m\n",
       "\u001b[31m│\u001b[0m                                                                                                                 \u001b[31m│\u001b[0m\n",
       "\u001b[31m│\u001b[0m \u001b[2;33m/Users/ytong/go/src/github.com/unionai/flytekit/flytekit/clients/grpc_utils/\u001b[0m\u001b[1;33mwrap_exception_interceptor.py\u001b[0m:\u001b[94m30\u001b[0m in \u001b[31m│\u001b[0m\n",
       "\u001b[31m│\u001b[0m \u001b[92m_raise_if_exc\u001b[0m                                                                                                   \u001b[31m│\u001b[0m\n",
       "\u001b[31m│\u001b[0m                                                                                                                 \u001b[31m│\u001b[0m\n",
       "\u001b[31m│\u001b[0m \u001b[31m❱ \u001b[0m30 \u001b[2m│   │   │   │   \u001b[0m\u001b[94mraise\u001b[0m FlyteInvalidInputException(request) \u001b[94mfrom\u001b[0m \u001b[4;96me\u001b[0m                                           \u001b[31m│\u001b[0m\n",
       "\u001b[31m╰─────────────────────────────────────────────────────────────────────────────────────────────────────────────────╯\u001b[0m\n",
       "\u001b[1;91mFlyteInvalidInputException\u001b[0m\n"
      ]
     },
     "metadata": {},
     "output_type": "display_data"
    }
   ],
   "source": [
    "r.execute(run_train_model_wf, inputs={\"region\": \"SEA\", \"data\": a})"
   ]
  },
  {
   "cell_type": "markdown",
   "id": "a9744eaf",
   "metadata": {},
   "source": [
    "Execute without specifying the data. Note that the fetched artifact should match what was picked up by the query when it was kicked off."
   ]
  },
  {
   "cell_type": "code",
   "execution_count": 16,
   "id": "5d561224-3403-459a-8575-cb7789cb4ba1",
   "metadata": {},
   "outputs": [],
   "source": [
    "import pytz\n",
    "dd = datetime(2023, 9, 5)\n",
    "dd = dd.astimezone(pytz.UTC).replace(tzinfo=None)\n",
    "             "
   ]
  },
  {
   "cell_type": "code",
   "execution_count": 17,
   "id": "95e12fea",
   "metadata": {
    "scrolled": true
   },
   "outputs": [
    {
     "data": {
      "text/plain": [
       "<FlyteLiteral id { project: \"flytesnacks\" domain: \"development\" name: \"f02f191a29dfc494bacf\" } spec { launch_plan { resource_type: LAUNCH_PLAN project: \"flytesnacks\" domain: \"development\" name: \"artifact_ux.basic_ml.run_train_model\" version: \"a4\" } metadata { system_metadata { } } notifications { } labels { } annotations { } auth_role { } } closure { started_at { } duration { } created_at { seconds: 1695419932 nanos: 514329000 } updated_at { seconds: 1695419932 nanos: 514329000 } }>"
      ]
     },
     "execution_count": 17,
     "metadata": {},
     "output_type": "execute_result"
    }
   ],
   "source": [
    "r.execute(run_train_model_wf, inputs={\"region\": \"SEA\", \"kickoff_time\": dd})"
   ]
  },
  {
   "cell_type": "code",
   "execution_count": 10,
   "id": "69b444c4",
   "metadata": {},
   "outputs": [],
   "source": [
    "queried_artifact = r.get_artifact(f\"flyte://av0.1/flytesnacks/development/ride_count_data?region=SEA&ds=2023-09-58\")"
   ]
  },
  {
   "cell_type": "code",
   "execution_count": 11,
   "id": "0f4a8ac9",
   "metadata": {},
   "outputs": [
    {
     "data": {
      "text/plain": [
       "Artifact: project=flytesnacks, domain=development, name=ride_count_data, version=flytesnacks/development/allr5shv4s48682kqvzw/n0/0/o0\n",
       "  name=ride_count_data\n",
       "  partitions={'ds': '2023-09-58', 'region': 'SEA'}\n",
       "  tags=None\n",
       "  literal_type=<FlyteLiteral structured_dataset_type { }>, literal=<FlyteLiteral scalar { structured_dataset { uri: \"s3://my-s3-bucket/data/yq/allr5shv4s48682kqvzw-n0-0/8b770555d240e71f4f25120b9bedc66d\" metadata { structured_dataset_type { format: \"parquet\" } } } }>)"
      ]
     },
     "execution_count": 11,
     "metadata": {},
     "output_type": "execute_result"
    }
   ],
   "source": [
    "queried_artifact"
   ]
  },
  {
   "cell_type": "code",
   "execution_count": 31,
   "id": "9bd0e392",
   "metadata": {},
   "outputs": [],
   "source": [
    "model_artifact = r.get_artifact(f\"flyte://av0.1/flytesnacks/development/my-model:SEA\")"
   ]
  },
  {
   "cell_type": "code",
   "execution_count": 32,
   "id": "3d9730c7",
   "metadata": {},
   "outputs": [
    {
     "data": {
      "text/plain": [
       "Artifact: project=flytesnacks, domain=development, name=my-model, version=f68afeb27fef44450b74\n",
       "  name=my-model\n",
       "  partitions=None\n",
       "  tags=['SEA']\n",
       "  literal_type=<FlyteLiteral blob { }>, literal=<FlyteLiteral scalar { blob { metadata { type { } } uri: \"s3://my-s3-bucket/data/i3/f68afeb27fef44450b74-n0-0/ec021ab359f2e8c36198b2a4b553dbd5/demo_ml.py\" } }>)"
      ]
     },
     "execution_count": 32,
     "metadata": {},
     "output_type": "execute_result"
    }
   ],
   "source": [
    "model_artifact"
   ]
  },
  {
   "cell_type": "code",
   "execution_count": null,
   "id": "15d81fd1",
   "metadata": {},
   "outputs": [],
   "source": []
  }
 ],
 "metadata": {
  "kernelspec": {
   "display_name": "Python 3 (ipykernel)",
   "language": "python",
   "name": "python3"
  },
  "language_info": {
   "codemirror_mode": {
    "name": "ipython",
    "version": 3
   },
   "file_extension": ".py",
   "mimetype": "text/x-python",
   "name": "python",
   "nbconvert_exporter": "python",
   "pygments_lexer": "ipython3",
   "version": "3.11.4"
  }
 },
 "nbformat": 4,
 "nbformat_minor": 5
}
