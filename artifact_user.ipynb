{
 "cells": [
  {
   "cell_type": "code",
   "execution_count": 1,
   "id": "5774d172",
   "metadata": {},
   "outputs": [],
   "source": [
    "import typing\n",
    "import pandas as pd\n",
    "import pytz\n",
    "from datetime import datetime\n",
    "\n",
    "from typing_extensions import Annotated\n",
    "\n",
    "from flytekit.remote.remote import FlyteRemote\n",
    "from flytekit import task, workflow, LaunchPlan\n",
    "from flytekit.configuration import Config\n",
    "from flytekit.core.artifact import Artifact\n",
    "from flytekit.extend import TypeEngine\n",
    "from flyteidl.artifact import artifacts_pb2\n",
    "from flyteidl.core import artifact_id_pb2 as art_id\n",
    "from flyteidl.core import identifier_pb2\n",
    "\n",
    "from flytekit.core.context_manager import FlyteContextManager\n",
    "from flytekit.types.structured.structured_dataset import StructuredDataset"
   ]
  },
  {
   "cell_type": "code",
   "execution_count": 2,
   "id": "43ae3177",
   "metadata": {},
   "outputs": [],
   "source": [
    "r = FlyteRemote(\n",
    "    Config.auto(config_file=\"/Users/ytong/.flyte/config-sandbox.yaml\"),\n",
    "    default_project=\"flytesnacks\",\n",
    "    default_domain=\"development\",\n",
    ")"
   ]
  },
  {
   "cell_type": "markdown",
   "id": "837401e3-fc72-4d4f-8427-d6dab8acc0e4",
   "metadata": {},
   "source": [
    "### demo_ml.py"
   ]
  },
  {
   "cell_type": "markdown",
   "id": "f3922284-48c0-4f90-a0f7-614ced8cac2a",
   "metadata": {},
   "source": [
    "#### Getting an artifact (via a uri)"
   ]
  },
  {
   "cell_type": "markdown",
   "id": "881931fc-3e44-43b8-a157-0b1395b9da1f",
   "metadata": {},
   "source": [
    "First run the `artifact_ux.demo_ml.run_gather_data` workflow. This workflow just runs one simple task three times, each producing a dataframe. Note the `RideCountData` annotation on the output of the `gather_data` task."
   ]
  },
  {
   "cell_type": "markdown",
   "id": "6e99911c-d83f-402f-8319-d1efef15a509",
   "metadata": {},
   "source": [
    "NB: The binding syntax for specifying that the partitions depend on an input will be changing. We don't like exposing a string based template as it feels too error prone. "
   ]
  },
  {
   "cell_type": "markdown",
   "id": "8d32360d-b9ea-4133-bb6f-c18f1af5b65b",
   "metadata": {},
   "source": [
    "The artifacts produced by the task can be searched for by a message that we've mapped to a uri."
   ]
  },
  {
   "cell_type": "code",
   "execution_count": 3,
   "id": "33e8ebb9-d384-4e6c-a176-29e97ebe77aa",
   "metadata": {},
   "outputs": [
    {
     "data": {
      "text/plain": [
       "Artifact: project=flytesnacks, domain=development, name=ride_count_data, version=af2x4txljlx8tw8dxtsq/n0/0/o0\n",
       "  name=ride_count_data\n",
       "  partitions=<flytekit.core.artifact.Partitions object at 0x13a159650>\n",
       "  tags=None\n",
       "  literal_type=<FlyteLiteral structured_dataset_type { }>, literal=<FlyteLiteral scalar { structured_dataset { uri: \"s3://my-s3-bucket/data/xf/af2x4txljlx8tw8dxtsq-n0-0/78ca7ff15a4713815cd282e857641b43\" metadata { structured_dataset_type { format: \"parquet\" } } } }>)"
      ]
     },
     "execution_count": 3,
     "metadata": {},
     "output_type": "execute_result"
    }
   ],
   "source": [
    "a = r.get_artifact(f\"flyte://av0.1/flytesnacks/development/ride_count_data?region=SEA&ds=2023-11-14\")\n",
    "a"
   ]
  },
  {
   "cell_type": "markdown",
   "id": "c87c5701-1cc9-41df-9783-58224ad8516d",
   "metadata": {},
   "source": [
    "This is standard flytekit code - it pulls down and converts the value from a Flyte literal to a Python literal."
   ]
  },
  {
   "cell_type": "code",
   "execution_count": 4,
   "id": "642e0cc6",
   "metadata": {},
   "outputs": [],
   "source": [
    "ctx = FlyteContextManager.current_context()\n",
    "v = TypeEngine.to_python_value(ctx, a.literal, pd.DataFrame)"
   ]
  },
  {
   "cell_type": "code",
   "execution_count": 5,
   "id": "0e2ed74a",
   "metadata": {},
   "outputs": [
    {
     "data": {
      "text/html": [
       "<div>\n",
       "<style scoped>\n",
       "    .dataframe tbody tr th:only-of-type {\n",
       "        vertical-align: middle;\n",
       "    }\n",
       "\n",
       "    .dataframe tbody tr th {\n",
       "        vertical-align: top;\n",
       "    }\n",
       "\n",
       "    .dataframe thead th {\n",
       "        text-align: right;\n",
       "    }\n",
       "</style>\n",
       "<table border=\"1\" class=\"dataframe\">\n",
       "  <thead>\n",
       "    <tr style=\"text-align: right;\">\n",
       "      <th></th>\n",
       "      <th>sectors</th>\n",
       "      <th>rides</th>\n",
       "    </tr>\n",
       "  </thead>\n",
       "  <tbody>\n",
       "    <tr>\n",
       "      <th>0</th>\n",
       "      <td>SEA</td>\n",
       "      <td>731</td>\n",
       "    </tr>\n",
       "    <tr>\n",
       "      <th>1</th>\n",
       "      <td>SAE</td>\n",
       "      <td>358</td>\n",
       "    </tr>\n",
       "    <tr>\n",
       "      <th>2</th>\n",
       "      <td>ESA</td>\n",
       "      <td>877</td>\n",
       "    </tr>\n",
       "    <tr>\n",
       "      <th>3</th>\n",
       "      <td>EAS</td>\n",
       "      <td>199</td>\n",
       "    </tr>\n",
       "    <tr>\n",
       "      <th>4</th>\n",
       "      <td>ASE</td>\n",
       "      <td>643</td>\n",
       "    </tr>\n",
       "    <tr>\n",
       "      <th>5</th>\n",
       "      <td>AES</td>\n",
       "      <td>722</td>\n",
       "    </tr>\n",
       "  </tbody>\n",
       "</table>\n",
       "</div>"
      ],
      "text/plain": [
       "  sectors  rides\n",
       "0     SEA    731\n",
       "1     SAE    358\n",
       "2     ESA    877\n",
       "3     EAS    199\n",
       "4     ASE    643\n",
       "5     AES    722"
      ]
     },
     "execution_count": 5,
     "metadata": {},
     "output_type": "execute_result"
    }
   ],
   "source": [
    "v"
   ]
  },
  {
   "cell_type": "markdown",
   "id": "a8f20f7b",
   "metadata": {},
   "source": [
    "#### Using an artifact to Launch"
   ]
  },
  {
   "cell_type": "markdown",
   "id": "481585d0",
   "metadata": {},
   "source": [
    "kick off new execution with the fetched artifact, confirm it can be used and querying doesn't fail.\n",
    "then kick it off again without any artifact at all."
   ]
  },
  {
   "cell_type": "code",
   "execution_count": 4,
   "id": "664a4346-a994-4da3-9c6e-46e979e4601b",
   "metadata": {},
   "outputs": [],
   "source": [
    "wf_version = \"gft40\""
   ]
  },
  {
   "cell_type": "code",
   "execution_count": 5,
   "id": "217c49a4",
   "metadata": {},
   "outputs": [],
   "source": [
    "run_train_model_wf = r.fetch_workflow(\n",
    "        \"flytesnacks\", \"development\", \"artifact_ux.demo_ml.run_train_model\", wf_version\n",
    "    )"
   ]
  },
  {
   "cell_type": "markdown",
   "id": "bab01f4d-a15a-46b2-9403-7cb148298be5",
   "metadata": {},
   "source": [
    "This shows how to use an output generated by an unrelated workflow/task, in a separate workflow. Here pass the artifact variable `a` to the `data` input."
   ]
  },
  {
   "cell_type": "code",
   "execution_count": 7,
   "id": "fba39e47-cb81-4173-aa16-98f53e3a7151",
   "metadata": {},
   "outputs": [],
   "source": [
    "dd = datetime(2023, 11, 14)\n",
    "dd = dd.astimezone(pytz.UTC).replace(tzinfo=None)"
   ]
  },
  {
   "cell_type": "code",
   "execution_count": 10,
   "id": "3e8f6302",
   "metadata": {
    "scrolled": true
   },
   "outputs": [
    {
     "data": {
      "text/plain": [
       "<FlyteLiteral id { project: \"flytesnacks\" domain: \"development\" name: \"f9b4888af79b34ad987d\" } spec { launch_plan { resource_type: LAUNCH_PLAN project: \"flytesnacks\" domain: \"development\" name: \"artifact_ux.demo_ml.run_train_model\" version: \"sb3\" } metadata { system_metadata { } } notifications { } labels { } annotations { } auth_role { } } closure { started_at { } duration { } created_at { seconds: 1698323792 nanos: 886465000 } updated_at { seconds: 1698323792 nanos: 886465000 } }>"
      ]
     },
     "execution_count": 10,
     "metadata": {},
     "output_type": "execute_result"
    }
   ],
   "source": [
    "r.execute(run_train_model_wf, inputs={\"region\": \"SEA\", \"kickoff_time\": dd, \"data\": a})"
   ]
  },
  {
   "cell_type": "markdown",
   "id": "a9744eaf",
   "metadata": {},
   "source": [
    "Execute without specifying the data. Note that the fetched artifact should match what was picked up by the query when it was kicked off."
   ]
  },
  {
   "cell_type": "code",
   "execution_count": 8,
   "id": "95e12fea",
   "metadata": {
    "scrolled": true
   },
   "outputs": [
    {
     "data": {
      "text/plain": [
       "<FlyteLiteral id { project: \"flytesnacks\" domain: \"development\" name: \"fe77add0a6f9f4b029c1\" } spec { launch_plan { resource_type: LAUNCH_PLAN project: \"flytesnacks\" domain: \"development\" name: \"artifact_ux.demo_ml.run_train_model\" version: \"gft40\" } metadata { system_metadata { } } notifications { } labels { } annotations { } auth_role { } } closure { started_at { } duration { } created_at { seconds: 1700731578 nanos: 854390000 } updated_at { seconds: 1700731578 nanos: 854390000 } }>"
      ]
     },
     "execution_count": 8,
     "metadata": {},
     "output_type": "execute_result"
    }
   ],
   "source": [
    "r.execute(run_train_model_wf, inputs={\"region\": \"SEA\", \"kickoff_time\": dd})"
   ]
  },
  {
   "cell_type": "code",
   "execution_count": 13,
   "id": "9bd0e392",
   "metadata": {},
   "outputs": [],
   "source": [
    "model_artifact = r.get_artifact(f\"flyte://av0.1/flytesnacks/development/my-model\")"
   ]
  },
  {
   "cell_type": "code",
   "execution_count": 11,
   "id": "3d9730c7",
   "metadata": {},
   "outputs": [
    {
     "data": {
      "text/plain": [
       "Artifact: project=flytesnacks, domain=development, name=my-model, version=f2115de577eb5492fae0/end-node/o0\n",
       "  name=my-model\n",
       "  partitions=None\n",
       "  tags=None\n",
       "  literal_type=<FlyteLiteral blob { }>, literal=<FlyteLiteral scalar { blob { metadata { type { } } uri: \"s3://my-s3-bucket/data/2f/f2115de577eb5492fae0-n0-0/2047f71989a41d3b8df8513c3dd66a6d/demo_ml.py\" } }>)"
      ]
     },
     "execution_count": 11,
     "metadata": {},
     "output_type": "execute_result"
    }
   ],
   "source": [
    "model_artifact"
   ]
  },
  {
   "cell_type": "markdown",
   "id": "0d99d66e-0a46-45ce-9da1-9aa2fbd52bac",
   "metadata": {},
   "source": [
    "### demo_timeseries.py"
   ]
  },
  {
   "cell_type": "markdown",
   "id": "80c339a0-c5d8-4dd1-8064-2426c813bd2a",
   "metadata": {},
   "source": [
    "This second example is supposed to show an ETL-centric use-case and demonstrates reactive workflows. The components here are:\n",
    "* A `create_upstream_directory` workflow that creates an Artifact named `upstream_data`. In this dummy example, the task in this workflow just returns a folder with the files `1.txt`... `100.txt` with 8 of them at random removed. This provides a folder whose contents mostly stay the same day to day, with some small changes.\n",
    "* A `run_update_hashes` workflow, that takes as input the upstream data above, and also a file that contains the filename and the hash for each of the 92 files in the prior step. Each day it runs, the earlier hash summary file is read, the new upstream data is read, hashes for newly seen files are added, and hashes for files that were deleted are removed.\n",
    "\n",
    "If the prior day's hash file is not present, a new one is created (which is why the `hashes_file` input for the workflow is `Optional`."
   ]
  },
  {
   "cell_type": "markdown",
   "id": "1bf19c66-ad31-44e2-aa87-e1770df1981b",
   "metadata": {},
   "source": [
    "Run the `artifact_ux.demo_timeseries.create_upstream_directory` workflow with `ds` equal to `09/01/2023 00:00:00`"
   ]
  },
  {
   "cell_type": "markdown",
   "id": "07bf9844-041d-4738-bb7f-a615546aa368",
   "metadata": {},
   "source": [
    "It should produce a `FlyteDirectory` object with some s3 path that holds the offloaded data. Once that finishes, because of the Trigger variable `trigger_hashes` and decorated on `run_update_hashes`, that workflow should kick off. If you inspect the `upstream_data` input on the `artifact_ux.demo_timeseries.run_update_hashes` execution that gets kicked off, you should see that it matches the output from the `create_upstream_directory` workflow."
   ]
  },
  {
   "cell_type": "markdown",
   "id": "9b5313b6-db98-4126-a43e-9d91beced4ec",
   "metadata": {},
   "source": [
    "Because it was the first time this was run, the `hashes_file` input should be empty. But if you run the `create_upstream_directory` workflow again, this time with `9/2/2023 12:00:00 AM UTC`, you should see a second execution of the downstream workflow, this time with the `hashes_file` input set to the output of the first run."
   ]
  },
  {
   "cell_type": "code",
   "execution_count": 22,
   "id": "e1fcabc1-7b9e-4d10-bb1e-16b4f2c7bdc7",
   "metadata": {},
   "outputs": [],
   "source": [
    "import grpc\n",
    "from flyteidl.artifact import artifacts_pb2_grpc as artifact_service\n",
    "from flyteidl.core import artifact_id_pb2 as art_id\n",
    "from flyteidl.artifact import artifacts_pb2"
   ]
  },
  {
   "cell_type": "code",
   "execution_count": 27,
   "id": "5131db3e-b271-44b8-b83d-80e5c7e40aee",
   "metadata": {},
   "outputs": [],
   "source": [
    "channel = grpc.insecure_channel(\"localhost:50051\")\n",
    "a = artifact_service.ArtifactRegistryStub(channel)\n"
   ]
  },
  {
   "cell_type": "code",
   "execution_count": 28,
   "id": "42993c8b-2d17-45f6-a447-5a5b85361819",
   "metadata": {},
   "outputs": [],
   "source": [
    "q = art_id.ArtifactQuery(uri=\"flyte://av0.1/flytesnacks/development/ride_count_data?region=SEA&ds=2023-09-05\")"
   ]
  },
  {
   "cell_type": "code",
   "execution_count": 29,
   "id": "a0a81989-f217-4fd1-845d-aef13663219e",
   "metadata": {},
   "outputs": [],
   "source": [
    "req = artifacts_pb2.GetArtifactRequest(query=q, details=False)"
   ]
  },
  {
   "cell_type": "code",
   "execution_count": 30,
   "id": "7b6ddacd-1142-4bc5-8a84-67e4cf6adc33",
   "metadata": {},
   "outputs": [
    {
     "data": {
      "text/plain": [
       "artifact {\n",
       "  artifact_id {\n",
       "    artifact_key {\n",
       "      project: \"flytesnacks\"\n",
       "      domain: \"development\"\n",
       "      name: \"ride_count_data\"\n",
       "    }\n",
       "    version: \"agmbc7n6rlfc9pl2q469/n0/0/o0\"\n",
       "    partitions {\n",
       "      value {\n",
       "        key: \"region\"\n",
       "        value {\n",
       "          static_value: \"SEA\"\n",
       "        }\n",
       "      }\n",
       "      value {\n",
       "        key: \"ds\"\n",
       "        value {\n",
       "          static_value: \"2023-09-05\"\n",
       "        }\n",
       "      }\n",
       "    }\n",
       "  }\n",
       "  spec {\n",
       "    value {\n",
       "      scalar {\n",
       "        structured_dataset {\n",
       "          uri: \"s3://my-s3-bucket/data/4s/agmbc7n6rlfc9pl2q469-n0-0/167f9a80ded78353ff54d0e6aa726d60\"\n",
       "          metadata {\n",
       "            structured_dataset_type {\n",
       "              format: \"parquet\"\n",
       "            }\n",
       "          }\n",
       "        }\n",
       "      }\n",
       "      metadata {\n",
       "        key: \"_ua\"\n",
       "        value: \"flytesnacks/development/agmbc7n6rlfc9pl2q469/n0/0/o0\"\n",
       "      }\n",
       "    }\n",
       "    type {\n",
       "      structured_dataset_type {\n",
       "      }\n",
       "    }\n",
       "    execution {\n",
       "      project: \"flytesnacks\"\n",
       "      domain: \"development\"\n",
       "      name: \"agmbc7n6rlfc9pl2q469\"\n",
       "    }\n",
       "  }\n",
       "}"
      ]
     },
     "execution_count": 30,
     "metadata": {},
     "output_type": "execute_result"
    }
   ],
   "source": [
    "a.GetArtifact(req)"
   ]
  },
  {
   "cell_type": "code",
   "execution_count": 4,
   "id": "f3539ed9-b5a4-4f2c-a334-7034df5e8ac9",
   "metadata": {},
   "outputs": [
    {
     "data": {
      "text/html": [
       "<pre style=\"white-space:pre;overflow-x:auto;line-height:normal;font-family:Menlo,'DejaVu Sans Mono',consolas,'Courier New',monospace\"><span style=\"color: #800000; text-decoration-color: #800000\">╭─────────────────────────────────────── </span><span style=\"color: #800000; text-decoration-color: #800000; font-weight: bold\">Traceback </span><span style=\"color: #bf7f7f; text-decoration-color: #bf7f7f; font-weight: bold\">(most recent call last)</span><span style=\"color: #800000; text-decoration-color: #800000\"> ───────────────────────────────────────╮</span>\n",
       "<span style=\"color: #800000; text-decoration-color: #800000\">│</span> <span style=\"color: #bfbf7f; text-decoration-color: #bfbf7f\">/Users/ytong/envs/experiments/lib/python3.11/site-packages/grpc/</span><span style=\"color: #808000; text-decoration-color: #808000; font-weight: bold\">_interceptor.py</span>:<span style=\"color: #0000ff; text-decoration-color: #0000ff\">274</span> in <span style=\"color: #00ff00; text-decoration-color: #00ff00\">continuation</span>             <span style=\"color: #800000; text-decoration-color: #800000\">│</span>\n",
       "<span style=\"color: #800000; text-decoration-color: #800000\">│</span>                                                                                                                 <span style=\"color: #800000; text-decoration-color: #800000\">│</span>\n",
       "<span style=\"color: #800000; text-decoration-color: #800000\">│</span> <span style=\"color: #800000; text-decoration-color: #800000\">❱ </span>274 <span style=\"color: #7f7f7f; text-decoration-color: #7f7f7f\">│   │   │   │   </span>response, call = <span style=\"color: #00ffff; text-decoration-color: #00ffff\">self</span>._thunk(new_method).with_call(                                       <span style=\"color: #800000; text-decoration-color: #800000\">│</span>\n",
       "<span style=\"color: #800000; text-decoration-color: #800000\">│</span>                                                                                                                 <span style=\"color: #800000; text-decoration-color: #800000\">│</span>\n",
       "<span style=\"color: #800000; text-decoration-color: #800000\">│</span> <span style=\"color: #bfbf7f; text-decoration-color: #bfbf7f\">/Users/ytong/envs/experiments/lib/python3.11/site-packages/grpc/</span><span style=\"color: #808000; text-decoration-color: #808000; font-weight: bold\">_interceptor.py</span>:<span style=\"color: #0000ff; text-decoration-color: #0000ff\">301</span> in <span style=\"color: #00ff00; text-decoration-color: #00ff00\">with_call</span>                <span style=\"color: #800000; text-decoration-color: #800000\">│</span>\n",
       "<span style=\"color: #800000; text-decoration-color: #800000\">│</span>                                                                                                                 <span style=\"color: #800000; text-decoration-color: #800000\">│</span>\n",
       "<span style=\"color: #800000; text-decoration-color: #800000\">│</span> <span style=\"color: #800000; text-decoration-color: #800000\">❱ </span>301 <span style=\"color: #7f7f7f; text-decoration-color: #7f7f7f\">│   │   </span><span style=\"color: #0000ff; text-decoration-color: #0000ff\">return</span> <span style=\"color: #00ffff; text-decoration-color: #00ffff\">self</span>._with_call(request,                                                                   <span style=\"color: #800000; text-decoration-color: #800000\">│</span>\n",
       "<span style=\"color: #800000; text-decoration-color: #800000\">│</span>                                                                                                                 <span style=\"color: #800000; text-decoration-color: #800000\">│</span>\n",
       "<span style=\"color: #800000; text-decoration-color: #800000\">│</span> <span style=\"color: #bfbf7f; text-decoration-color: #bfbf7f\">/Users/ytong/envs/experiments/lib/python3.11/site-packages/grpc/</span><span style=\"color: #808000; text-decoration-color: #808000; font-weight: bold\">_interceptor.py</span>:<span style=\"color: #0000ff; text-decoration-color: #0000ff\">290</span> in <span style=\"color: #00ff00; text-decoration-color: #00ff00\">_with_call</span>               <span style=\"color: #800000; text-decoration-color: #800000\">│</span>\n",
       "<span style=\"color: #800000; text-decoration-color: #800000\">│</span>                                                                                                                 <span style=\"color: #800000; text-decoration-color: #800000\">│</span>\n",
       "<span style=\"color: #800000; text-decoration-color: #800000\">│</span> <span style=\"color: #800000; text-decoration-color: #800000\">❱ </span>290 <span style=\"color: #7f7f7f; text-decoration-color: #7f7f7f\">│   │   </span><span style=\"color: #0000ff; text-decoration-color: #0000ff\">return</span> call.result(), call                                                                        <span style=\"color: #800000; text-decoration-color: #800000\">│</span>\n",
       "<span style=\"color: #800000; text-decoration-color: #800000\">│</span>                                                                                                                 <span style=\"color: #800000; text-decoration-color: #800000\">│</span>\n",
       "<span style=\"color: #800000; text-decoration-color: #800000\">│</span> <span style=\"color: #bfbf7f; text-decoration-color: #bfbf7f\">/Users/ytong/envs/experiments/lib/python3.11/site-packages/grpc/</span><span style=\"color: #808000; text-decoration-color: #808000; font-weight: bold\">_channel.py</span>:<span style=\"color: #0000ff; text-decoration-color: #0000ff\">379</span> in <span style=\"color: #00ff00; text-decoration-color: #00ff00\">result</span>                       <span style=\"color: #800000; text-decoration-color: #800000\">│</span>\n",
       "<span style=\"color: #800000; text-decoration-color: #800000\">│</span>                                                                                                                 <span style=\"color: #800000; text-decoration-color: #800000\">│</span>\n",
       "<span style=\"color: #800000; text-decoration-color: #800000\">│</span> <span style=\"color: #800000; text-decoration-color: #800000\">❱ </span> 379 <span style=\"color: #7f7f7f; text-decoration-color: #7f7f7f\">│   │   </span><span style=\"color: #0000ff; text-decoration-color: #0000ff\">raise</span> <span style=\"color: #00ffff; text-decoration-color: #00ffff\">self</span>                                                                                       <span style=\"color: #800000; text-decoration-color: #800000\">│</span>\n",
       "<span style=\"color: #800000; text-decoration-color: #800000\">│</span>                                                                                                                 <span style=\"color: #800000; text-decoration-color: #800000\">│</span>\n",
       "<span style=\"color: #800000; text-decoration-color: #800000\">│</span> <span style=\"color: #bfbf7f; text-decoration-color: #bfbf7f\">/Users/ytong/envs/experiments/lib/python3.11/site-packages/grpc/</span><span style=\"color: #808000; text-decoration-color: #808000; font-weight: bold\">_interceptor.py</span>:<span style=\"color: #0000ff; text-decoration-color: #0000ff\">274</span> in <span style=\"color: #00ff00; text-decoration-color: #00ff00\">continuation</span>             <span style=\"color: #800000; text-decoration-color: #800000\">│</span>\n",
       "<span style=\"color: #800000; text-decoration-color: #800000\">│</span>                                                                                                                 <span style=\"color: #800000; text-decoration-color: #800000\">│</span>\n",
       "<span style=\"color: #800000; text-decoration-color: #800000\">│</span> <span style=\"color: #800000; text-decoration-color: #800000\">❱ </span>274 <span style=\"color: #7f7f7f; text-decoration-color: #7f7f7f\">│   │   │   │   </span>response, call = <span style=\"color: #00ffff; text-decoration-color: #00ffff\">self</span>._thunk(new_method).with_call(                                       <span style=\"color: #800000; text-decoration-color: #800000\">│</span>\n",
       "<span style=\"color: #800000; text-decoration-color: #800000\">│</span>                                                                                                                 <span style=\"color: #800000; text-decoration-color: #800000\">│</span>\n",
       "<span style=\"color: #800000; text-decoration-color: #800000\">│</span> <span style=\"color: #bfbf7f; text-decoration-color: #bfbf7f\">/Users/ytong/envs/experiments/lib/python3.11/site-packages/grpc/</span><span style=\"color: #808000; text-decoration-color: #808000; font-weight: bold\">_interceptor.py</span>:<span style=\"color: #0000ff; text-decoration-color: #0000ff\">301</span> in <span style=\"color: #00ff00; text-decoration-color: #00ff00\">with_call</span>                <span style=\"color: #800000; text-decoration-color: #800000\">│</span>\n",
       "<span style=\"color: #800000; text-decoration-color: #800000\">│</span>                                                                                                                 <span style=\"color: #800000; text-decoration-color: #800000\">│</span>\n",
       "<span style=\"color: #800000; text-decoration-color: #800000\">│</span> <span style=\"color: #800000; text-decoration-color: #800000\">❱ </span>301 <span style=\"color: #7f7f7f; text-decoration-color: #7f7f7f\">│   │   </span><span style=\"color: #0000ff; text-decoration-color: #0000ff\">return</span> <span style=\"color: #00ffff; text-decoration-color: #00ffff\">self</span>._with_call(request,                                                                   <span style=\"color: #800000; text-decoration-color: #800000\">│</span>\n",
       "<span style=\"color: #800000; text-decoration-color: #800000\">│</span>                                                                                                                 <span style=\"color: #800000; text-decoration-color: #800000\">│</span>\n",
       "<span style=\"color: #800000; text-decoration-color: #800000\">│</span> <span style=\"color: #bfbf7f; text-decoration-color: #bfbf7f\">/Users/ytong/envs/experiments/lib/python3.11/site-packages/grpc/</span><span style=\"color: #808000; text-decoration-color: #808000; font-weight: bold\">_interceptor.py</span>:<span style=\"color: #0000ff; text-decoration-color: #0000ff\">290</span> in <span style=\"color: #00ff00; text-decoration-color: #00ff00\">_with_call</span>               <span style=\"color: #800000; text-decoration-color: #800000\">│</span>\n",
       "<span style=\"color: #800000; text-decoration-color: #800000\">│</span>                                                                                                                 <span style=\"color: #800000; text-decoration-color: #800000\">│</span>\n",
       "<span style=\"color: #800000; text-decoration-color: #800000\">│</span> <span style=\"color: #800000; text-decoration-color: #800000\">❱ </span>290 <span style=\"color: #7f7f7f; text-decoration-color: #7f7f7f\">│   │   </span><span style=\"color: #0000ff; text-decoration-color: #0000ff\">return</span> call.result(), call                                                                        <span style=\"color: #800000; text-decoration-color: #800000\">│</span>\n",
       "<span style=\"color: #800000; text-decoration-color: #800000\">│</span>                                                                                                                 <span style=\"color: #800000; text-decoration-color: #800000\">│</span>\n",
       "<span style=\"color: #800000; text-decoration-color: #800000\">│</span> <span style=\"color: #bfbf7f; text-decoration-color: #bfbf7f\">/Users/ytong/envs/experiments/lib/python3.11/site-packages/grpc/</span><span style=\"color: #808000; text-decoration-color: #808000; font-weight: bold\">_channel.py</span>:<span style=\"color: #0000ff; text-decoration-color: #0000ff\">379</span> in <span style=\"color: #00ff00; text-decoration-color: #00ff00\">result</span>                       <span style=\"color: #800000; text-decoration-color: #800000\">│</span>\n",
       "<span style=\"color: #800000; text-decoration-color: #800000\">│</span>                                                                                                                 <span style=\"color: #800000; text-decoration-color: #800000\">│</span>\n",
       "<span style=\"color: #800000; text-decoration-color: #800000\">│</span> <span style=\"color: #800000; text-decoration-color: #800000\">❱ </span> 379 <span style=\"color: #7f7f7f; text-decoration-color: #7f7f7f\">│   │   </span><span style=\"color: #0000ff; text-decoration-color: #0000ff\">raise</span> <span style=\"color: #00ffff; text-decoration-color: #00ffff\">self</span>                                                                                       <span style=\"color: #800000; text-decoration-color: #800000\">│</span>\n",
       "<span style=\"color: #800000; text-decoration-color: #800000\">│</span>                                                                                                                 <span style=\"color: #800000; text-decoration-color: #800000\">│</span>\n",
       "<span style=\"color: #800000; text-decoration-color: #800000\">│</span> <span style=\"color: #bfbf7f; text-decoration-color: #bfbf7f\">/Users/ytong/envs/experiments/lib/python3.11/site-packages/grpc/</span><span style=\"color: #808000; text-decoration-color: #808000; font-weight: bold\">_interceptor.py</span>:<span style=\"color: #0000ff; text-decoration-color: #0000ff\">274</span> in <span style=\"color: #00ff00; text-decoration-color: #00ff00\">continuation</span>             <span style=\"color: #800000; text-decoration-color: #800000\">│</span>\n",
       "<span style=\"color: #800000; text-decoration-color: #800000\">│</span>                                                                                                                 <span style=\"color: #800000; text-decoration-color: #800000\">│</span>\n",
       "<span style=\"color: #800000; text-decoration-color: #800000\">│</span> <span style=\"color: #800000; text-decoration-color: #800000\">❱ </span>274 <span style=\"color: #7f7f7f; text-decoration-color: #7f7f7f\">│   │   │   │   </span>response, call = <span style=\"color: #00ffff; text-decoration-color: #00ffff\">self</span>._thunk(new_method).with_call(                                       <span style=\"color: #800000; text-decoration-color: #800000\">│</span>\n",
       "<span style=\"color: #800000; text-decoration-color: #800000\">│</span>                                                                                                                 <span style=\"color: #800000; text-decoration-color: #800000\">│</span>\n",
       "<span style=\"color: #800000; text-decoration-color: #800000\">│</span> <span style=\"color: #bfbf7f; text-decoration-color: #bfbf7f\">/Users/ytong/envs/experiments/lib/python3.11/site-packages/grpc/</span><span style=\"color: #808000; text-decoration-color: #808000; font-weight: bold\">_channel.py</span>:<span style=\"color: #0000ff; text-decoration-color: #0000ff\">1043</span> in <span style=\"color: #00ff00; text-decoration-color: #00ff00\">with_call</span>                   <span style=\"color: #800000; text-decoration-color: #800000\">│</span>\n",
       "<span style=\"color: #800000; text-decoration-color: #800000\">│</span>                                                                                                                 <span style=\"color: #800000; text-decoration-color: #800000\">│</span>\n",
       "<span style=\"color: #800000; text-decoration-color: #800000\">│</span> <span style=\"color: #800000; text-decoration-color: #800000\">❱ </span>1043 <span style=\"color: #7f7f7f; text-decoration-color: #7f7f7f\">│   │   </span><span style=\"color: #0000ff; text-decoration-color: #0000ff\">return</span> _end_unary_response_blocking(state, call, <span style=\"color: #0000ff; text-decoration-color: #0000ff\">True</span>, <span style=\"color: #0000ff; text-decoration-color: #0000ff\">None</span>)                                     <span style=\"color: #800000; text-decoration-color: #800000\">│</span>\n",
       "<span style=\"color: #800000; text-decoration-color: #800000\">│</span>                                                                                                                 <span style=\"color: #800000; text-decoration-color: #800000\">│</span>\n",
       "<span style=\"color: #800000; text-decoration-color: #800000\">│</span> <span style=\"color: #bfbf7f; text-decoration-color: #bfbf7f\">/Users/ytong/envs/experiments/lib/python3.11/site-packages/grpc/</span><span style=\"color: #808000; text-decoration-color: #808000; font-weight: bold\">_channel.py</span>:<span style=\"color: #0000ff; text-decoration-color: #0000ff\">910</span> in <span style=\"color: #00ff00; text-decoration-color: #00ff00\">_end_unary_response_blocking</span> <span style=\"color: #800000; text-decoration-color: #800000\">│</span>\n",
       "<span style=\"color: #800000; text-decoration-color: #800000\">│</span>                                                                                                                 <span style=\"color: #800000; text-decoration-color: #800000\">│</span>\n",
       "<span style=\"color: #800000; text-decoration-color: #800000\">│</span> <span style=\"color: #800000; text-decoration-color: #800000\">❱ </span> 910 <span style=\"color: #7f7f7f; text-decoration-color: #7f7f7f\">│   │   </span><span style=\"color: #0000ff; text-decoration-color: #0000ff\">raise</span> _InactiveRpcError(state)  <span style=\"color: #7f7f7f; text-decoration-color: #7f7f7f\"># pytype: disable=not-instantiable</span>                               <span style=\"color: #800000; text-decoration-color: #800000\">│</span>\n",
       "<span style=\"color: #800000; text-decoration-color: #800000\">╰─────────────────────────────────────────────────────────────────────────────────────────────────────────────────╯</span>\n",
       "<span style=\"color: #ff0000; text-decoration-color: #ff0000; font-weight: bold\">_InactiveRpcError: </span><span style=\"font-weight: bold\">&lt;</span><span style=\"color: #ff00ff; text-decoration-color: #ff00ff; font-weight: bold\">_InactiveRpcError</span><span style=\"color: #000000; text-decoration-color: #000000\"> of RPC that terminated with:</span>\n",
       "<span style=\"color: #000000; text-decoration-color: #000000\"> </span>       <span style=\"color: #000000; text-decoration-color: #000000\">status = StatusCode.NOT_FOUND</span>\n",
       "<span style=\"color: #000000; text-decoration-color: #000000\"> </span>       <span style=\"color: #000000; text-decoration-color: #000000\">details = </span><span style=\"color: #008000; text-decoration-color: #008000\">\"artifact [{project:\"</span><span style=\"color: #000000; text-decoration-color: #000000\">flytesnacks\" domain:</span><span style=\"color: #008000; text-decoration-color: #008000\">\"development\"</span><span style=\"color: #000000; text-decoration-color: #000000\"> name:</span><span style=\"color: #008000; text-decoration-color: #008000\">\"ride_count_data\"</span><span style=\"color: #000000; text-decoration-color: #000000\">   </span><span style=\"color: #008080; text-decoration-color: #008080; font-weight: bold\">0x140053f6118</span><span style=\"color: #000000; text-decoration-color: #000000\"> </span><span style=\"color: #000000; text-decoration-color: #000000; font-weight: bold\">{}</span><span style=\"color: #000000; text-decoration-color: #000000\"> </span>\n",
       "<span style=\"color: #000000; text-decoration-color: #000000; font-weight: bold\">[]</span><span style=\"color: #000000; text-decoration-color: #000000\"> </span><span style=\"color: #008080; text-decoration-color: #008080; font-weight: bold\">0</span><span style=\"color: #000000; text-decoration-color: #000000; font-weight: bold\">}]</span><span style=\"color: #000000; text-decoration-color: #000000\"> not found\"</span>\n",
       "<span style=\"color: #000000; text-decoration-color: #000000\"> </span>       <span style=\"color: #000000; text-decoration-color: #000000\">debug_error_string = </span><span style=\"color: #008000; text-decoration-color: #008000\">\"UNKNOWN:Error received from peer  {grpc_message:\"</span><span style=\"color: #000000; text-decoration-color: #000000\">artifact </span><span style=\"color: #000000; text-decoration-color: #000000; font-weight: bold\">[{</span><span style=\"color: #000000; text-decoration-color: #000000\">project:\\\"flytesnacks\\\" </span>\n",
       "<span style=\"color: #000000; text-decoration-color: #000000\">domain:\\\"development\\\" name:\\\"ride_count_data\\\"   </span><span style=\"color: #008080; text-decoration-color: #008080; font-weight: bold\">0x140053f6118</span><span style=\"color: #000000; text-decoration-color: #000000\"> </span><span style=\"color: #000000; text-decoration-color: #000000; font-weight: bold\">{}</span><span style=\"color: #000000; text-decoration-color: #000000\"> </span><span style=\"color: #000000; text-decoration-color: #000000; font-weight: bold\">[]</span><span style=\"color: #000000; text-decoration-color: #000000\"> </span><span style=\"color: #008080; text-decoration-color: #008080; font-weight: bold\">0</span><span style=\"color: #000000; text-decoration-color: #000000; font-weight: bold\">}]</span><span style=\"color: #000000; text-decoration-color: #000000\"> not found\", grpc_status:</span><span style=\"color: #008080; text-decoration-color: #008080; font-weight: bold\">5</span><span style=\"color: #000000; text-decoration-color: #000000\">, </span>\n",
       "<span style=\"color: #000000; text-decoration-color: #000000\">created_time:</span><span style=\"color: #008000; text-decoration-color: #008000\">\"2023-11-15T15:28:09.19656+08:00\"</span><span style=\"color: #000000; text-decoration-color: #000000; font-weight: bold\">}</span><span style=\"color: #000000; text-decoration-color: #000000\">\"</span>\n",
       "<span style=\"font-weight: bold\">&gt;</span>\n",
       "\n",
       "<span style=\"font-style: italic\">The above exception was the direct cause of the following exception:</span>\n",
       "\n",
       "<span style=\"color: #800000; text-decoration-color: #800000\">╭─────────────────────────────────────── </span><span style=\"color: #800000; text-decoration-color: #800000; font-weight: bold\">Traceback </span><span style=\"color: #bf7f7f; text-decoration-color: #bf7f7f; font-weight: bold\">(most recent call last)</span><span style=\"color: #800000; text-decoration-color: #800000\"> ───────────────────────────────────────╮</span>\n",
       "<span style=\"color: #800000; text-decoration-color: #800000\">│</span> in <span style=\"color: #00ff00; text-decoration-color: #00ff00\">&lt;module&gt;</span>:<span style=\"color: #0000ff; text-decoration-color: #0000ff\">1</span>                                                                                                   <span style=\"color: #800000; text-decoration-color: #800000\">│</span>\n",
       "<span style=\"color: #800000; text-decoration-color: #800000\">│</span>                                                                                                                 <span style=\"color: #800000; text-decoration-color: #800000\">│</span>\n",
       "<span style=\"color: #800000; text-decoration-color: #800000\">│</span> <span style=\"color: #800000; text-decoration-color: #800000\">❱ </span>1 a = r.get_artifact(<span style=\"color: #808000; text-decoration-color: #808000\">f\"flyte://av0.1/flytesnacks/development/ride_count_data?region=SEA\"</span>)                     <span style=\"color: #800000; text-decoration-color: #800000\">│</span>\n",
       "<span style=\"color: #800000; text-decoration-color: #800000\">│</span>                                                                                                                 <span style=\"color: #800000; text-decoration-color: #800000\">│</span>\n",
       "<span style=\"color: #800000; text-decoration-color: #800000\">│</span> <span style=\"color: #bfbf7f; text-decoration-color: #bfbf7f\">/Users/ytong/go/src/github.com/flyteorg/flytekit/flytekit/remote/</span><span style=\"color: #808000; text-decoration-color: #808000; font-weight: bold\">remote.py</span>:<span style=\"color: #0000ff; text-decoration-color: #0000ff\">400</span> in <span style=\"color: #00ff00; text-decoration-color: #00ff00\">get_artifact</span>                  <span style=\"color: #800000; text-decoration-color: #800000\">│</span>\n",
       "<span style=\"color: #800000; text-decoration-color: #800000\">│</span>                                                                                                                 <span style=\"color: #800000; text-decoration-color: #800000\">│</span>\n",
       "<span style=\"color: #800000; text-decoration-color: #800000\">│</span> <span style=\"color: #800000; text-decoration-color: #800000\">❱ </span> 400 <span style=\"color: #7f7f7f; text-decoration-color: #7f7f7f\">│   │   </span>resp = <span style=\"color: #00ffff; text-decoration-color: #00ffff\">self</span>.client.get_artifact(req)                                                             <span style=\"color: #800000; text-decoration-color: #800000\">│</span>\n",
       "<span style=\"color: #800000; text-decoration-color: #800000\">│</span>                                                                                                                 <span style=\"color: #800000; text-decoration-color: #800000\">│</span>\n",
       "<span style=\"color: #800000; text-decoration-color: #800000\">│</span> <span style=\"color: #bfbf7f; text-decoration-color: #bfbf7f\">/Users/ytong/go/src/github.com/flyteorg/flytekit/flytekit/clients/</span><span style=\"color: #808000; text-decoration-color: #808000; font-weight: bold\">friendly.py</span>:<span style=\"color: #0000ff; text-decoration-color: #0000ff\">1043</span> in <span style=\"color: #00ff00; text-decoration-color: #00ff00\">get_artifact</span>              <span style=\"color: #800000; text-decoration-color: #800000\">│</span>\n",
       "<span style=\"color: #800000; text-decoration-color: #800000\">│</span>                                                                                                                 <span style=\"color: #800000; text-decoration-color: #800000\">│</span>\n",
       "<span style=\"color: #800000; text-decoration-color: #800000\">│</span> <span style=\"color: #800000; text-decoration-color: #800000\">❱ </span>1043 <span style=\"color: #7f7f7f; text-decoration-color: #7f7f7f\">│   │   </span><span style=\"color: #0000ff; text-decoration-color: #0000ff\">return</span> <span style=\"color: #00ffff; text-decoration-color: #00ffff\">self</span>._artifact_stub.GetArtifact(request)                                                  <span style=\"color: #800000; text-decoration-color: #800000\">│</span>\n",
       "<span style=\"color: #800000; text-decoration-color: #800000\">│</span>                                                                                                                 <span style=\"color: #800000; text-decoration-color: #800000\">│</span>\n",
       "<span style=\"color: #800000; text-decoration-color: #800000\">│</span> <span style=\"color: #bfbf7f; text-decoration-color: #bfbf7f\">/Users/ytong/envs/experiments/lib/python3.11/site-packages/grpc/</span><span style=\"color: #808000; text-decoration-color: #808000; font-weight: bold\">_interceptor.py</span>:<span style=\"color: #0000ff; text-decoration-color: #0000ff\">247</span> in <span style=\"color: #00ff00; text-decoration-color: #00ff00\">__call__</span>                 <span style=\"color: #800000; text-decoration-color: #800000\">│</span>\n",
       "<span style=\"color: #800000; text-decoration-color: #800000\">│</span>                                                                                                                 <span style=\"color: #800000; text-decoration-color: #800000\">│</span>\n",
       "<span style=\"color: #800000; text-decoration-color: #800000\">│</span> <span style=\"color: #800000; text-decoration-color: #800000\">❱ </span>247 <span style=\"color: #7f7f7f; text-decoration-color: #7f7f7f\">│   │   </span>response, ignored_call = <span style=\"color: #00ffff; text-decoration-color: #00ffff\">self</span>._with_call(request,                                                 <span style=\"color: #800000; text-decoration-color: #800000\">│</span>\n",
       "<span style=\"color: #800000; text-decoration-color: #800000\">│</span>                                                                                                                 <span style=\"color: #800000; text-decoration-color: #800000\">│</span>\n",
       "<span style=\"color: #800000; text-decoration-color: #800000\">│</span> <span style=\"color: #bfbf7f; text-decoration-color: #bfbf7f\">/Users/ytong/envs/experiments/lib/python3.11/site-packages/grpc/</span><span style=\"color: #808000; text-decoration-color: #808000; font-weight: bold\">_interceptor.py</span>:<span style=\"color: #0000ff; text-decoration-color: #0000ff\">287</span> in <span style=\"color: #00ff00; text-decoration-color: #00ff00\">_with_call</span>               <span style=\"color: #800000; text-decoration-color: #800000\">│</span>\n",
       "<span style=\"color: #800000; text-decoration-color: #800000\">│</span>                                                                                                                 <span style=\"color: #800000; text-decoration-color: #800000\">│</span>\n",
       "<span style=\"color: #800000; text-decoration-color: #800000\">│</span> <span style=\"color: #800000; text-decoration-color: #800000\">❱ </span>287 <span style=\"color: #7f7f7f; text-decoration-color: #7f7f7f\">│   │   </span>call = <span style=\"color: #00ffff; text-decoration-color: #00ffff\">self</span>._interceptor.intercept_unary_unary(continuation,                                      <span style=\"color: #800000; text-decoration-color: #800000\">│</span>\n",
       "<span style=\"color: #800000; text-decoration-color: #800000\">│</span>                                                                                                                 <span style=\"color: #800000; text-decoration-color: #800000\">│</span>\n",
       "<span style=\"color: #800000; text-decoration-color: #800000\">│</span> <span style=\"color: #bfbf7f; text-decoration-color: #bfbf7f\">/Users/ytong/go/src/github.com/flyteorg/flytekit/flytekit/clients/grpc_utils/</span><span style=\"color: #808000; text-decoration-color: #808000; font-weight: bold\">wrap_exception_interceptor.py</span>:<span style=\"color: #0000ff; text-decoration-color: #0000ff\">44</span>   <span style=\"color: #800000; text-decoration-color: #800000\">│</span>\n",
       "<span style=\"color: #800000; text-decoration-color: #800000\">│</span> in <span style=\"color: #00ff00; text-decoration-color: #00ff00\">intercept_unary_unary</span>                                                                                        <span style=\"color: #800000; text-decoration-color: #800000\">│</span>\n",
       "<span style=\"color: #800000; text-decoration-color: #800000\">│</span>                                                                                                                 <span style=\"color: #800000; text-decoration-color: #800000\">│</span>\n",
       "<span style=\"color: #800000; text-decoration-color: #800000\">│</span> <span style=\"color: #800000; text-decoration-color: #800000\">❱ </span>44 <span style=\"color: #7f7f7f; text-decoration-color: #7f7f7f\">│   │   │   │   │   </span><span style=\"color: #0000ff; text-decoration-color: #0000ff\">raise</span> e                                                                                <span style=\"color: #800000; text-decoration-color: #800000\">│</span>\n",
       "<span style=\"color: #800000; text-decoration-color: #800000\">│</span>                                                                                                                 <span style=\"color: #800000; text-decoration-color: #800000\">│</span>\n",
       "<span style=\"color: #800000; text-decoration-color: #800000\">│</span> <span style=\"color: #bfbf7f; text-decoration-color: #bfbf7f\">/Users/ytong/go/src/github.com/flyteorg/flytekit/flytekit/clients/grpc_utils/</span><span style=\"color: #808000; text-decoration-color: #808000; font-weight: bold\">wrap_exception_interceptor.py</span>:<span style=\"color: #0000ff; text-decoration-color: #0000ff\">40</span>   <span style=\"color: #800000; text-decoration-color: #800000\">│</span>\n",
       "<span style=\"color: #800000; text-decoration-color: #800000\">│</span> in <span style=\"color: #00ff00; text-decoration-color: #00ff00\">intercept_unary_unary</span>                                                                                        <span style=\"color: #800000; text-decoration-color: #800000\">│</span>\n",
       "<span style=\"color: #800000; text-decoration-color: #800000\">│</span>                                                                                                                 <span style=\"color: #800000; text-decoration-color: #800000\">│</span>\n",
       "<span style=\"color: #800000; text-decoration-color: #800000\">│</span> <span style=\"color: #800000; text-decoration-color: #800000\">❱ </span>40 <span style=\"color: #7f7f7f; text-decoration-color: #7f7f7f\">│   │   │   │   │   </span><span style=\"color: #00ffff; text-decoration-color: #00ffff\">self</span>._raise_if_exc(request, e)                                                         <span style=\"color: #800000; text-decoration-color: #800000\">│</span>\n",
       "<span style=\"color: #800000; text-decoration-color: #800000\">│</span>                                                                                                                 <span style=\"color: #800000; text-decoration-color: #800000\">│</span>\n",
       "<span style=\"color: #800000; text-decoration-color: #800000\">│</span> <span style=\"color: #bfbf7f; text-decoration-color: #bfbf7f\">/Users/ytong/go/src/github.com/flyteorg/flytekit/flytekit/clients/grpc_utils/</span><span style=\"color: #808000; text-decoration-color: #808000; font-weight: bold\">wrap_exception_interceptor.py</span>:<span style=\"color: #0000ff; text-decoration-color: #0000ff\">28</span>   <span style=\"color: #800000; text-decoration-color: #800000\">│</span>\n",
       "<span style=\"color: #800000; text-decoration-color: #800000\">│</span> in <span style=\"color: #00ff00; text-decoration-color: #00ff00\">_raise_if_exc</span>                                                                                                <span style=\"color: #800000; text-decoration-color: #800000\">│</span>\n",
       "<span style=\"color: #800000; text-decoration-color: #800000\">│</span>                                                                                                                 <span style=\"color: #800000; text-decoration-color: #800000\">│</span>\n",
       "<span style=\"color: #800000; text-decoration-color: #800000\">│</span> <span style=\"color: #800000; text-decoration-color: #800000\">❱ </span>28 <span style=\"color: #7f7f7f; text-decoration-color: #7f7f7f\">│   │   │   │   </span><span style=\"color: #0000ff; text-decoration-color: #0000ff\">raise</span> FlyteEntityNotExistException() <span style=\"color: #0000ff; text-decoration-color: #0000ff\">from</span> <span style=\"color: #00ffff; text-decoration-color: #00ffff; text-decoration: underline\">e</span>                                                <span style=\"color: #800000; text-decoration-color: #800000\">│</span>\n",
       "<span style=\"color: #800000; text-decoration-color: #800000\">╰─────────────────────────────────────────────────────────────────────────────────────────────────────────────────╯</span>\n",
       "<span style=\"color: #ff0000; text-decoration-color: #ff0000; font-weight: bold\">FlyteEntityNotExistException</span>\n",
       "</pre>\n"
      ],
      "text/plain": [
       "\u001b[31m╭─\u001b[0m\u001b[31m──────────────────────────────────────\u001b[0m\u001b[31m \u001b[0m\u001b[1;31mTraceback \u001b[0m\u001b[1;2;31m(most recent call last)\u001b[0m\u001b[31m \u001b[0m\u001b[31m──────────────────────────────────────\u001b[0m\u001b[31m─╮\u001b[0m\n",
       "\u001b[31m│\u001b[0m \u001b[2;33m/Users/ytong/envs/experiments/lib/python3.11/site-packages/grpc/\u001b[0m\u001b[1;33m_interceptor.py\u001b[0m:\u001b[94m274\u001b[0m in \u001b[92mcontinuation\u001b[0m             \u001b[31m│\u001b[0m\n",
       "\u001b[31m│\u001b[0m                                                                                                                 \u001b[31m│\u001b[0m\n",
       "\u001b[31m│\u001b[0m \u001b[31m❱ \u001b[0m274 \u001b[2m│   │   │   │   \u001b[0mresponse, call = \u001b[96mself\u001b[0m._thunk(new_method).with_call(                                       \u001b[31m│\u001b[0m\n",
       "\u001b[31m│\u001b[0m                                                                                                                 \u001b[31m│\u001b[0m\n",
       "\u001b[31m│\u001b[0m \u001b[2;33m/Users/ytong/envs/experiments/lib/python3.11/site-packages/grpc/\u001b[0m\u001b[1;33m_interceptor.py\u001b[0m:\u001b[94m301\u001b[0m in \u001b[92mwith_call\u001b[0m                \u001b[31m│\u001b[0m\n",
       "\u001b[31m│\u001b[0m                                                                                                                 \u001b[31m│\u001b[0m\n",
       "\u001b[31m│\u001b[0m \u001b[31m❱ \u001b[0m301 \u001b[2m│   │   \u001b[0m\u001b[94mreturn\u001b[0m \u001b[96mself\u001b[0m._with_call(request,                                                                   \u001b[31m│\u001b[0m\n",
       "\u001b[31m│\u001b[0m                                                                                                                 \u001b[31m│\u001b[0m\n",
       "\u001b[31m│\u001b[0m \u001b[2;33m/Users/ytong/envs/experiments/lib/python3.11/site-packages/grpc/\u001b[0m\u001b[1;33m_interceptor.py\u001b[0m:\u001b[94m290\u001b[0m in \u001b[92m_with_call\u001b[0m               \u001b[31m│\u001b[0m\n",
       "\u001b[31m│\u001b[0m                                                                                                                 \u001b[31m│\u001b[0m\n",
       "\u001b[31m│\u001b[0m \u001b[31m❱ \u001b[0m290 \u001b[2m│   │   \u001b[0m\u001b[94mreturn\u001b[0m call.result(), call                                                                        \u001b[31m│\u001b[0m\n",
       "\u001b[31m│\u001b[0m                                                                                                                 \u001b[31m│\u001b[0m\n",
       "\u001b[31m│\u001b[0m \u001b[2;33m/Users/ytong/envs/experiments/lib/python3.11/site-packages/grpc/\u001b[0m\u001b[1;33m_channel.py\u001b[0m:\u001b[94m379\u001b[0m in \u001b[92mresult\u001b[0m                       \u001b[31m│\u001b[0m\n",
       "\u001b[31m│\u001b[0m                                                                                                                 \u001b[31m│\u001b[0m\n",
       "\u001b[31m│\u001b[0m \u001b[31m❱ \u001b[0m 379 \u001b[2m│   │   \u001b[0m\u001b[94mraise\u001b[0m \u001b[96mself\u001b[0m                                                                                       \u001b[31m│\u001b[0m\n",
       "\u001b[31m│\u001b[0m                                                                                                                 \u001b[31m│\u001b[0m\n",
       "\u001b[31m│\u001b[0m \u001b[2;33m/Users/ytong/envs/experiments/lib/python3.11/site-packages/grpc/\u001b[0m\u001b[1;33m_interceptor.py\u001b[0m:\u001b[94m274\u001b[0m in \u001b[92mcontinuation\u001b[0m             \u001b[31m│\u001b[0m\n",
       "\u001b[31m│\u001b[0m                                                                                                                 \u001b[31m│\u001b[0m\n",
       "\u001b[31m│\u001b[0m \u001b[31m❱ \u001b[0m274 \u001b[2m│   │   │   │   \u001b[0mresponse, call = \u001b[96mself\u001b[0m._thunk(new_method).with_call(                                       \u001b[31m│\u001b[0m\n",
       "\u001b[31m│\u001b[0m                                                                                                                 \u001b[31m│\u001b[0m\n",
       "\u001b[31m│\u001b[0m \u001b[2;33m/Users/ytong/envs/experiments/lib/python3.11/site-packages/grpc/\u001b[0m\u001b[1;33m_interceptor.py\u001b[0m:\u001b[94m301\u001b[0m in \u001b[92mwith_call\u001b[0m                \u001b[31m│\u001b[0m\n",
       "\u001b[31m│\u001b[0m                                                                                                                 \u001b[31m│\u001b[0m\n",
       "\u001b[31m│\u001b[0m \u001b[31m❱ \u001b[0m301 \u001b[2m│   │   \u001b[0m\u001b[94mreturn\u001b[0m \u001b[96mself\u001b[0m._with_call(request,                                                                   \u001b[31m│\u001b[0m\n",
       "\u001b[31m│\u001b[0m                                                                                                                 \u001b[31m│\u001b[0m\n",
       "\u001b[31m│\u001b[0m \u001b[2;33m/Users/ytong/envs/experiments/lib/python3.11/site-packages/grpc/\u001b[0m\u001b[1;33m_interceptor.py\u001b[0m:\u001b[94m290\u001b[0m in \u001b[92m_with_call\u001b[0m               \u001b[31m│\u001b[0m\n",
       "\u001b[31m│\u001b[0m                                                                                                                 \u001b[31m│\u001b[0m\n",
       "\u001b[31m│\u001b[0m \u001b[31m❱ \u001b[0m290 \u001b[2m│   │   \u001b[0m\u001b[94mreturn\u001b[0m call.result(), call                                                                        \u001b[31m│\u001b[0m\n",
       "\u001b[31m│\u001b[0m                                                                                                                 \u001b[31m│\u001b[0m\n",
       "\u001b[31m│\u001b[0m \u001b[2;33m/Users/ytong/envs/experiments/lib/python3.11/site-packages/grpc/\u001b[0m\u001b[1;33m_channel.py\u001b[0m:\u001b[94m379\u001b[0m in \u001b[92mresult\u001b[0m                       \u001b[31m│\u001b[0m\n",
       "\u001b[31m│\u001b[0m                                                                                                                 \u001b[31m│\u001b[0m\n",
       "\u001b[31m│\u001b[0m \u001b[31m❱ \u001b[0m 379 \u001b[2m│   │   \u001b[0m\u001b[94mraise\u001b[0m \u001b[96mself\u001b[0m                                                                                       \u001b[31m│\u001b[0m\n",
       "\u001b[31m│\u001b[0m                                                                                                                 \u001b[31m│\u001b[0m\n",
       "\u001b[31m│\u001b[0m \u001b[2;33m/Users/ytong/envs/experiments/lib/python3.11/site-packages/grpc/\u001b[0m\u001b[1;33m_interceptor.py\u001b[0m:\u001b[94m274\u001b[0m in \u001b[92mcontinuation\u001b[0m             \u001b[31m│\u001b[0m\n",
       "\u001b[31m│\u001b[0m                                                                                                                 \u001b[31m│\u001b[0m\n",
       "\u001b[31m│\u001b[0m \u001b[31m❱ \u001b[0m274 \u001b[2m│   │   │   │   \u001b[0mresponse, call = \u001b[96mself\u001b[0m._thunk(new_method).with_call(                                       \u001b[31m│\u001b[0m\n",
       "\u001b[31m│\u001b[0m                                                                                                                 \u001b[31m│\u001b[0m\n",
       "\u001b[31m│\u001b[0m \u001b[2;33m/Users/ytong/envs/experiments/lib/python3.11/site-packages/grpc/\u001b[0m\u001b[1;33m_channel.py\u001b[0m:\u001b[94m1043\u001b[0m in \u001b[92mwith_call\u001b[0m                   \u001b[31m│\u001b[0m\n",
       "\u001b[31m│\u001b[0m                                                                                                                 \u001b[31m│\u001b[0m\n",
       "\u001b[31m│\u001b[0m \u001b[31m❱ \u001b[0m1043 \u001b[2m│   │   \u001b[0m\u001b[94mreturn\u001b[0m _end_unary_response_blocking(state, call, \u001b[94mTrue\u001b[0m, \u001b[94mNone\u001b[0m)                                     \u001b[31m│\u001b[0m\n",
       "\u001b[31m│\u001b[0m                                                                                                                 \u001b[31m│\u001b[0m\n",
       "\u001b[31m│\u001b[0m \u001b[2;33m/Users/ytong/envs/experiments/lib/python3.11/site-packages/grpc/\u001b[0m\u001b[1;33m_channel.py\u001b[0m:\u001b[94m910\u001b[0m in \u001b[92m_end_unary_response_blocking\u001b[0m \u001b[31m│\u001b[0m\n",
       "\u001b[31m│\u001b[0m                                                                                                                 \u001b[31m│\u001b[0m\n",
       "\u001b[31m│\u001b[0m \u001b[31m❱ \u001b[0m 910 \u001b[2m│   │   \u001b[0m\u001b[94mraise\u001b[0m _InactiveRpcError(state)  \u001b[2m# pytype: disable=not-instantiable\u001b[0m                               \u001b[31m│\u001b[0m\n",
       "\u001b[31m╰─────────────────────────────────────────────────────────────────────────────────────────────────────────────────╯\u001b[0m\n",
       "\u001b[1;91m_InactiveRpcError: \u001b[0m\u001b[1m<\u001b[0m\u001b[1;95m_InactiveRpcError\u001b[0m\u001b[39m of RPC that terminated with:\u001b[0m\n",
       "\u001b[39m \u001b[0m       \u001b[39mstatus = StatusCode.NOT_FOUND\u001b[0m\n",
       "\u001b[39m \u001b[0m       \u001b[39mdetails = \u001b[0m\u001b[32m\"artifact \u001b[0m\u001b[32m[\u001b[0m\u001b[32m{\u001b[0m\u001b[32mproject:\"\u001b[0m\u001b[39mflytesnacks\" domain:\u001b[0m\u001b[32m\"development\"\u001b[0m\u001b[39m name:\u001b[0m\u001b[32m\"ride_count_data\"\u001b[0m\u001b[39m   \u001b[0m\u001b[1;36m0x140053f6118\u001b[0m\u001b[39m \u001b[0m\u001b[1;39m{\u001b[0m\u001b[1;39m}\u001b[0m\u001b[39m \u001b[0m\n",
       "\u001b[1;39m[\u001b[0m\u001b[1;39m]\u001b[0m\u001b[39m \u001b[0m\u001b[1;36m0\u001b[0m\u001b[1;39m}\u001b[0m\u001b[1;39m]\u001b[0m\u001b[39m not found\"\u001b[0m\n",
       "\u001b[39m \u001b[0m       \u001b[39mdebug_error_string = \u001b[0m\u001b[32m\"UNKNOWN:Error received from peer  \u001b[0m\u001b[32m{\u001b[0m\u001b[32mgrpc_message:\"\u001b[0m\u001b[39martifact \u001b[0m\u001b[1;39m[\u001b[0m\u001b[1;39m{\u001b[0m\u001b[39mproject:\\\"flytesnacks\\\" \u001b[0m\n",
       "\u001b[39mdomain:\\\"development\\\" name:\\\"ride_count_data\\\"   \u001b[0m\u001b[1;36m0x140053f6118\u001b[0m\u001b[39m \u001b[0m\u001b[1;39m{\u001b[0m\u001b[1;39m}\u001b[0m\u001b[39m \u001b[0m\u001b[1;39m[\u001b[0m\u001b[1;39m]\u001b[0m\u001b[39m \u001b[0m\u001b[1;36m0\u001b[0m\u001b[1;39m}\u001b[0m\u001b[1;39m]\u001b[0m\u001b[39m not found\", grpc_status:\u001b[0m\u001b[1;36m5\u001b[0m\u001b[39m, \u001b[0m\n",
       "\u001b[39mcreated_time:\u001b[0m\u001b[32m\"2023-11-15T15:28:09.19656+08:00\"\u001b[0m\u001b[1;39m}\u001b[0m\u001b[39m\"\u001b[0m\n",
       "\u001b[1m>\u001b[0m\n",
       "\n",
       "\u001b[3mThe above exception was the direct cause of the following exception:\u001b[0m\n",
       "\n",
       "\u001b[31m╭─\u001b[0m\u001b[31m──────────────────────────────────────\u001b[0m\u001b[31m \u001b[0m\u001b[1;31mTraceback \u001b[0m\u001b[1;2;31m(most recent call last)\u001b[0m\u001b[31m \u001b[0m\u001b[31m──────────────────────────────────────\u001b[0m\u001b[31m─╮\u001b[0m\n",
       "\u001b[31m│\u001b[0m in \u001b[92m<module>\u001b[0m:\u001b[94m1\u001b[0m                                                                                                   \u001b[31m│\u001b[0m\n",
       "\u001b[31m│\u001b[0m                                                                                                                 \u001b[31m│\u001b[0m\n",
       "\u001b[31m│\u001b[0m \u001b[31m❱ \u001b[0m1 a = r.get_artifact(\u001b[33mf\u001b[0m\u001b[33m\"\u001b[0m\u001b[33mflyte://av0.1/flytesnacks/development/ride_count_data?region=SEA\u001b[0m\u001b[33m\"\u001b[0m)                     \u001b[31m│\u001b[0m\n",
       "\u001b[31m│\u001b[0m                                                                                                                 \u001b[31m│\u001b[0m\n",
       "\u001b[31m│\u001b[0m \u001b[2;33m/Users/ytong/go/src/github.com/flyteorg/flytekit/flytekit/remote/\u001b[0m\u001b[1;33mremote.py\u001b[0m:\u001b[94m400\u001b[0m in \u001b[92mget_artifact\u001b[0m                  \u001b[31m│\u001b[0m\n",
       "\u001b[31m│\u001b[0m                                                                                                                 \u001b[31m│\u001b[0m\n",
       "\u001b[31m│\u001b[0m \u001b[31m❱ \u001b[0m 400 \u001b[2m│   │   \u001b[0mresp = \u001b[96mself\u001b[0m.client.get_artifact(req)                                                             \u001b[31m│\u001b[0m\n",
       "\u001b[31m│\u001b[0m                                                                                                                 \u001b[31m│\u001b[0m\n",
       "\u001b[31m│\u001b[0m \u001b[2;33m/Users/ytong/go/src/github.com/flyteorg/flytekit/flytekit/clients/\u001b[0m\u001b[1;33mfriendly.py\u001b[0m:\u001b[94m1043\u001b[0m in \u001b[92mget_artifact\u001b[0m              \u001b[31m│\u001b[0m\n",
       "\u001b[31m│\u001b[0m                                                                                                                 \u001b[31m│\u001b[0m\n",
       "\u001b[31m│\u001b[0m \u001b[31m❱ \u001b[0m1043 \u001b[2m│   │   \u001b[0m\u001b[94mreturn\u001b[0m \u001b[96mself\u001b[0m._artifact_stub.GetArtifact(request)                                                  \u001b[31m│\u001b[0m\n",
       "\u001b[31m│\u001b[0m                                                                                                                 \u001b[31m│\u001b[0m\n",
       "\u001b[31m│\u001b[0m \u001b[2;33m/Users/ytong/envs/experiments/lib/python3.11/site-packages/grpc/\u001b[0m\u001b[1;33m_interceptor.py\u001b[0m:\u001b[94m247\u001b[0m in \u001b[92m__call__\u001b[0m                 \u001b[31m│\u001b[0m\n",
       "\u001b[31m│\u001b[0m                                                                                                                 \u001b[31m│\u001b[0m\n",
       "\u001b[31m│\u001b[0m \u001b[31m❱ \u001b[0m247 \u001b[2m│   │   \u001b[0mresponse, ignored_call = \u001b[96mself\u001b[0m._with_call(request,                                                 \u001b[31m│\u001b[0m\n",
       "\u001b[31m│\u001b[0m                                                                                                                 \u001b[31m│\u001b[0m\n",
       "\u001b[31m│\u001b[0m \u001b[2;33m/Users/ytong/envs/experiments/lib/python3.11/site-packages/grpc/\u001b[0m\u001b[1;33m_interceptor.py\u001b[0m:\u001b[94m287\u001b[0m in \u001b[92m_with_call\u001b[0m               \u001b[31m│\u001b[0m\n",
       "\u001b[31m│\u001b[0m                                                                                                                 \u001b[31m│\u001b[0m\n",
       "\u001b[31m│\u001b[0m \u001b[31m❱ \u001b[0m287 \u001b[2m│   │   \u001b[0mcall = \u001b[96mself\u001b[0m._interceptor.intercept_unary_unary(continuation,                                      \u001b[31m│\u001b[0m\n",
       "\u001b[31m│\u001b[0m                                                                                                                 \u001b[31m│\u001b[0m\n",
       "\u001b[31m│\u001b[0m \u001b[2;33m/Users/ytong/go/src/github.com/flyteorg/flytekit/flytekit/clients/grpc_utils/\u001b[0m\u001b[1;33mwrap_exception_interceptor.py\u001b[0m:\u001b[94m44\u001b[0m   \u001b[31m│\u001b[0m\n",
       "\u001b[31m│\u001b[0m in \u001b[92mintercept_unary_unary\u001b[0m                                                                                        \u001b[31m│\u001b[0m\n",
       "\u001b[31m│\u001b[0m                                                                                                                 \u001b[31m│\u001b[0m\n",
       "\u001b[31m│\u001b[0m \u001b[31m❱ \u001b[0m44 \u001b[2m│   │   │   │   │   \u001b[0m\u001b[94mraise\u001b[0m e                                                                                \u001b[31m│\u001b[0m\n",
       "\u001b[31m│\u001b[0m                                                                                                                 \u001b[31m│\u001b[0m\n",
       "\u001b[31m│\u001b[0m \u001b[2;33m/Users/ytong/go/src/github.com/flyteorg/flytekit/flytekit/clients/grpc_utils/\u001b[0m\u001b[1;33mwrap_exception_interceptor.py\u001b[0m:\u001b[94m40\u001b[0m   \u001b[31m│\u001b[0m\n",
       "\u001b[31m│\u001b[0m in \u001b[92mintercept_unary_unary\u001b[0m                                                                                        \u001b[31m│\u001b[0m\n",
       "\u001b[31m│\u001b[0m                                                                                                                 \u001b[31m│\u001b[0m\n",
       "\u001b[31m│\u001b[0m \u001b[31m❱ \u001b[0m40 \u001b[2m│   │   │   │   │   \u001b[0m\u001b[96mself\u001b[0m._raise_if_exc(request, e)                                                         \u001b[31m│\u001b[0m\n",
       "\u001b[31m│\u001b[0m                                                                                                                 \u001b[31m│\u001b[0m\n",
       "\u001b[31m│\u001b[0m \u001b[2;33m/Users/ytong/go/src/github.com/flyteorg/flytekit/flytekit/clients/grpc_utils/\u001b[0m\u001b[1;33mwrap_exception_interceptor.py\u001b[0m:\u001b[94m28\u001b[0m   \u001b[31m│\u001b[0m\n",
       "\u001b[31m│\u001b[0m in \u001b[92m_raise_if_exc\u001b[0m                                                                                                \u001b[31m│\u001b[0m\n",
       "\u001b[31m│\u001b[0m                                                                                                                 \u001b[31m│\u001b[0m\n",
       "\u001b[31m│\u001b[0m \u001b[31m❱ \u001b[0m28 \u001b[2m│   │   │   │   \u001b[0m\u001b[94mraise\u001b[0m FlyteEntityNotExistException() \u001b[94mfrom\u001b[0m \u001b[4;96me\u001b[0m                                                \u001b[31m│\u001b[0m\n",
       "\u001b[31m╰─────────────────────────────────────────────────────────────────────────────────────────────────────────────────╯\u001b[0m\n",
       "\u001b[1;91mFlyteEntityNotExistException\u001b[0m\n"
      ]
     },
     "metadata": {},
     "output_type": "display_data"
    }
   ],
   "source": [
    "a = r.get_artifact(f\"flyte://av0.1/flytesnacks/development/ride_count_data?region=SEA\")\n",
    "a"
   ]
  },
  {
   "cell_type": "code",
   "execution_count": 12,
   "id": "bdb5b55b-206f-401b-beb8-5a702eca6c8b",
   "metadata": {},
   "outputs": [
    {
     "data": {
      "text/plain": [
       "artifacts {\n",
       "  artifact_id {\n",
       "    artifact_key {\n",
       "      project: \"flytesnacks\"\n",
       "      domain: \"development\"\n",
       "      name: \"ride_count_data\"\n",
       "    }\n",
       "    version: \"adz2x6krzsnpvj4s4fbm/n2/0/o0\"\n",
       "    partitions {\n",
       "      value {\n",
       "        key: \"region\"\n",
       "        value {\n",
       "          static_value: \"SFO\"\n",
       "        }\n",
       "      }\n",
       "      value {\n",
       "        key: \"ds\"\n",
       "        value {\n",
       "          static_value: \"2023-09-05\"\n",
       "        }\n",
       "      }\n",
       "    }\n",
       "  }\n",
       "  spec {\n",
       "    value {\n",
       "      scalar {\n",
       "        structured_dataset {\n",
       "          uri: \"s3://my-s3-bucket/data/8c/adz2x6krzsnpvj4s4fbm-n2-0/4f09b5c10be8972612f5a2efbde26c1e\"\n",
       "          metadata {\n",
       "            structured_dataset_type {\n",
       "              format: \"parquet\"\n",
       "            }\n",
       "          }\n",
       "        }\n",
       "      }\n",
       "      metadata {\n",
       "        key: \"_ua\"\n",
       "        value: \"flytesnacks/development/adz2x6krzsnpvj4s4fbm/n2/0/o0\"\n",
       "      }\n",
       "    }\n",
       "    type {\n",
       "      structured_dataset_type {\n",
       "      }\n",
       "    }\n",
       "  }\n",
       "  source {\n",
       "    workflow_execution {\n",
       "      project: \"flytesnacks\"\n",
       "      domain: \"development\"\n",
       "    }\n",
       "    task_id {\n",
       "      resource_type: TASK\n",
       "      project: \"flytesnacks\"\n",
       "      domain: \"development\"\n",
       "      name: \"artifact_ux.demo_ml.gather_data\"\n",
       "      version: \"gft29\"\n",
       "    }\n",
       "  }\n",
       "}\n",
       "token: \"1\""
      ]
     },
     "execution_count": 12,
     "metadata": {},
     "output_type": "execute_result"
    }
   ],
   "source": [
    "ak = art_id.ArtifactKey(domain=\"development\")\n",
    "opt = artifacts_pb2.SearchOptions(latest_by_key=True)\n",
    "r.client._artifact_stub.SearchArtifacts(artifacts_pb2.SearchArtifactsRequest(artifact_key=ak, options=opt))"
   ]
  },
  {
   "cell_type": "code",
   "execution_count": 21,
   "id": "5045fbfb-6391-4e43-89cf-a255887e3286",
   "metadata": {},
   "outputs": [
    {
     "data": {
      "text/plain": [
       "artifacts {\n",
       "  artifact_id {\n",
       "    artifact_key {\n",
       "    }\n",
       "    version: \"af2x4txljlx8tw8dxtsq/n0/0/o0\"\n",
       "    partitions {\n",
       "      value {\n",
       "        key: \"region\"\n",
       "        value {\n",
       "          static_value: \"SEA\"\n",
       "        }\n",
       "      }\n",
       "      value {\n",
       "        key: \"ds\"\n",
       "        value {\n",
       "          static_value: \"2023-11-14\"\n",
       "        }\n",
       "      }\n",
       "    }\n",
       "  }\n",
       "  spec {\n",
       "    value {\n",
       "      scalar {\n",
       "        structured_dataset {\n",
       "          uri: \"s3://my-s3-bucket/data/xf/af2x4txljlx8tw8dxtsq-n0-0/78ca7ff15a4713815cd282e857641b43\"\n",
       "          metadata {\n",
       "            structured_dataset_type {\n",
       "              format: \"parquet\"\n",
       "            }\n",
       "          }\n",
       "        }\n",
       "      }\n",
       "      metadata {\n",
       "        key: \"_ua\"\n",
       "        value: \"flytesnacks/development/af2x4txljlx8tw8dxtsq/n0/0/o0\"\n",
       "      }\n",
       "    }\n",
       "    type {\n",
       "      structured_dataset_type {\n",
       "      }\n",
       "    }\n",
       "  }\n",
       "  source {\n",
       "    workflow_execution {\n",
       "      name: \"af2x4txljlx8tw8dxtsq\"\n",
       "    }\n",
       "    node_id: \"n0\"\n",
       "    task_id {\n",
       "      resource_type: TASK\n",
       "      project: \"flytesnacks\"\n",
       "      domain: \"development\"\n",
       "      name: \"artifact_ux.demo_ml.gather_data\"\n",
       "      version: \"gft37\"\n",
       "    }\n",
       "  }\n",
       "}\n",
       "artifacts {\n",
       "  artifact_id {\n",
       "    artifact_key {\n",
       "    }\n",
       "    version: \"af2x4txljlx8tw8dxtsq/n0/0/o0\"\n",
       "    partitions {\n",
       "      value {\n",
       "        key: \"region\"\n",
       "        value {\n",
       "          static_value: \"SEA\"\n",
       "        }\n",
       "      }\n",
       "      value {\n",
       "        key: \"ds\"\n",
       "        value {\n",
       "          static_value: \"2023-11-14\"\n",
       "        }\n",
       "      }\n",
       "    }\n",
       "  }\n",
       "  spec {\n",
       "    value {\n",
       "      scalar {\n",
       "        structured_dataset {\n",
       "          uri: \"s3://my-s3-bucket/data/xf/af2x4txljlx8tw8dxtsq-n0-0/78ca7ff15a4713815cd282e857641b43\"\n",
       "          metadata {\n",
       "            structured_dataset_type {\n",
       "              format: \"parquet\"\n",
       "            }\n",
       "          }\n",
       "        }\n",
       "      }\n",
       "      metadata {\n",
       "        key: \"_ua\"\n",
       "        value: \"flytesnacks/development/af2x4txljlx8tw8dxtsq/n0/0/o0\"\n",
       "      }\n",
       "    }\n",
       "    type {\n",
       "      structured_dataset_type {\n",
       "      }\n",
       "    }\n",
       "  }\n",
       "  source {\n",
       "    workflow_execution {\n",
       "      name: \"af2x4txljlx8tw8dxtsq\"\n",
       "    }\n",
       "    node_id: \"n0\"\n",
       "    task_id {\n",
       "      resource_type: TASK\n",
       "      project: \"flytesnacks\"\n",
       "      domain: \"development\"\n",
       "      name: \"artifact_ux.demo_ml.gather_data\"\n",
       "      version: \"gft37\"\n",
       "    }\n",
       "  }\n",
       "}\n",
       "artifacts {\n",
       "  artifact_id {\n",
       "    artifact_key {\n",
       "    }\n",
       "    version: \"af2x4txljlx8tw8dxtsq/n0/0/o0\"\n",
       "    partitions {\n",
       "      value {\n",
       "        key: \"region\"\n",
       "        value {\n",
       "          static_value: \"SEA\"\n",
       "        }\n",
       "      }\n",
       "      value {\n",
       "        key: \"ds\"\n",
       "        value {\n",
       "          static_value: \"2023-11-14\"\n",
       "        }\n",
       "      }\n",
       "    }\n",
       "  }\n",
       "  spec {\n",
       "    value {\n",
       "      scalar {\n",
       "        structured_dataset {\n",
       "          uri: \"s3://my-s3-bucket/data/xf/af2x4txljlx8tw8dxtsq-n0-0/78ca7ff15a4713815cd282e857641b43\"\n",
       "          metadata {\n",
       "            structured_dataset_type {\n",
       "              format: \"parquet\"\n",
       "            }\n",
       "          }\n",
       "        }\n",
       "      }\n",
       "      metadata {\n",
       "        key: \"_ua\"\n",
       "        value: \"flytesnacks/development/af2x4txljlx8tw8dxtsq/n0/0/o0\"\n",
       "      }\n",
       "    }\n",
       "    type {\n",
       "      structured_dataset_type {\n",
       "      }\n",
       "    }\n",
       "  }\n",
       "  source {\n",
       "    workflow_execution {\n",
       "      name: \"af2x4txljlx8tw8dxtsq\"\n",
       "    }\n",
       "    node_id: \"n0\"\n",
       "    task_id {\n",
       "      resource_type: TASK\n",
       "      project: \"flytesnacks\"\n",
       "      domain: \"development\"\n",
       "      name: \"artifact_ux.demo_ml.gather_data\"\n",
       "      version: \"gft37\"\n",
       "    }\n",
       "  }\n",
       "}"
      ]
     },
     "execution_count": 21,
     "metadata": {},
     "output_type": "execute_result"
    }
   ],
   "source": [
    "exec_id = identifier_pb2.WorkflowExecutionIdentifier(project=\"flytesnacks\", domain=\"development\", name=\"af2x4txljlx8tw8dxtsq\")\n",
    "req = artifacts_pb2.FindByWorkflowExecRequest(exec_id=exec_id, direction=1)\n",
    "r.client._artifact_stub.FindByWorkflowExec(req)"
   ]
  },
  {
   "cell_type": "code",
   "execution_count": 31,
   "id": "744883c1-0d76-4e17-8dc0-42a1c7215825",
   "metadata": {},
   "outputs": [
    {
     "data": {
      "text/plain": []
     },
     "execution_count": 31,
     "metadata": {},
     "output_type": "execute_result"
    }
   ],
   "source": [
    "exec_id = identifier_pb2.WorkflowExecutionIdentifier(project=\"flytesnacks\", domain=\"development\", name=\"qpsbpogvawxv\")\n",
    "req = artifacts_pb2.FindByWorkflowExecRequest(exec_id=exec_id, direction=0)\n",
    "r.client._artifact_stub.FindByWorkflowExec(req)"
   ]
  }
 ],
 "metadata": {
  "kernelspec": {
   "display_name": "Python 3 (ipykernel)",
   "language": "python",
   "name": "python3"
  },
  "language_info": {
   "codemirror_mode": {
    "name": "ipython",
    "version": 3
   },
   "file_extension": ".py",
   "mimetype": "text/x-python",
   "name": "python",
   "nbconvert_exporter": "python",
   "pygments_lexer": "ipython3",
   "version": "3.11.5"
  }
 },
 "nbformat": 4,
 "nbformat_minor": 5
}
