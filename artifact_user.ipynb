{
 "cells": [
  {
   "cell_type": "code",
   "execution_count": 52,
   "id": "5774d172",
   "metadata": {},
   "outputs": [],
   "source": [
    "import typing\n",
    "import pandas as pd\n",
    "\n",
    "from typing_extensions import Annotated\n",
    "\n",
    "from flytekit.remote.remote import FlyteRemote\n",
    "from flytekit import task, workflow, LaunchPlan\n",
    "from flytekit.configuration import Config\n",
    "from flytekit.core.artifact import Artifact\n",
    "from flytekit.extend import TypeEngine\n",
    "\n",
    "from flytekit.core.context_manager import FlyteContextManager\n",
    "from flytekit.types.structured.structured_dataset import StructuredDataset"
   ]
  },
  {
   "cell_type": "code",
   "execution_count": 74,
   "id": "43ae3177",
   "metadata": {},
   "outputs": [],
   "source": [
    "r = FlyteRemote(\n",
    "    Config.auto(config_file=\"/Users/ytong/.flyte/local_admin.yaml\"),\n",
    "    default_project=\"flytesnacks\",\n",
    "    default_domain=\"development\",\n",
    ")"
   ]
  },
  {
   "cell_type": "markdown",
   "id": "b8b9d211",
   "metadata": {},
   "source": [
    "### Existing Interaction Model"
   ]
  },
  {
   "cell_type": "markdown",
   "id": "c1776f78",
   "metadata": {},
   "source": [
    "Ran the `run_gather_data` Fetch and traverse nodes"
   ]
  },
  {
   "cell_type": "code",
   "execution_count": 75,
   "id": "1a004986",
   "metadata": {},
   "outputs": [],
   "source": [
    "e1 = r.fetch_execution(name=\"ab7g4qhpvz5c7r5lgh6w\")"
   ]
  },
  {
   "cell_type": "code",
   "execution_count": 76,
   "id": "ab533d3a",
   "metadata": {},
   "outputs": [
    {
     "data": {
      "text/plain": [
       "<FlyteLiteral id { project: \"flytesnacks\" domain: \"development\" name: \"ab7g4qhpvz5c7r5lgh6w\" } spec { launch_plan { resource_type: LAUNCH_PLAN project: \"flytesnacks\" domain: \"development\" name: \"ml_demo.run_gather_data\" version: \"vzCR5rgllTnWtQEuWHLkgQ==\" } metadata { system_metadata { } } labels { } annotations { } auth_role { } } closure { outputs { uri: \"s3://my-s3-bucket/metadata/propeller/flytesnacks-development-ab7g4qhpvz5c7r5lgh6w/end-node/data/0/outputs.pb\" } phase: SUCCEEDED started_at { seconds: 1691685440 nanos: 803249000 } duration { seconds: 36 nanos: 252519000 } created_at { seconds: 1691685440 nanos: 788673000 } updated_at { seconds: 1691685477 nanos: 55768000 } }>"
      ]
     },
     "execution_count": 76,
     "metadata": {},
     "output_type": "execute_result"
    }
   ],
   "source": [
    "r.sync_execution(e1, sync_nodes=True)"
   ]
  },
  {
   "cell_type": "code",
   "execution_count": 77,
   "id": "beabd33a",
   "metadata": {},
   "outputs": [],
   "source": [
    "v = e1.node_executions[\"n0\"].outputs.get(\"o0\")"
   ]
  },
  {
   "cell_type": "code",
   "execution_count": 78,
   "id": "b8794428",
   "metadata": {},
   "outputs": [],
   "source": [
    "df = v.open(pd.DataFrame).all()"
   ]
  },
  {
   "cell_type": "code",
   "execution_count": 79,
   "id": "377b62d0",
   "metadata": {},
   "outputs": [
    {
     "data": {
      "text/html": [
       "<div>\n",
       "<style scoped>\n",
       "    .dataframe tbody tr th:only-of-type {\n",
       "        vertical-align: middle;\n",
       "    }\n",
       "\n",
       "    .dataframe tbody tr th {\n",
       "        vertical-align: top;\n",
       "    }\n",
       "\n",
       "    .dataframe thead th {\n",
       "        text-align: right;\n",
       "    }\n",
       "</style>\n",
       "<table border=\"1\" class=\"dataframe\">\n",
       "  <thead>\n",
       "    <tr style=\"text-align: right;\">\n",
       "      <th></th>\n",
       "      <th>sectors</th>\n",
       "      <th>rides</th>\n",
       "    </tr>\n",
       "  </thead>\n",
       "  <tbody>\n",
       "    <tr>\n",
       "      <th>0</th>\n",
       "      <td>SEA</td>\n",
       "      <td>148</td>\n",
       "    </tr>\n",
       "    <tr>\n",
       "      <th>1</th>\n",
       "      <td>SAE</td>\n",
       "      <td>370</td>\n",
       "    </tr>\n",
       "    <tr>\n",
       "      <th>2</th>\n",
       "      <td>ESA</td>\n",
       "      <td>268</td>\n",
       "    </tr>\n",
       "    <tr>\n",
       "      <th>3</th>\n",
       "      <td>EAS</td>\n",
       "      <td>589</td>\n",
       "    </tr>\n",
       "    <tr>\n",
       "      <th>4</th>\n",
       "      <td>ASE</td>\n",
       "      <td>206</td>\n",
       "    </tr>\n",
       "    <tr>\n",
       "      <th>5</th>\n",
       "      <td>AES</td>\n",
       "      <td>853</td>\n",
       "    </tr>\n",
       "  </tbody>\n",
       "</table>\n",
       "</div>"
      ],
      "text/plain": [
       "  sectors  rides\n",
       "0     SEA    148\n",
       "1     SAE    370\n",
       "2     ESA    268\n",
       "3     EAS    589\n",
       "4     ASE    206\n",
       "5     AES    853"
      ]
     },
     "execution_count": 79,
     "metadata": {},
     "output_type": "execute_result"
    }
   ],
   "source": [
    "df"
   ]
  },
  {
   "cell_type": "markdown",
   "id": "8f6e8780",
   "metadata": {},
   "source": [
    "### Union Artifact Model"
   ]
  },
  {
   "cell_type": "markdown",
   "id": "a86c3a98",
   "metadata": {},
   "source": [
    "#### Data Access"
   ]
  },
  {
   "cell_type": "code",
   "execution_count": 81,
   "id": "c9516d9a",
   "metadata": {},
   "outputs": [],
   "source": [
    "execid = \"ab7g4qhpvz5c7r5lgh6w\""
   ]
  },
  {
   "cell_type": "code",
   "execution_count": 82,
   "id": "e516424d",
   "metadata": {},
   "outputs": [],
   "source": [
    "a = r.get_artifact(f\"flyte://av0.1/flytesnacks/development/{execid}/n0/0/o/o0\")"
   ]
  },
  {
   "cell_type": "code",
   "execution_count": 83,
   "id": "87f43cea",
   "metadata": {},
   "outputs": [
    {
     "data": {
      "text/plain": [
       "Artifact: project=flytesnacks, domain=development, name=ab7g4qhpvz5c7r5lgh6w/n0/0/o/o0, version=ab7g4qhpvz5c7r5lgh6w\n",
       "  name=ab7g4qhpvz5c7r5lgh6w/n0/0/o/o0\n",
       "  partitions=None\n",
       "  tags=None\n",
       "  literal_type=<FlyteLiteral structured_dataset_type { }>, literal=<FlyteLiteral scalar { structured_dataset { uri: \"s3://my-s3-bucket/data/u7/ab7g4qhpvz5c7r5lgh6w-n0-0/eacafaf086db564849d0715d395a8cc6\" metadata { structured_dataset_type { format: \"parquet\" } } } }>)"
      ]
     },
     "execution_count": 83,
     "metadata": {},
     "output_type": "execute_result"
    }
   ],
   "source": [
    "a"
   ]
  },
  {
   "cell_type": "code",
   "execution_count": 84,
   "id": "642e0cc6",
   "metadata": {},
   "outputs": [],
   "source": [
    "ctx = FlyteContextManager.current_context()\n",
    "v = TypeEngine.to_python_value(ctx, a.literal, pd.DataFrame)"
   ]
  },
  {
   "cell_type": "code",
   "execution_count": 85,
   "id": "0e2ed74a",
   "metadata": {},
   "outputs": [
    {
     "data": {
      "text/html": [
       "<div>\n",
       "<style scoped>\n",
       "    .dataframe tbody tr th:only-of-type {\n",
       "        vertical-align: middle;\n",
       "    }\n",
       "\n",
       "    .dataframe tbody tr th {\n",
       "        vertical-align: top;\n",
       "    }\n",
       "\n",
       "    .dataframe thead th {\n",
       "        text-align: right;\n",
       "    }\n",
       "</style>\n",
       "<table border=\"1\" class=\"dataframe\">\n",
       "  <thead>\n",
       "    <tr style=\"text-align: right;\">\n",
       "      <th></th>\n",
       "      <th>sectors</th>\n",
       "      <th>rides</th>\n",
       "    </tr>\n",
       "  </thead>\n",
       "  <tbody>\n",
       "    <tr>\n",
       "      <th>0</th>\n",
       "      <td>SEA</td>\n",
       "      <td>148</td>\n",
       "    </tr>\n",
       "    <tr>\n",
       "      <th>1</th>\n",
       "      <td>SAE</td>\n",
       "      <td>370</td>\n",
       "    </tr>\n",
       "    <tr>\n",
       "      <th>2</th>\n",
       "      <td>ESA</td>\n",
       "      <td>268</td>\n",
       "    </tr>\n",
       "    <tr>\n",
       "      <th>3</th>\n",
       "      <td>EAS</td>\n",
       "      <td>589</td>\n",
       "    </tr>\n",
       "    <tr>\n",
       "      <th>4</th>\n",
       "      <td>ASE</td>\n",
       "      <td>206</td>\n",
       "    </tr>\n",
       "    <tr>\n",
       "      <th>5</th>\n",
       "      <td>AES</td>\n",
       "      <td>853</td>\n",
       "    </tr>\n",
       "  </tbody>\n",
       "</table>\n",
       "</div>"
      ],
      "text/plain": [
       "  sectors  rides\n",
       "0     SEA    148\n",
       "1     SAE    370\n",
       "2     ESA    268\n",
       "3     EAS    589\n",
       "4     ASE    206\n",
       "5     AES    853"
      ]
     },
     "execution_count": 85,
     "metadata": {},
     "output_type": "execute_result"
    }
   ],
   "source": [
    "v"
   ]
  },
  {
   "cell_type": "markdown",
   "id": "a8f20f7b",
   "metadata": {},
   "source": [
    "#### Ability to Launch"
   ]
  },
  {
   "cell_type": "markdown",
   "id": "481585d0",
   "metadata": {},
   "source": [
    "kick off new execution with the fetched artifact, confirm it can be used and querying doesn't fail.\n",
    "then kick it off again without any artifact at all."
   ]
  },
  {
   "cell_type": "code",
   "execution_count": 86,
   "id": "217c49a4",
   "metadata": {},
   "outputs": [],
   "source": [
    "run_train_model_wf = r.fetch_workflow(\n",
    "        \"flytesnacks\", \"development\", \"ml_demo.run_train_model\", \"b3uzko1W7QFyAcBJjOOKmg==\"\n",
    "    )"
   ]
  },
  {
   "cell_type": "code",
   "execution_count": 87,
   "id": "3e8f6302",
   "metadata": {},
   "outputs": [
    {
     "data": {
      "text/plain": [
       "<FlyteLiteral id { project: \"flytesnacks\" domain: \"development\" name: \"f5ce2704393d0431c974\" } spec { launch_plan { resource_type: LAUNCH_PLAN project: \"flytesnacks\" domain: \"development\" name: \"ml_demo.run_train_model\" version: \"b3uzko1W7QFyAcBJjOOKmg==\" } metadata { system_metadata { } } notifications { } labels { } annotations { } auth_role { } } closure { started_at { } duration { } created_at { seconds: 1691789538 nanos: 712338000 } updated_at { seconds: 1691789538 nanos: 712338000 } }>"
      ]
     },
     "execution_count": 87,
     "metadata": {},
     "output_type": "execute_result"
    }
   ],
   "source": [
    "r.execute(run_train_model_wf, inputs={\"region\": \"SEA\", \"data\": a})"
   ]
  },
  {
   "cell_type": "markdown",
   "id": "a9744eaf",
   "metadata": {},
   "source": [
    "Execute without specifying the data. Note that the fetched artifact should match what was picked up by the query when it was kicked off."
   ]
  },
  {
   "cell_type": "code",
   "execution_count": 88,
   "id": "95e12fea",
   "metadata": {},
   "outputs": [
    {
     "data": {
      "text/plain": [
       "<FlyteLiteral id { project: \"flytesnacks\" domain: \"development\" name: \"f8856078e763943e28f2\" } spec { launch_plan { resource_type: LAUNCH_PLAN project: \"flytesnacks\" domain: \"development\" name: \"ml_demo.run_train_model\" version: \"b3uzko1W7QFyAcBJjOOKmg==\" } metadata { system_metadata { } } notifications { } labels { } annotations { } auth_role { } } closure { started_at { } duration { } created_at { seconds: 1691789662 nanos: 61454000 } updated_at { seconds: 1691789662 nanos: 61454000 } }>"
      ]
     },
     "execution_count": 88,
     "metadata": {},
     "output_type": "execute_result"
    }
   ],
   "source": [
    "r.execute(run_train_model_wf, inputs={\"region\": \"SEA\"})"
   ]
  },
  {
   "cell_type": "code",
   "execution_count": 89,
   "id": "69b444c4",
   "metadata": {},
   "outputs": [],
   "source": [
    "queried_artifact = r.get_artifact(f\"flyte://av0.1/flytesnacks/development/ride_count_data?region=SEA&ds=2023-08-58\")"
   ]
  },
  {
   "cell_type": "code",
   "execution_count": 90,
   "id": "0f4a8ac9",
   "metadata": {},
   "outputs": [
    {
     "data": {
      "text/plain": [
       "Artifact: project=flytesnacks, domain=development, name=ride_count_data, version=a9njnpfrmjcvcbtdl5qk\n",
       "  name=ride_count_data\n",
       "  partitions={'ds': '2023-08-58', 'region': 'SEA'}\n",
       "  tags=None\n",
       "  literal_type=<FlyteLiteral structured_dataset_type { }>, literal=<FlyteLiteral scalar { structured_dataset { uri: \"s3://my-s3-bucket/data/nh/a9njnpfrmjcvcbtdl5qk-n0-0/8097b91bed1dadbec5b2edde1164a2ef\" metadata { structured_dataset_type { format: \"parquet\" } } } }>)"
      ]
     },
     "execution_count": 90,
     "metadata": {},
     "output_type": "execute_result"
    }
   ],
   "source": [
    "queried_artifact"
   ]
  },
  {
   "cell_type": "code",
   "execution_count": 91,
   "id": "9bd0e392",
   "metadata": {},
   "outputs": [],
   "source": [
    "model_artifact = r.get_artifact(f\"flyte://av0.1/flytesnacks/development/my-model:SEA\")"
   ]
  },
  {
   "cell_type": "code",
   "execution_count": 92,
   "id": "3d9730c7",
   "metadata": {},
   "outputs": [
    {
     "data": {
      "text/plain": [
       "Artifact: project=flytesnacks, domain=development, name=my-model, version=f8856078e763943e28f2\n",
       "  name=my-model\n",
       "  partitions=None\n",
       "  tags=['SEA']\n",
       "  literal_type=<FlyteLiteral blob { }>, literal=<FlyteLiteral scalar { blob { metadata { type { } } uri: \"s3://my-s3-bucket/data/i5/f8856078e763943e28f2-n0-0/15c549ee029c8389db34c3f987109045/ml_demo.py\" } }>)"
      ]
     },
     "execution_count": 92,
     "metadata": {},
     "output_type": "execute_result"
    }
   ],
   "source": [
    "model_artifact"
   ]
  },
  {
   "cell_type": "code",
   "execution_count": null,
   "id": "15d81fd1",
   "metadata": {},
   "outputs": [],
   "source": []
  }
 ],
 "metadata": {
  "kernelspec": {
   "display_name": "Python 3 (ipykernel)",
   "language": "python",
   "name": "python3"
  },
  "language_info": {
   "codemirror_mode": {
    "name": "ipython",
    "version": 3
   },
   "file_extension": ".py",
   "mimetype": "text/x-python",
   "name": "python",
   "nbconvert_exporter": "python",
   "pygments_lexer": "ipython3",
   "version": "3.10.12"
  }
 },
 "nbformat": 4,
 "nbformat_minor": 5
}
