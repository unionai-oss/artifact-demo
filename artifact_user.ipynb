{
 "cells": [
  {
   "cell_type": "code",
   "execution_count": 1,
   "id": "5774d172",
   "metadata": {},
   "outputs": [],
   "source": [
    "import typing\n",
    "import pandas as pd\n",
    "import pytz\n",
    "from datetime import datetime\n",
    "\n",
    "from typing_extensions import Annotated\n",
    "\n",
    "from flytekit.remote.remote import FlyteRemote\n",
    "from flytekit import task, workflow, LaunchPlan\n",
    "from flytekit.configuration import Config\n",
    "from flytekit.core.artifact import Artifact\n",
    "from flytekit.extend import TypeEngine\n",
    "\n",
    "from flytekit.core.context_manager import FlyteContextManager\n",
    "from flytekit.types.structured.structured_dataset import StructuredDataset"
   ]
  },
  {
   "cell_type": "code",
   "execution_count": 8,
   "id": "43ae3177",
   "metadata": {},
   "outputs": [],
   "source": [
    "r = FlyteRemote(\n",
    "    Config.auto(config_file=\"/Users/ytong/.flyte/config-sandbox.yaml\"),\n",
    "    default_project=\"flytesnacks\",\n",
    "    default_domain=\"development\",\n",
    ")"
   ]
  },
  {
   "cell_type": "markdown",
   "id": "837401e3-fc72-4d4f-8427-d6dab8acc0e4",
   "metadata": {},
   "source": [
    "### demo_ml.py"
   ]
  },
  {
   "cell_type": "markdown",
   "id": "f3922284-48c0-4f90-a0f7-614ced8cac2a",
   "metadata": {},
   "source": [
    "#### Getting an artifact (via a uri)"
   ]
  },
  {
   "cell_type": "markdown",
   "id": "881931fc-3e44-43b8-a157-0b1395b9da1f",
   "metadata": {},
   "source": [
    "First run the `artifact_ux.demo_ml.run_gather_data` workflow. This workflow just runs one simple task three times, each producing a dataframe. Note the `RideCountData` annotation on the output of the `gather_data` task."
   ]
  },
  {
   "cell_type": "markdown",
   "id": "6e99911c-d83f-402f-8319-d1efef15a509",
   "metadata": {},
   "source": [
    "NB: The binding syntax for specifying that the partitions depend on an input will be changing. We don't like exposing a string based template as it feels too error prone. "
   ]
  },
  {
   "cell_type": "markdown",
   "id": "8d32360d-b9ea-4133-bb6f-c18f1af5b65b",
   "metadata": {},
   "source": [
    "The artifacts produced by the task can be searched for by a message that we've mapped to a uri."
   ]
  },
  {
   "cell_type": "code",
   "execution_count": 9,
   "id": "33e8ebb9-d384-4e6c-a176-29e97ebe77aa",
   "metadata": {},
   "outputs": [
    {
     "data": {
      "text/plain": [
       "Artifact: project=flytesnacks, domain=development, name=ride_count_data, version=ahvdf9gb9q4zfkzq8gpq/n0/0/o0\n",
       "  name=ride_count_data\n",
       "  partitions=<flytekit.core.artifact.Partitions object at 0x1376541d0>\n",
       "  tags=None\n",
       "  literal_type=<FlyteLiteral structured_dataset_type { }>, literal=<FlyteLiteral scalar { structured_dataset { uri: \"s3://my-s3-bucket/data/8c/ahvdf9gb9q4zfkzq8gpq-n0-0/c4ef745ce7872e7ad6389e7ba4968196\" metadata { structured_dataset_type { format: \"parquet\" } } } }>)"
      ]
     },
     "execution_count": 9,
     "metadata": {},
     "output_type": "execute_result"
    }
   ],
   "source": [
    "a = r.get_artifact(f\"flyte://av0.1/flytesnacks/development/ride_count_data?region=SEA&ds=2023-09-05\")\n",
    "a"
   ]
  },
  {
   "cell_type": "markdown",
   "id": "c87c5701-1cc9-41df-9783-58224ad8516d",
   "metadata": {},
   "source": [
    "This is standard flytekit code - it pulls down and converts the value from a Flyte literal to a Python literal."
   ]
  },
  {
   "cell_type": "code",
   "execution_count": 4,
   "id": "642e0cc6",
   "metadata": {},
   "outputs": [],
   "source": [
    "ctx = FlyteContextManager.current_context()\n",
    "v = TypeEngine.to_python_value(ctx, a.literal, pd.DataFrame)"
   ]
  },
  {
   "cell_type": "code",
   "execution_count": 5,
   "id": "0e2ed74a",
   "metadata": {},
   "outputs": [
    {
     "data": {
      "text/html": [
       "<div>\n",
       "<style scoped>\n",
       "    .dataframe tbody tr th:only-of-type {\n",
       "        vertical-align: middle;\n",
       "    }\n",
       "\n",
       "    .dataframe tbody tr th {\n",
       "        vertical-align: top;\n",
       "    }\n",
       "\n",
       "    .dataframe thead th {\n",
       "        text-align: right;\n",
       "    }\n",
       "</style>\n",
       "<table border=\"1\" class=\"dataframe\">\n",
       "  <thead>\n",
       "    <tr style=\"text-align: right;\">\n",
       "      <th></th>\n",
       "      <th>sectors</th>\n",
       "      <th>rides</th>\n",
       "    </tr>\n",
       "  </thead>\n",
       "  <tbody>\n",
       "    <tr>\n",
       "      <th>0</th>\n",
       "      <td>SEA</td>\n",
       "      <td>731</td>\n",
       "    </tr>\n",
       "    <tr>\n",
       "      <th>1</th>\n",
       "      <td>SAE</td>\n",
       "      <td>358</td>\n",
       "    </tr>\n",
       "    <tr>\n",
       "      <th>2</th>\n",
       "      <td>ESA</td>\n",
       "      <td>877</td>\n",
       "    </tr>\n",
       "    <tr>\n",
       "      <th>3</th>\n",
       "      <td>EAS</td>\n",
       "      <td>199</td>\n",
       "    </tr>\n",
       "    <tr>\n",
       "      <th>4</th>\n",
       "      <td>ASE</td>\n",
       "      <td>643</td>\n",
       "    </tr>\n",
       "    <tr>\n",
       "      <th>5</th>\n",
       "      <td>AES</td>\n",
       "      <td>722</td>\n",
       "    </tr>\n",
       "  </tbody>\n",
       "</table>\n",
       "</div>"
      ],
      "text/plain": [
       "  sectors  rides\n",
       "0     SEA    731\n",
       "1     SAE    358\n",
       "2     ESA    877\n",
       "3     EAS    199\n",
       "4     ASE    643\n",
       "5     AES    722"
      ]
     },
     "execution_count": 5,
     "metadata": {},
     "output_type": "execute_result"
    }
   ],
   "source": [
    "v"
   ]
  },
  {
   "cell_type": "markdown",
   "id": "a8f20f7b",
   "metadata": {},
   "source": [
    "#### Using an artifact to Launch"
   ]
  },
  {
   "cell_type": "markdown",
   "id": "481585d0",
   "metadata": {},
   "source": [
    "kick off new execution with the fetched artifact, confirm it can be used and querying doesn't fail.\n",
    "then kick it off again without any artifact at all."
   ]
  },
  {
   "cell_type": "code",
   "execution_count": 4,
   "id": "664a4346-a994-4da3-9c6e-46e979e4601b",
   "metadata": {},
   "outputs": [],
   "source": [
    "wf_version = \"sb3\""
   ]
  },
  {
   "cell_type": "code",
   "execution_count": 5,
   "id": "217c49a4",
   "metadata": {},
   "outputs": [],
   "source": [
    "run_train_model_wf = r.fetch_workflow(\n",
    "        \"flytesnacks\", \"development\", \"artifact_ux.demo_ml.run_train_model\", wf_version\n",
    "    )"
   ]
  },
  {
   "cell_type": "markdown",
   "id": "bab01f4d-a15a-46b2-9403-7cb148298be5",
   "metadata": {},
   "source": [
    "This shows how to use an output generated by an unrelated workflow/task, in a separate workflow. Here pass the artifact variable `a` to the `data` input."
   ]
  },
  {
   "cell_type": "code",
   "execution_count": 6,
   "id": "fba39e47-cb81-4173-aa16-98f53e3a7151",
   "metadata": {},
   "outputs": [],
   "source": [
    "dd = datetime(2023, 9, 5)\n",
    "dd = dd.astimezone(pytz.UTC).replace(tzinfo=None)"
   ]
  },
  {
   "cell_type": "code",
   "execution_count": 10,
   "id": "3e8f6302",
   "metadata": {
    "scrolled": true
   },
   "outputs": [
    {
     "data": {
      "text/plain": [
       "<FlyteLiteral id { project: \"flytesnacks\" domain: \"development\" name: \"f9b4888af79b34ad987d\" } spec { launch_plan { resource_type: LAUNCH_PLAN project: \"flytesnacks\" domain: \"development\" name: \"artifact_ux.demo_ml.run_train_model\" version: \"sb3\" } metadata { system_metadata { } } notifications { } labels { } annotations { } auth_role { } } closure { started_at { } duration { } created_at { seconds: 1698323792 nanos: 886465000 } updated_at { seconds: 1698323792 nanos: 886465000 } }>"
      ]
     },
     "execution_count": 10,
     "metadata": {},
     "output_type": "execute_result"
    }
   ],
   "source": [
    "r.execute(run_train_model_wf, inputs={\"region\": \"SEA\", \"kickoff_time\": dd, \"data\": a})"
   ]
  },
  {
   "cell_type": "markdown",
   "id": "a9744eaf",
   "metadata": {},
   "source": [
    "Execute without specifying the data. Note that the fetched artifact should match what was picked up by the query when it was kicked off."
   ]
  },
  {
   "cell_type": "code",
   "execution_count": 7,
   "id": "95e12fea",
   "metadata": {
    "scrolled": true
   },
   "outputs": [
    {
     "data": {
      "text/html": [
       "<pre style=\"white-space:pre;overflow-x:auto;line-height:normal;font-family:Menlo,'DejaVu Sans Mono',consolas,'Courier New',monospace\"><span style=\"color: #800000; text-decoration-color: #800000\">╭─────────────────────────────────────── </span><span style=\"color: #800000; text-decoration-color: #800000; font-weight: bold\">Traceback </span><span style=\"color: #bf7f7f; text-decoration-color: #bf7f7f; font-weight: bold\">(most recent call last)</span><span style=\"color: #800000; text-decoration-color: #800000\"> ───────────────────────────────────────╮</span>\n",
       "<span style=\"color: #800000; text-decoration-color: #800000\">│</span> <span style=\"color: #bfbf7f; text-decoration-color: #bfbf7f\">/Users/ytong/envs/experiments/lib/python3.11/site-packages/grpc/</span><span style=\"color: #808000; text-decoration-color: #808000; font-weight: bold\">_interceptor.py</span>:<span style=\"color: #0000ff; text-decoration-color: #0000ff\">274</span> in <span style=\"color: #00ff00; text-decoration-color: #00ff00\">continuation</span>             <span style=\"color: #800000; text-decoration-color: #800000\">│</span>\n",
       "<span style=\"color: #800000; text-decoration-color: #800000\">│</span>                                                                                                                 <span style=\"color: #800000; text-decoration-color: #800000\">│</span>\n",
       "<span style=\"color: #800000; text-decoration-color: #800000\">│</span> <span style=\"color: #800000; text-decoration-color: #800000\">❱ </span>274 <span style=\"color: #7f7f7f; text-decoration-color: #7f7f7f\">│   │   │   │   </span>response, call = <span style=\"color: #00ffff; text-decoration-color: #00ffff\">self</span>._thunk(new_method).with_call(                                       <span style=\"color: #800000; text-decoration-color: #800000\">│</span>\n",
       "<span style=\"color: #800000; text-decoration-color: #800000\">│</span>                                                                                                                 <span style=\"color: #800000; text-decoration-color: #800000\">│</span>\n",
       "<span style=\"color: #800000; text-decoration-color: #800000\">│</span> <span style=\"color: #bfbf7f; text-decoration-color: #bfbf7f\">/Users/ytong/envs/experiments/lib/python3.11/site-packages/grpc/</span><span style=\"color: #808000; text-decoration-color: #808000; font-weight: bold\">_interceptor.py</span>:<span style=\"color: #0000ff; text-decoration-color: #0000ff\">301</span> in <span style=\"color: #00ff00; text-decoration-color: #00ff00\">with_call</span>                <span style=\"color: #800000; text-decoration-color: #800000\">│</span>\n",
       "<span style=\"color: #800000; text-decoration-color: #800000\">│</span>                                                                                                                 <span style=\"color: #800000; text-decoration-color: #800000\">│</span>\n",
       "<span style=\"color: #800000; text-decoration-color: #800000\">│</span> <span style=\"color: #800000; text-decoration-color: #800000\">❱ </span>301 <span style=\"color: #7f7f7f; text-decoration-color: #7f7f7f\">│   │   </span><span style=\"color: #0000ff; text-decoration-color: #0000ff\">return</span> <span style=\"color: #00ffff; text-decoration-color: #00ffff\">self</span>._with_call(request,                                                                   <span style=\"color: #800000; text-decoration-color: #800000\">│</span>\n",
       "<span style=\"color: #800000; text-decoration-color: #800000\">│</span>                                                                                                                 <span style=\"color: #800000; text-decoration-color: #800000\">│</span>\n",
       "<span style=\"color: #800000; text-decoration-color: #800000\">│</span> <span style=\"color: #bfbf7f; text-decoration-color: #bfbf7f\">/Users/ytong/envs/experiments/lib/python3.11/site-packages/grpc/</span><span style=\"color: #808000; text-decoration-color: #808000; font-weight: bold\">_interceptor.py</span>:<span style=\"color: #0000ff; text-decoration-color: #0000ff\">290</span> in <span style=\"color: #00ff00; text-decoration-color: #00ff00\">_with_call</span>               <span style=\"color: #800000; text-decoration-color: #800000\">│</span>\n",
       "<span style=\"color: #800000; text-decoration-color: #800000\">│</span>                                                                                                                 <span style=\"color: #800000; text-decoration-color: #800000\">│</span>\n",
       "<span style=\"color: #800000; text-decoration-color: #800000\">│</span> <span style=\"color: #800000; text-decoration-color: #800000\">❱ </span>290 <span style=\"color: #7f7f7f; text-decoration-color: #7f7f7f\">│   │   </span><span style=\"color: #0000ff; text-decoration-color: #0000ff\">return</span> call.result(), call                                                                        <span style=\"color: #800000; text-decoration-color: #800000\">│</span>\n",
       "<span style=\"color: #800000; text-decoration-color: #800000\">│</span>                                                                                                                 <span style=\"color: #800000; text-decoration-color: #800000\">│</span>\n",
       "<span style=\"color: #800000; text-decoration-color: #800000\">│</span> <span style=\"color: #bfbf7f; text-decoration-color: #bfbf7f\">/Users/ytong/envs/experiments/lib/python3.11/site-packages/grpc/</span><span style=\"color: #808000; text-decoration-color: #808000; font-weight: bold\">_channel.py</span>:<span style=\"color: #0000ff; text-decoration-color: #0000ff\">379</span> in <span style=\"color: #00ff00; text-decoration-color: #00ff00\">result</span>                       <span style=\"color: #800000; text-decoration-color: #800000\">│</span>\n",
       "<span style=\"color: #800000; text-decoration-color: #800000\">│</span>                                                                                                                 <span style=\"color: #800000; text-decoration-color: #800000\">│</span>\n",
       "<span style=\"color: #800000; text-decoration-color: #800000\">│</span> <span style=\"color: #800000; text-decoration-color: #800000\">❱ </span> 379 <span style=\"color: #7f7f7f; text-decoration-color: #7f7f7f\">│   │   </span><span style=\"color: #0000ff; text-decoration-color: #0000ff\">raise</span> <span style=\"color: #00ffff; text-decoration-color: #00ffff\">self</span>                                                                                       <span style=\"color: #800000; text-decoration-color: #800000\">│</span>\n",
       "<span style=\"color: #800000; text-decoration-color: #800000\">│</span>                                                                                                                 <span style=\"color: #800000; text-decoration-color: #800000\">│</span>\n",
       "<span style=\"color: #800000; text-decoration-color: #800000\">│</span> <span style=\"color: #bfbf7f; text-decoration-color: #bfbf7f\">/Users/ytong/envs/experiments/lib/python3.11/site-packages/grpc/</span><span style=\"color: #808000; text-decoration-color: #808000; font-weight: bold\">_interceptor.py</span>:<span style=\"color: #0000ff; text-decoration-color: #0000ff\">274</span> in <span style=\"color: #00ff00; text-decoration-color: #00ff00\">continuation</span>             <span style=\"color: #800000; text-decoration-color: #800000\">│</span>\n",
       "<span style=\"color: #800000; text-decoration-color: #800000\">│</span>                                                                                                                 <span style=\"color: #800000; text-decoration-color: #800000\">│</span>\n",
       "<span style=\"color: #800000; text-decoration-color: #800000\">│</span> <span style=\"color: #800000; text-decoration-color: #800000\">❱ </span>274 <span style=\"color: #7f7f7f; text-decoration-color: #7f7f7f\">│   │   │   │   </span>response, call = <span style=\"color: #00ffff; text-decoration-color: #00ffff\">self</span>._thunk(new_method).with_call(                                       <span style=\"color: #800000; text-decoration-color: #800000\">│</span>\n",
       "<span style=\"color: #800000; text-decoration-color: #800000\">│</span>                                                                                                                 <span style=\"color: #800000; text-decoration-color: #800000\">│</span>\n",
       "<span style=\"color: #800000; text-decoration-color: #800000\">│</span> <span style=\"color: #bfbf7f; text-decoration-color: #bfbf7f\">/Users/ytong/envs/experiments/lib/python3.11/site-packages/grpc/</span><span style=\"color: #808000; text-decoration-color: #808000; font-weight: bold\">_interceptor.py</span>:<span style=\"color: #0000ff; text-decoration-color: #0000ff\">301</span> in <span style=\"color: #00ff00; text-decoration-color: #00ff00\">with_call</span>                <span style=\"color: #800000; text-decoration-color: #800000\">│</span>\n",
       "<span style=\"color: #800000; text-decoration-color: #800000\">│</span>                                                                                                                 <span style=\"color: #800000; text-decoration-color: #800000\">│</span>\n",
       "<span style=\"color: #800000; text-decoration-color: #800000\">│</span> <span style=\"color: #800000; text-decoration-color: #800000\">❱ </span>301 <span style=\"color: #7f7f7f; text-decoration-color: #7f7f7f\">│   │   </span><span style=\"color: #0000ff; text-decoration-color: #0000ff\">return</span> <span style=\"color: #00ffff; text-decoration-color: #00ffff\">self</span>._with_call(request,                                                                   <span style=\"color: #800000; text-decoration-color: #800000\">│</span>\n",
       "<span style=\"color: #800000; text-decoration-color: #800000\">│</span>                                                                                                                 <span style=\"color: #800000; text-decoration-color: #800000\">│</span>\n",
       "<span style=\"color: #800000; text-decoration-color: #800000\">│</span> <span style=\"color: #bfbf7f; text-decoration-color: #bfbf7f\">/Users/ytong/envs/experiments/lib/python3.11/site-packages/grpc/</span><span style=\"color: #808000; text-decoration-color: #808000; font-weight: bold\">_interceptor.py</span>:<span style=\"color: #0000ff; text-decoration-color: #0000ff\">290</span> in <span style=\"color: #00ff00; text-decoration-color: #00ff00\">_with_call</span>               <span style=\"color: #800000; text-decoration-color: #800000\">│</span>\n",
       "<span style=\"color: #800000; text-decoration-color: #800000\">│</span>                                                                                                                 <span style=\"color: #800000; text-decoration-color: #800000\">│</span>\n",
       "<span style=\"color: #800000; text-decoration-color: #800000\">│</span> <span style=\"color: #800000; text-decoration-color: #800000\">❱ </span>290 <span style=\"color: #7f7f7f; text-decoration-color: #7f7f7f\">│   │   </span><span style=\"color: #0000ff; text-decoration-color: #0000ff\">return</span> call.result(), call                                                                        <span style=\"color: #800000; text-decoration-color: #800000\">│</span>\n",
       "<span style=\"color: #800000; text-decoration-color: #800000\">│</span>                                                                                                                 <span style=\"color: #800000; text-decoration-color: #800000\">│</span>\n",
       "<span style=\"color: #800000; text-decoration-color: #800000\">│</span> <span style=\"color: #bfbf7f; text-decoration-color: #bfbf7f\">/Users/ytong/envs/experiments/lib/python3.11/site-packages/grpc/</span><span style=\"color: #808000; text-decoration-color: #808000; font-weight: bold\">_channel.py</span>:<span style=\"color: #0000ff; text-decoration-color: #0000ff\">379</span> in <span style=\"color: #00ff00; text-decoration-color: #00ff00\">result</span>                       <span style=\"color: #800000; text-decoration-color: #800000\">│</span>\n",
       "<span style=\"color: #800000; text-decoration-color: #800000\">│</span>                                                                                                                 <span style=\"color: #800000; text-decoration-color: #800000\">│</span>\n",
       "<span style=\"color: #800000; text-decoration-color: #800000\">│</span> <span style=\"color: #800000; text-decoration-color: #800000\">❱ </span> 379 <span style=\"color: #7f7f7f; text-decoration-color: #7f7f7f\">│   │   </span><span style=\"color: #0000ff; text-decoration-color: #0000ff\">raise</span> <span style=\"color: #00ffff; text-decoration-color: #00ffff\">self</span>                                                                                       <span style=\"color: #800000; text-decoration-color: #800000\">│</span>\n",
       "<span style=\"color: #800000; text-decoration-color: #800000\">│</span>                                                                                                                 <span style=\"color: #800000; text-decoration-color: #800000\">│</span>\n",
       "<span style=\"color: #800000; text-decoration-color: #800000\">│</span> <span style=\"color: #bfbf7f; text-decoration-color: #bfbf7f\">/Users/ytong/envs/experiments/lib/python3.11/site-packages/grpc/</span><span style=\"color: #808000; text-decoration-color: #808000; font-weight: bold\">_interceptor.py</span>:<span style=\"color: #0000ff; text-decoration-color: #0000ff\">274</span> in <span style=\"color: #00ff00; text-decoration-color: #00ff00\">continuation</span>             <span style=\"color: #800000; text-decoration-color: #800000\">│</span>\n",
       "<span style=\"color: #800000; text-decoration-color: #800000\">│</span>                                                                                                                 <span style=\"color: #800000; text-decoration-color: #800000\">│</span>\n",
       "<span style=\"color: #800000; text-decoration-color: #800000\">│</span> <span style=\"color: #800000; text-decoration-color: #800000\">❱ </span>274 <span style=\"color: #7f7f7f; text-decoration-color: #7f7f7f\">│   │   │   │   </span>response, call = <span style=\"color: #00ffff; text-decoration-color: #00ffff\">self</span>._thunk(new_method).with_call(                                       <span style=\"color: #800000; text-decoration-color: #800000\">│</span>\n",
       "<span style=\"color: #800000; text-decoration-color: #800000\">│</span>                                                                                                                 <span style=\"color: #800000; text-decoration-color: #800000\">│</span>\n",
       "<span style=\"color: #800000; text-decoration-color: #800000\">│</span> <span style=\"color: #bfbf7f; text-decoration-color: #bfbf7f\">/Users/ytong/envs/experiments/lib/python3.11/site-packages/grpc/</span><span style=\"color: #808000; text-decoration-color: #808000; font-weight: bold\">_channel.py</span>:<span style=\"color: #0000ff; text-decoration-color: #0000ff\">1043</span> in <span style=\"color: #00ff00; text-decoration-color: #00ff00\">with_call</span>                   <span style=\"color: #800000; text-decoration-color: #800000\">│</span>\n",
       "<span style=\"color: #800000; text-decoration-color: #800000\">│</span>                                                                                                                 <span style=\"color: #800000; text-decoration-color: #800000\">│</span>\n",
       "<span style=\"color: #800000; text-decoration-color: #800000\">│</span> <span style=\"color: #800000; text-decoration-color: #800000\">❱ </span>1043 <span style=\"color: #7f7f7f; text-decoration-color: #7f7f7f\">│   │   </span><span style=\"color: #0000ff; text-decoration-color: #0000ff\">return</span> _end_unary_response_blocking(state, call, <span style=\"color: #0000ff; text-decoration-color: #0000ff\">True</span>, <span style=\"color: #0000ff; text-decoration-color: #0000ff\">None</span>)                                     <span style=\"color: #800000; text-decoration-color: #800000\">│</span>\n",
       "<span style=\"color: #800000; text-decoration-color: #800000\">│</span>                                                                                                                 <span style=\"color: #800000; text-decoration-color: #800000\">│</span>\n",
       "<span style=\"color: #800000; text-decoration-color: #800000\">│</span> <span style=\"color: #bfbf7f; text-decoration-color: #bfbf7f\">/Users/ytong/envs/experiments/lib/python3.11/site-packages/grpc/</span><span style=\"color: #808000; text-decoration-color: #808000; font-weight: bold\">_channel.py</span>:<span style=\"color: #0000ff; text-decoration-color: #0000ff\">910</span> in <span style=\"color: #00ff00; text-decoration-color: #00ff00\">_end_unary_response_blocking</span> <span style=\"color: #800000; text-decoration-color: #800000\">│</span>\n",
       "<span style=\"color: #800000; text-decoration-color: #800000\">│</span>                                                                                                                 <span style=\"color: #800000; text-decoration-color: #800000\">│</span>\n",
       "<span style=\"color: #800000; text-decoration-color: #800000\">│</span> <span style=\"color: #800000; text-decoration-color: #800000\">❱ </span> 910 <span style=\"color: #7f7f7f; text-decoration-color: #7f7f7f\">│   │   </span><span style=\"color: #0000ff; text-decoration-color: #0000ff\">raise</span> _InactiveRpcError(state)  <span style=\"color: #7f7f7f; text-decoration-color: #7f7f7f\"># pytype: disable=not-instantiable</span>                               <span style=\"color: #800000; text-decoration-color: #800000\">│</span>\n",
       "<span style=\"color: #800000; text-decoration-color: #800000\">╰─────────────────────────────────────────────────────────────────────────────────────────────────────────────────╯</span>\n",
       "<span style=\"color: #ff0000; text-decoration-color: #ff0000; font-weight: bold\">_InactiveRpcError: </span><span style=\"font-weight: bold\">&lt;</span><span style=\"color: #ff00ff; text-decoration-color: #ff00ff; font-weight: bold\">_InactiveRpcError</span><span style=\"color: #000000; text-decoration-color: #000000\"> of RPC that terminated with:</span>\n",
       "<span style=\"color: #000000; text-decoration-color: #000000\"> </span>       <span style=\"color: #000000; text-decoration-color: #000000\">status = StatusCode.UNIMPLEMENTED</span>\n",
       "<span style=\"color: #000000; text-decoration-color: #000000\"> </span>       <span style=\"color: #000000; text-decoration-color: #000000\">details = </span><span style=\"color: #008000; text-decoration-color: #008000\">\"rpc error: code = Unimplemented desc = method GetArtifact not implemented\"</span>\n",
       "<span style=\"color: #000000; text-decoration-color: #000000\"> </span>       <span style=\"color: #000000; text-decoration-color: #000000\">debug_error_string = </span><span style=\"color: #008000; text-decoration-color: #008000\">\"UNKNOWN:Error received from peer  {grpc_message:\"</span><span style=\"color: #000000; text-decoration-color: #000000\">rpc error: code = Unimplemented desc</span>\n",
       "<span style=\"color: #000000; text-decoration-color: #000000\">= method GetArtifact not implemented\", grpc_status:</span><span style=\"color: #008080; text-decoration-color: #008080; font-weight: bold\">12</span><span style=\"color: #000000; text-decoration-color: #000000\">, created_time:</span><span style=\"color: #008000; text-decoration-color: #008000\">\"2023-10-26T20:34:09.237781+08:00\"</span><span style=\"color: #000000; text-decoration-color: #000000; font-weight: bold\">}</span><span style=\"color: #000000; text-decoration-color: #000000\">\"</span>\n",
       "<span style=\"font-weight: bold\">&gt;</span>\n",
       "\n",
       "<span style=\"font-style: italic\">The above exception was the direct cause of the following exception:</span>\n",
       "\n",
       "<span style=\"color: #800000; text-decoration-color: #800000\">╭─────────────────────────────────────── </span><span style=\"color: #800000; text-decoration-color: #800000; font-weight: bold\">Traceback </span><span style=\"color: #bf7f7f; text-decoration-color: #bf7f7f; font-weight: bold\">(most recent call last)</span><span style=\"color: #800000; text-decoration-color: #800000\"> ───────────────────────────────────────╮</span>\n",
       "<span style=\"color: #800000; text-decoration-color: #800000\">│</span> in <span style=\"color: #00ff00; text-decoration-color: #00ff00\">&lt;module&gt;</span>:<span style=\"color: #0000ff; text-decoration-color: #0000ff\">1</span>                                                                                                   <span style=\"color: #800000; text-decoration-color: #800000\">│</span>\n",
       "<span style=\"color: #800000; text-decoration-color: #800000\">│</span>                                                                                                                 <span style=\"color: #800000; text-decoration-color: #800000\">│</span>\n",
       "<span style=\"color: #800000; text-decoration-color: #800000\">│</span> <span style=\"color: #800000; text-decoration-color: #800000\">❱ </span>1 r.execute(run_train_model_wf, inputs={<span style=\"color: #808000; text-decoration-color: #808000\">\"region\"</span>: <span style=\"color: #808000; text-decoration-color: #808000\">\"SEA\"</span>, <span style=\"color: #808000; text-decoration-color: #808000\">\"kickoff_time\"</span>: dd})                                 <span style=\"color: #800000; text-decoration-color: #800000\">│</span>\n",
       "<span style=\"color: #800000; text-decoration-color: #800000\">│</span>                                                                                                                 <span style=\"color: #800000; text-decoration-color: #800000\">│</span>\n",
       "<span style=\"color: #800000; text-decoration-color: #800000\">│</span> <span style=\"color: #bfbf7f; text-decoration-color: #bfbf7f\">/Users/ytong/go/src/github.com/flyteorg/flytekit/flytekit/remote/</span><span style=\"color: #808000; text-decoration-color: #808000; font-weight: bold\">remote.py</span>:<span style=\"color: #0000ff; text-decoration-color: #0000ff\">1270</span> in <span style=\"color: #00ff00; text-decoration-color: #00ff00\">execute</span>                      <span style=\"color: #800000; text-decoration-color: #800000\">│</span>\n",
       "<span style=\"color: #800000; text-decoration-color: #800000\">│</span>                                                                                                                 <span style=\"color: #800000; text-decoration-color: #800000\">│</span>\n",
       "<span style=\"color: #800000; text-decoration-color: #800000\">│</span> <span style=\"color: #800000; text-decoration-color: #800000\">❱ </span>1270 <span style=\"color: #7f7f7f; text-decoration-color: #7f7f7f\">│   │   │   </span><span style=\"color: #0000ff; text-decoration-color: #0000ff\">return</span> <span style=\"color: #00ffff; text-decoration-color: #00ffff\">self</span>.execute_remote_wf(                                                               <span style=\"color: #800000; text-decoration-color: #800000\">│</span>\n",
       "<span style=\"color: #800000; text-decoration-color: #800000\">│</span>                                                                                                                 <span style=\"color: #800000; text-decoration-color: #800000\">│</span>\n",
       "<span style=\"color: #800000; text-decoration-color: #800000\">│</span> <span style=\"color: #bfbf7f; text-decoration-color: #bfbf7f\">/Users/ytong/go/src/github.com/flyteorg/flytekit/flytekit/remote/</span><span style=\"color: #808000; text-decoration-color: #808000; font-weight: bold\">remote.py</span>:<span style=\"color: #0000ff; text-decoration-color: #0000ff\">1398</span> in <span style=\"color: #00ff00; text-decoration-color: #00ff00\">execute_remote_wf</span>            <span style=\"color: #800000; text-decoration-color: #800000\">│</span>\n",
       "<span style=\"color: #800000; text-decoration-color: #800000\">│</span>                                                                                                                 <span style=\"color: #800000; text-decoration-color: #800000\">│</span>\n",
       "<span style=\"color: #800000; text-decoration-color: #800000\">│</span> <span style=\"color: #800000; text-decoration-color: #800000\">❱ </span>1398 <span style=\"color: #7f7f7f; text-decoration-color: #7f7f7f\">│   │   </span><span style=\"color: #0000ff; text-decoration-color: #0000ff\">return</span> <span style=\"color: #00ffff; text-decoration-color: #00ffff\">self</span>.execute_remote_task_lp(                                                              <span style=\"color: #800000; text-decoration-color: #800000\">│</span>\n",
       "<span style=\"color: #800000; text-decoration-color: #800000\">│</span>                                                                                                                 <span style=\"color: #800000; text-decoration-color: #800000\">│</span>\n",
       "<span style=\"color: #800000; text-decoration-color: #800000\">│</span> <span style=\"color: #bfbf7f; text-decoration-color: #bfbf7f\">/Users/ytong/go/src/github.com/flyteorg/flytekit/flytekit/remote/</span><span style=\"color: #808000; text-decoration-color: #808000; font-weight: bold\">remote.py</span>:<span style=\"color: #0000ff; text-decoration-color: #0000ff\">1361</span> in <span style=\"color: #00ff00; text-decoration-color: #00ff00\">execute_remote_task_lp</span>       <span style=\"color: #800000; text-decoration-color: #800000\">│</span>\n",
       "<span style=\"color: #800000; text-decoration-color: #800000\">│</span>                                                                                                                 <span style=\"color: #800000; text-decoration-color: #800000\">│</span>\n",
       "<span style=\"color: #800000; text-decoration-color: #800000\">│</span> <span style=\"color: #800000; text-decoration-color: #800000\">❱ </span>1361 <span style=\"color: #7f7f7f; text-decoration-color: #7f7f7f\">│   │   </span><span style=\"color: #0000ff; text-decoration-color: #0000ff\">return</span> <span style=\"color: #00ffff; text-decoration-color: #00ffff\">self</span>._execute(                                                                            <span style=\"color: #800000; text-decoration-color: #800000\">│</span>\n",
       "<span style=\"color: #800000; text-decoration-color: #800000\">│</span>                                                                                                                 <span style=\"color: #800000; text-decoration-color: #800000\">│</span>\n",
       "<span style=\"color: #800000; text-decoration-color: #800000\">│</span> <span style=\"color: #bfbf7f; text-decoration-color: #bfbf7f\">/Users/ytong/go/src/github.com/flyteorg/flytekit/flytekit/remote/</span><span style=\"color: #808000; text-decoration-color: #808000; font-weight: bold\">remote.py</span>:<span style=\"color: #0000ff; text-decoration-color: #0000ff\">1123</span> in <span style=\"color: #00ff00; text-decoration-color: #00ff00\">_execute</span>                     <span style=\"color: #800000; text-decoration-color: #800000\">│</span>\n",
       "<span style=\"color: #800000; text-decoration-color: #800000\">│</span>                                                                                                                 <span style=\"color: #800000; text-decoration-color: #800000\">│</span>\n",
       "<span style=\"color: #800000; text-decoration-color: #800000\">│</span> <span style=\"color: #800000; text-decoration-color: #800000\">❱ </span>1123 <span style=\"color: #7f7f7f; text-decoration-color: #7f7f7f\">│   │   │   </span>exec_id = <span style=\"color: #00ffff; text-decoration-color: #00ffff\">self</span>.client.create_execution(                                                      <span style=\"color: #800000; text-decoration-color: #800000\">│</span>\n",
       "<span style=\"color: #800000; text-decoration-color: #800000\">│</span>                                                                                                                 <span style=\"color: #800000; text-decoration-color: #800000\">│</span>\n",
       "<span style=\"color: #800000; text-decoration-color: #800000\">│</span> <span style=\"color: #bfbf7f; text-decoration-color: #bfbf7f\">/Users/ytong/go/src/github.com/flyteorg/flytekit/flytekit/clients/</span><span style=\"color: #808000; text-decoration-color: #808000; font-weight: bold\">friendly.py</span>:<span style=\"color: #0000ff; text-decoration-color: #0000ff\">552</span> in <span style=\"color: #00ff00; text-decoration-color: #00ff00\">create_execution</span>           <span style=\"color: #800000; text-decoration-color: #800000\">│</span>\n",
       "<span style=\"color: #800000; text-decoration-color: #800000\">│</span>                                                                                                                 <span style=\"color: #800000; text-decoration-color: #800000\">│</span>\n",
       "<span style=\"color: #800000; text-decoration-color: #800000\">│</span> <span style=\"color: #800000; text-decoration-color: #800000\">❱ </span> 552 <span style=\"color: #7f7f7f; text-decoration-color: #7f7f7f\">│   │   │   </span>.create_execution(                                                                           <span style=\"color: #800000; text-decoration-color: #800000\">│</span>\n",
       "<span style=\"color: #800000; text-decoration-color: #800000\">│</span>                                                                                                                 <span style=\"color: #800000; text-decoration-color: #800000\">│</span>\n",
       "<span style=\"color: #800000; text-decoration-color: #800000\">│</span> <span style=\"color: #bfbf7f; text-decoration-color: #bfbf7f\">/Users/ytong/go/src/github.com/flyteorg/flytekit/flytekit/clients/</span><span style=\"color: #808000; text-decoration-color: #808000; font-weight: bold\">raw.py</span>:<span style=\"color: #0000ff; text-decoration-color: #0000ff\">360</span> in <span style=\"color: #00ff00; text-decoration-color: #00ff00\">create_execution</span>                <span style=\"color: #800000; text-decoration-color: #800000\">│</span>\n",
       "<span style=\"color: #800000; text-decoration-color: #800000\">│</span>                                                                                                                 <span style=\"color: #800000; text-decoration-color: #800000\">│</span>\n",
       "<span style=\"color: #800000; text-decoration-color: #800000\">│</span> <span style=\"color: #800000; text-decoration-color: #800000\">❱ </span>360 <span style=\"color: #7f7f7f; text-decoration-color: #7f7f7f\">│   │   </span><span style=\"color: #0000ff; text-decoration-color: #0000ff\">return</span> <span style=\"color: #00ffff; text-decoration-color: #00ffff\">self</span>._stub.CreateExecution(create_execution_request, metadata=<span style=\"color: #00ffff; text-decoration-color: #00ffff\">self</span>._metad                  <span style=\"color: #800000; text-decoration-color: #800000\">│</span>\n",
       "<span style=\"color: #800000; text-decoration-color: #800000\">│</span>                                                                                                                 <span style=\"color: #800000; text-decoration-color: #800000\">│</span>\n",
       "<span style=\"color: #800000; text-decoration-color: #800000\">│</span> <span style=\"color: #bfbf7f; text-decoration-color: #bfbf7f\">/Users/ytong/envs/experiments/lib/python3.11/site-packages/grpc/</span><span style=\"color: #808000; text-decoration-color: #808000; font-weight: bold\">_interceptor.py</span>:<span style=\"color: #0000ff; text-decoration-color: #0000ff\">247</span> in <span style=\"color: #00ff00; text-decoration-color: #00ff00\">__call__</span>                 <span style=\"color: #800000; text-decoration-color: #800000\">│</span>\n",
       "<span style=\"color: #800000; text-decoration-color: #800000\">│</span>                                                                                                                 <span style=\"color: #800000; text-decoration-color: #800000\">│</span>\n",
       "<span style=\"color: #800000; text-decoration-color: #800000\">│</span> <span style=\"color: #800000; text-decoration-color: #800000\">❱ </span>247 <span style=\"color: #7f7f7f; text-decoration-color: #7f7f7f\">│   │   </span>response, ignored_call = <span style=\"color: #00ffff; text-decoration-color: #00ffff\">self</span>._with_call(request,                                                 <span style=\"color: #800000; text-decoration-color: #800000\">│</span>\n",
       "<span style=\"color: #800000; text-decoration-color: #800000\">│</span>                                                                                                                 <span style=\"color: #800000; text-decoration-color: #800000\">│</span>\n",
       "<span style=\"color: #800000; text-decoration-color: #800000\">│</span> <span style=\"color: #bfbf7f; text-decoration-color: #bfbf7f\">/Users/ytong/envs/experiments/lib/python3.11/site-packages/grpc/</span><span style=\"color: #808000; text-decoration-color: #808000; font-weight: bold\">_interceptor.py</span>:<span style=\"color: #0000ff; text-decoration-color: #0000ff\">287</span> in <span style=\"color: #00ff00; text-decoration-color: #00ff00\">_with_call</span>               <span style=\"color: #800000; text-decoration-color: #800000\">│</span>\n",
       "<span style=\"color: #800000; text-decoration-color: #800000\">│</span>                                                                                                                 <span style=\"color: #800000; text-decoration-color: #800000\">│</span>\n",
       "<span style=\"color: #800000; text-decoration-color: #800000\">│</span> <span style=\"color: #800000; text-decoration-color: #800000\">❱ </span>287 <span style=\"color: #7f7f7f; text-decoration-color: #7f7f7f\">│   │   </span>call = <span style=\"color: #00ffff; text-decoration-color: #00ffff\">self</span>._interceptor.intercept_unary_unary(continuation,                                      <span style=\"color: #800000; text-decoration-color: #800000\">│</span>\n",
       "<span style=\"color: #800000; text-decoration-color: #800000\">│</span>                                                                                                                 <span style=\"color: #800000; text-decoration-color: #800000\">│</span>\n",
       "<span style=\"color: #800000; text-decoration-color: #800000\">│</span> <span style=\"color: #bfbf7f; text-decoration-color: #bfbf7f\">/Users/ytong/go/src/github.com/flyteorg/flytekit/flytekit/clients/grpc_utils/</span><span style=\"color: #808000; text-decoration-color: #808000; font-weight: bold\">wrap_exception_interceptor.py</span>:<span style=\"color: #0000ff; text-decoration-color: #0000ff\">44</span>   <span style=\"color: #800000; text-decoration-color: #800000\">│</span>\n",
       "<span style=\"color: #800000; text-decoration-color: #800000\">│</span> in <span style=\"color: #00ff00; text-decoration-color: #00ff00\">intercept_unary_unary</span>                                                                                        <span style=\"color: #800000; text-decoration-color: #800000\">│</span>\n",
       "<span style=\"color: #800000; text-decoration-color: #800000\">│</span>                                                                                                                 <span style=\"color: #800000; text-decoration-color: #800000\">│</span>\n",
       "<span style=\"color: #800000; text-decoration-color: #800000\">│</span> <span style=\"color: #800000; text-decoration-color: #800000\">❱ </span>44 <span style=\"color: #7f7f7f; text-decoration-color: #7f7f7f\">│   │   │   │   │   </span><span style=\"color: #0000ff; text-decoration-color: #0000ff\">raise</span> e                                                                                <span style=\"color: #800000; text-decoration-color: #800000\">│</span>\n",
       "<span style=\"color: #800000; text-decoration-color: #800000\">│</span>                                                                                                                 <span style=\"color: #800000; text-decoration-color: #800000\">│</span>\n",
       "<span style=\"color: #800000; text-decoration-color: #800000\">│</span> <span style=\"color: #bfbf7f; text-decoration-color: #bfbf7f\">/Users/ytong/go/src/github.com/flyteorg/flytekit/flytekit/clients/grpc_utils/</span><span style=\"color: #808000; text-decoration-color: #808000; font-weight: bold\">wrap_exception_interceptor.py</span>:<span style=\"color: #0000ff; text-decoration-color: #0000ff\">40</span>   <span style=\"color: #800000; text-decoration-color: #800000\">│</span>\n",
       "<span style=\"color: #800000; text-decoration-color: #800000\">│</span> in <span style=\"color: #00ff00; text-decoration-color: #00ff00\">intercept_unary_unary</span>                                                                                        <span style=\"color: #800000; text-decoration-color: #800000\">│</span>\n",
       "<span style=\"color: #800000; text-decoration-color: #800000\">│</span>                                                                                                                 <span style=\"color: #800000; text-decoration-color: #800000\">│</span>\n",
       "<span style=\"color: #800000; text-decoration-color: #800000\">│</span> <span style=\"color: #800000; text-decoration-color: #800000\">❱ </span>40 <span style=\"color: #7f7f7f; text-decoration-color: #7f7f7f\">│   │   │   │   │   </span><span style=\"color: #00ffff; text-decoration-color: #00ffff\">self</span>._raise_if_exc(request, e)                                                         <span style=\"color: #800000; text-decoration-color: #800000\">│</span>\n",
       "<span style=\"color: #800000; text-decoration-color: #800000\">│</span>                                                                                                                 <span style=\"color: #800000; text-decoration-color: #800000\">│</span>\n",
       "<span style=\"color: #800000; text-decoration-color: #800000\">│</span> <span style=\"color: #bfbf7f; text-decoration-color: #bfbf7f\">/Users/ytong/go/src/github.com/flyteorg/flytekit/flytekit/clients/grpc_utils/</span><span style=\"color: #808000; text-decoration-color: #808000; font-weight: bold\">wrap_exception_interceptor.py</span>:<span style=\"color: #0000ff; text-decoration-color: #0000ff\">31</span>   <span style=\"color: #800000; text-decoration-color: #800000\">│</span>\n",
       "<span style=\"color: #800000; text-decoration-color: #800000\">│</span> in <span style=\"color: #00ff00; text-decoration-color: #00ff00\">_raise_if_exc</span>                                                                                                <span style=\"color: #800000; text-decoration-color: #800000\">│</span>\n",
       "<span style=\"color: #800000; text-decoration-color: #800000\">│</span>                                                                                                                 <span style=\"color: #800000; text-decoration-color: #800000\">│</span>\n",
       "<span style=\"color: #800000; text-decoration-color: #800000\">│</span> <span style=\"color: #800000; text-decoration-color: #800000\">❱ </span>31 <span style=\"color: #7f7f7f; text-decoration-color: #7f7f7f\">│   │   </span><span style=\"color: #0000ff; text-decoration-color: #0000ff\">raise</span> FlyteSystemException() <span style=\"color: #0000ff; text-decoration-color: #0000ff\">from</span> <span style=\"color: #00ffff; text-decoration-color: #00ffff; text-decoration: underline\">e</span>                                                                <span style=\"color: #800000; text-decoration-color: #800000\">│</span>\n",
       "<span style=\"color: #800000; text-decoration-color: #800000\">╰─────────────────────────────────────────────────────────────────────────────────────────────────────────────────╯</span>\n",
       "<span style=\"color: #ff0000; text-decoration-color: #ff0000; font-weight: bold\">FlyteSystemException</span>\n",
       "</pre>\n"
      ],
      "text/plain": [
       "\u001b[31m╭─\u001b[0m\u001b[31m──────────────────────────────────────\u001b[0m\u001b[31m \u001b[0m\u001b[1;31mTraceback \u001b[0m\u001b[1;2;31m(most recent call last)\u001b[0m\u001b[31m \u001b[0m\u001b[31m──────────────────────────────────────\u001b[0m\u001b[31m─╮\u001b[0m\n",
       "\u001b[31m│\u001b[0m \u001b[2;33m/Users/ytong/envs/experiments/lib/python3.11/site-packages/grpc/\u001b[0m\u001b[1;33m_interceptor.py\u001b[0m:\u001b[94m274\u001b[0m in \u001b[92mcontinuation\u001b[0m             \u001b[31m│\u001b[0m\n",
       "\u001b[31m│\u001b[0m                                                                                                                 \u001b[31m│\u001b[0m\n",
       "\u001b[31m│\u001b[0m \u001b[31m❱ \u001b[0m274 \u001b[2m│   │   │   │   \u001b[0mresponse, call = \u001b[96mself\u001b[0m._thunk(new_method).with_call(                                       \u001b[31m│\u001b[0m\n",
       "\u001b[31m│\u001b[0m                                                                                                                 \u001b[31m│\u001b[0m\n",
       "\u001b[31m│\u001b[0m \u001b[2;33m/Users/ytong/envs/experiments/lib/python3.11/site-packages/grpc/\u001b[0m\u001b[1;33m_interceptor.py\u001b[0m:\u001b[94m301\u001b[0m in \u001b[92mwith_call\u001b[0m                \u001b[31m│\u001b[0m\n",
       "\u001b[31m│\u001b[0m                                                                                                                 \u001b[31m│\u001b[0m\n",
       "\u001b[31m│\u001b[0m \u001b[31m❱ \u001b[0m301 \u001b[2m│   │   \u001b[0m\u001b[94mreturn\u001b[0m \u001b[96mself\u001b[0m._with_call(request,                                                                   \u001b[31m│\u001b[0m\n",
       "\u001b[31m│\u001b[0m                                                                                                                 \u001b[31m│\u001b[0m\n",
       "\u001b[31m│\u001b[0m \u001b[2;33m/Users/ytong/envs/experiments/lib/python3.11/site-packages/grpc/\u001b[0m\u001b[1;33m_interceptor.py\u001b[0m:\u001b[94m290\u001b[0m in \u001b[92m_with_call\u001b[0m               \u001b[31m│\u001b[0m\n",
       "\u001b[31m│\u001b[0m                                                                                                                 \u001b[31m│\u001b[0m\n",
       "\u001b[31m│\u001b[0m \u001b[31m❱ \u001b[0m290 \u001b[2m│   │   \u001b[0m\u001b[94mreturn\u001b[0m call.result(), call                                                                        \u001b[31m│\u001b[0m\n",
       "\u001b[31m│\u001b[0m                                                                                                                 \u001b[31m│\u001b[0m\n",
       "\u001b[31m│\u001b[0m \u001b[2;33m/Users/ytong/envs/experiments/lib/python3.11/site-packages/grpc/\u001b[0m\u001b[1;33m_channel.py\u001b[0m:\u001b[94m379\u001b[0m in \u001b[92mresult\u001b[0m                       \u001b[31m│\u001b[0m\n",
       "\u001b[31m│\u001b[0m                                                                                                                 \u001b[31m│\u001b[0m\n",
       "\u001b[31m│\u001b[0m \u001b[31m❱ \u001b[0m 379 \u001b[2m│   │   \u001b[0m\u001b[94mraise\u001b[0m \u001b[96mself\u001b[0m                                                                                       \u001b[31m│\u001b[0m\n",
       "\u001b[31m│\u001b[0m                                                                                                                 \u001b[31m│\u001b[0m\n",
       "\u001b[31m│\u001b[0m \u001b[2;33m/Users/ytong/envs/experiments/lib/python3.11/site-packages/grpc/\u001b[0m\u001b[1;33m_interceptor.py\u001b[0m:\u001b[94m274\u001b[0m in \u001b[92mcontinuation\u001b[0m             \u001b[31m│\u001b[0m\n",
       "\u001b[31m│\u001b[0m                                                                                                                 \u001b[31m│\u001b[0m\n",
       "\u001b[31m│\u001b[0m \u001b[31m❱ \u001b[0m274 \u001b[2m│   │   │   │   \u001b[0mresponse, call = \u001b[96mself\u001b[0m._thunk(new_method).with_call(                                       \u001b[31m│\u001b[0m\n",
       "\u001b[31m│\u001b[0m                                                                                                                 \u001b[31m│\u001b[0m\n",
       "\u001b[31m│\u001b[0m \u001b[2;33m/Users/ytong/envs/experiments/lib/python3.11/site-packages/grpc/\u001b[0m\u001b[1;33m_interceptor.py\u001b[0m:\u001b[94m301\u001b[0m in \u001b[92mwith_call\u001b[0m                \u001b[31m│\u001b[0m\n",
       "\u001b[31m│\u001b[0m                                                                                                                 \u001b[31m│\u001b[0m\n",
       "\u001b[31m│\u001b[0m \u001b[31m❱ \u001b[0m301 \u001b[2m│   │   \u001b[0m\u001b[94mreturn\u001b[0m \u001b[96mself\u001b[0m._with_call(request,                                                                   \u001b[31m│\u001b[0m\n",
       "\u001b[31m│\u001b[0m                                                                                                                 \u001b[31m│\u001b[0m\n",
       "\u001b[31m│\u001b[0m \u001b[2;33m/Users/ytong/envs/experiments/lib/python3.11/site-packages/grpc/\u001b[0m\u001b[1;33m_interceptor.py\u001b[0m:\u001b[94m290\u001b[0m in \u001b[92m_with_call\u001b[0m               \u001b[31m│\u001b[0m\n",
       "\u001b[31m│\u001b[0m                                                                                                                 \u001b[31m│\u001b[0m\n",
       "\u001b[31m│\u001b[0m \u001b[31m❱ \u001b[0m290 \u001b[2m│   │   \u001b[0m\u001b[94mreturn\u001b[0m call.result(), call                                                                        \u001b[31m│\u001b[0m\n",
       "\u001b[31m│\u001b[0m                                                                                                                 \u001b[31m│\u001b[0m\n",
       "\u001b[31m│\u001b[0m \u001b[2;33m/Users/ytong/envs/experiments/lib/python3.11/site-packages/grpc/\u001b[0m\u001b[1;33m_channel.py\u001b[0m:\u001b[94m379\u001b[0m in \u001b[92mresult\u001b[0m                       \u001b[31m│\u001b[0m\n",
       "\u001b[31m│\u001b[0m                                                                                                                 \u001b[31m│\u001b[0m\n",
       "\u001b[31m│\u001b[0m \u001b[31m❱ \u001b[0m 379 \u001b[2m│   │   \u001b[0m\u001b[94mraise\u001b[0m \u001b[96mself\u001b[0m                                                                                       \u001b[31m│\u001b[0m\n",
       "\u001b[31m│\u001b[0m                                                                                                                 \u001b[31m│\u001b[0m\n",
       "\u001b[31m│\u001b[0m \u001b[2;33m/Users/ytong/envs/experiments/lib/python3.11/site-packages/grpc/\u001b[0m\u001b[1;33m_interceptor.py\u001b[0m:\u001b[94m274\u001b[0m in \u001b[92mcontinuation\u001b[0m             \u001b[31m│\u001b[0m\n",
       "\u001b[31m│\u001b[0m                                                                                                                 \u001b[31m│\u001b[0m\n",
       "\u001b[31m│\u001b[0m \u001b[31m❱ \u001b[0m274 \u001b[2m│   │   │   │   \u001b[0mresponse, call = \u001b[96mself\u001b[0m._thunk(new_method).with_call(                                       \u001b[31m│\u001b[0m\n",
       "\u001b[31m│\u001b[0m                                                                                                                 \u001b[31m│\u001b[0m\n",
       "\u001b[31m│\u001b[0m \u001b[2;33m/Users/ytong/envs/experiments/lib/python3.11/site-packages/grpc/\u001b[0m\u001b[1;33m_channel.py\u001b[0m:\u001b[94m1043\u001b[0m in \u001b[92mwith_call\u001b[0m                   \u001b[31m│\u001b[0m\n",
       "\u001b[31m│\u001b[0m                                                                                                                 \u001b[31m│\u001b[0m\n",
       "\u001b[31m│\u001b[0m \u001b[31m❱ \u001b[0m1043 \u001b[2m│   │   \u001b[0m\u001b[94mreturn\u001b[0m _end_unary_response_blocking(state, call, \u001b[94mTrue\u001b[0m, \u001b[94mNone\u001b[0m)                                     \u001b[31m│\u001b[0m\n",
       "\u001b[31m│\u001b[0m                                                                                                                 \u001b[31m│\u001b[0m\n",
       "\u001b[31m│\u001b[0m \u001b[2;33m/Users/ytong/envs/experiments/lib/python3.11/site-packages/grpc/\u001b[0m\u001b[1;33m_channel.py\u001b[0m:\u001b[94m910\u001b[0m in \u001b[92m_end_unary_response_blocking\u001b[0m \u001b[31m│\u001b[0m\n",
       "\u001b[31m│\u001b[0m                                                                                                                 \u001b[31m│\u001b[0m\n",
       "\u001b[31m│\u001b[0m \u001b[31m❱ \u001b[0m 910 \u001b[2m│   │   \u001b[0m\u001b[94mraise\u001b[0m _InactiveRpcError(state)  \u001b[2m# pytype: disable=not-instantiable\u001b[0m                               \u001b[31m│\u001b[0m\n",
       "\u001b[31m╰─────────────────────────────────────────────────────────────────────────────────────────────────────────────────╯\u001b[0m\n",
       "\u001b[1;91m_InactiveRpcError: \u001b[0m\u001b[1m<\u001b[0m\u001b[1;95m_InactiveRpcError\u001b[0m\u001b[39m of RPC that terminated with:\u001b[0m\n",
       "\u001b[39m \u001b[0m       \u001b[39mstatus = StatusCode.UNIMPLEMENTED\u001b[0m\n",
       "\u001b[39m \u001b[0m       \u001b[39mdetails = \u001b[0m\u001b[32m\"rpc error: code = Unimplemented desc = method GetArtifact not implemented\"\u001b[0m\n",
       "\u001b[39m \u001b[0m       \u001b[39mdebug_error_string = \u001b[0m\u001b[32m\"UNKNOWN:Error received from peer  \u001b[0m\u001b[32m{\u001b[0m\u001b[32mgrpc_message:\"\u001b[0m\u001b[39mrpc error: code = Unimplemented desc\u001b[0m\n",
       "\u001b[39m= method GetArtifact not implemented\", grpc_status:\u001b[0m\u001b[1;36m12\u001b[0m\u001b[39m, created_time:\u001b[0m\u001b[32m\"2023-10-26T20:34:09.237781+08:00\"\u001b[0m\u001b[1;39m}\u001b[0m\u001b[39m\"\u001b[0m\n",
       "\u001b[1m>\u001b[0m\n",
       "\n",
       "\u001b[3mThe above exception was the direct cause of the following exception:\u001b[0m\n",
       "\n",
       "\u001b[31m╭─\u001b[0m\u001b[31m──────────────────────────────────────\u001b[0m\u001b[31m \u001b[0m\u001b[1;31mTraceback \u001b[0m\u001b[1;2;31m(most recent call last)\u001b[0m\u001b[31m \u001b[0m\u001b[31m──────────────────────────────────────\u001b[0m\u001b[31m─╮\u001b[0m\n",
       "\u001b[31m│\u001b[0m in \u001b[92m<module>\u001b[0m:\u001b[94m1\u001b[0m                                                                                                   \u001b[31m│\u001b[0m\n",
       "\u001b[31m│\u001b[0m                                                                                                                 \u001b[31m│\u001b[0m\n",
       "\u001b[31m│\u001b[0m \u001b[31m❱ \u001b[0m1 r.execute(run_train_model_wf, inputs={\u001b[33m\"\u001b[0m\u001b[33mregion\u001b[0m\u001b[33m\"\u001b[0m: \u001b[33m\"\u001b[0m\u001b[33mSEA\u001b[0m\u001b[33m\"\u001b[0m, \u001b[33m\"\u001b[0m\u001b[33mkickoff_time\u001b[0m\u001b[33m\"\u001b[0m: dd})                                 \u001b[31m│\u001b[0m\n",
       "\u001b[31m│\u001b[0m                                                                                                                 \u001b[31m│\u001b[0m\n",
       "\u001b[31m│\u001b[0m \u001b[2;33m/Users/ytong/go/src/github.com/flyteorg/flytekit/flytekit/remote/\u001b[0m\u001b[1;33mremote.py\u001b[0m:\u001b[94m1270\u001b[0m in \u001b[92mexecute\u001b[0m                      \u001b[31m│\u001b[0m\n",
       "\u001b[31m│\u001b[0m                                                                                                                 \u001b[31m│\u001b[0m\n",
       "\u001b[31m│\u001b[0m \u001b[31m❱ \u001b[0m1270 \u001b[2m│   │   │   \u001b[0m\u001b[94mreturn\u001b[0m \u001b[96mself\u001b[0m.execute_remote_wf(                                                               \u001b[31m│\u001b[0m\n",
       "\u001b[31m│\u001b[0m                                                                                                                 \u001b[31m│\u001b[0m\n",
       "\u001b[31m│\u001b[0m \u001b[2;33m/Users/ytong/go/src/github.com/flyteorg/flytekit/flytekit/remote/\u001b[0m\u001b[1;33mremote.py\u001b[0m:\u001b[94m1398\u001b[0m in \u001b[92mexecute_remote_wf\u001b[0m            \u001b[31m│\u001b[0m\n",
       "\u001b[31m│\u001b[0m                                                                                                                 \u001b[31m│\u001b[0m\n",
       "\u001b[31m│\u001b[0m \u001b[31m❱ \u001b[0m1398 \u001b[2m│   │   \u001b[0m\u001b[94mreturn\u001b[0m \u001b[96mself\u001b[0m.execute_remote_task_lp(                                                              \u001b[31m│\u001b[0m\n",
       "\u001b[31m│\u001b[0m                                                                                                                 \u001b[31m│\u001b[0m\n",
       "\u001b[31m│\u001b[0m \u001b[2;33m/Users/ytong/go/src/github.com/flyteorg/flytekit/flytekit/remote/\u001b[0m\u001b[1;33mremote.py\u001b[0m:\u001b[94m1361\u001b[0m in \u001b[92mexecute_remote_task_lp\u001b[0m       \u001b[31m│\u001b[0m\n",
       "\u001b[31m│\u001b[0m                                                                                                                 \u001b[31m│\u001b[0m\n",
       "\u001b[31m│\u001b[0m \u001b[31m❱ \u001b[0m1361 \u001b[2m│   │   \u001b[0m\u001b[94mreturn\u001b[0m \u001b[96mself\u001b[0m._execute(                                                                            \u001b[31m│\u001b[0m\n",
       "\u001b[31m│\u001b[0m                                                                                                                 \u001b[31m│\u001b[0m\n",
       "\u001b[31m│\u001b[0m \u001b[2;33m/Users/ytong/go/src/github.com/flyteorg/flytekit/flytekit/remote/\u001b[0m\u001b[1;33mremote.py\u001b[0m:\u001b[94m1123\u001b[0m in \u001b[92m_execute\u001b[0m                     \u001b[31m│\u001b[0m\n",
       "\u001b[31m│\u001b[0m                                                                                                                 \u001b[31m│\u001b[0m\n",
       "\u001b[31m│\u001b[0m \u001b[31m❱ \u001b[0m1123 \u001b[2m│   │   │   \u001b[0mexec_id = \u001b[96mself\u001b[0m.client.create_execution(                                                      \u001b[31m│\u001b[0m\n",
       "\u001b[31m│\u001b[0m                                                                                                                 \u001b[31m│\u001b[0m\n",
       "\u001b[31m│\u001b[0m \u001b[2;33m/Users/ytong/go/src/github.com/flyteorg/flytekit/flytekit/clients/\u001b[0m\u001b[1;33mfriendly.py\u001b[0m:\u001b[94m552\u001b[0m in \u001b[92mcreate_execution\u001b[0m           \u001b[31m│\u001b[0m\n",
       "\u001b[31m│\u001b[0m                                                                                                                 \u001b[31m│\u001b[0m\n",
       "\u001b[31m│\u001b[0m \u001b[31m❱ \u001b[0m 552 \u001b[2m│   │   │   \u001b[0m.create_execution(                                                                           \u001b[31m│\u001b[0m\n",
       "\u001b[31m│\u001b[0m                                                                                                                 \u001b[31m│\u001b[0m\n",
       "\u001b[31m│\u001b[0m \u001b[2;33m/Users/ytong/go/src/github.com/flyteorg/flytekit/flytekit/clients/\u001b[0m\u001b[1;33mraw.py\u001b[0m:\u001b[94m360\u001b[0m in \u001b[92mcreate_execution\u001b[0m                \u001b[31m│\u001b[0m\n",
       "\u001b[31m│\u001b[0m                                                                                                                 \u001b[31m│\u001b[0m\n",
       "\u001b[31m│\u001b[0m \u001b[31m❱ \u001b[0m360 \u001b[2m│   │   \u001b[0m\u001b[94mreturn\u001b[0m \u001b[96mself\u001b[0m._stub.CreateExecution(create_execution_request, metadata=\u001b[96mself\u001b[0m._metad                  \u001b[31m│\u001b[0m\n",
       "\u001b[31m│\u001b[0m                                                                                                                 \u001b[31m│\u001b[0m\n",
       "\u001b[31m│\u001b[0m \u001b[2;33m/Users/ytong/envs/experiments/lib/python3.11/site-packages/grpc/\u001b[0m\u001b[1;33m_interceptor.py\u001b[0m:\u001b[94m247\u001b[0m in \u001b[92m__call__\u001b[0m                 \u001b[31m│\u001b[0m\n",
       "\u001b[31m│\u001b[0m                                                                                                                 \u001b[31m│\u001b[0m\n",
       "\u001b[31m│\u001b[0m \u001b[31m❱ \u001b[0m247 \u001b[2m│   │   \u001b[0mresponse, ignored_call = \u001b[96mself\u001b[0m._with_call(request,                                                 \u001b[31m│\u001b[0m\n",
       "\u001b[31m│\u001b[0m                                                                                                                 \u001b[31m│\u001b[0m\n",
       "\u001b[31m│\u001b[0m \u001b[2;33m/Users/ytong/envs/experiments/lib/python3.11/site-packages/grpc/\u001b[0m\u001b[1;33m_interceptor.py\u001b[0m:\u001b[94m287\u001b[0m in \u001b[92m_with_call\u001b[0m               \u001b[31m│\u001b[0m\n",
       "\u001b[31m│\u001b[0m                                                                                                                 \u001b[31m│\u001b[0m\n",
       "\u001b[31m│\u001b[0m \u001b[31m❱ \u001b[0m287 \u001b[2m│   │   \u001b[0mcall = \u001b[96mself\u001b[0m._interceptor.intercept_unary_unary(continuation,                                      \u001b[31m│\u001b[0m\n",
       "\u001b[31m│\u001b[0m                                                                                                                 \u001b[31m│\u001b[0m\n",
       "\u001b[31m│\u001b[0m \u001b[2;33m/Users/ytong/go/src/github.com/flyteorg/flytekit/flytekit/clients/grpc_utils/\u001b[0m\u001b[1;33mwrap_exception_interceptor.py\u001b[0m:\u001b[94m44\u001b[0m   \u001b[31m│\u001b[0m\n",
       "\u001b[31m│\u001b[0m in \u001b[92mintercept_unary_unary\u001b[0m                                                                                        \u001b[31m│\u001b[0m\n",
       "\u001b[31m│\u001b[0m                                                                                                                 \u001b[31m│\u001b[0m\n",
       "\u001b[31m│\u001b[0m \u001b[31m❱ \u001b[0m44 \u001b[2m│   │   │   │   │   \u001b[0m\u001b[94mraise\u001b[0m e                                                                                \u001b[31m│\u001b[0m\n",
       "\u001b[31m│\u001b[0m                                                                                                                 \u001b[31m│\u001b[0m\n",
       "\u001b[31m│\u001b[0m \u001b[2;33m/Users/ytong/go/src/github.com/flyteorg/flytekit/flytekit/clients/grpc_utils/\u001b[0m\u001b[1;33mwrap_exception_interceptor.py\u001b[0m:\u001b[94m40\u001b[0m   \u001b[31m│\u001b[0m\n",
       "\u001b[31m│\u001b[0m in \u001b[92mintercept_unary_unary\u001b[0m                                                                                        \u001b[31m│\u001b[0m\n",
       "\u001b[31m│\u001b[0m                                                                                                                 \u001b[31m│\u001b[0m\n",
       "\u001b[31m│\u001b[0m \u001b[31m❱ \u001b[0m40 \u001b[2m│   │   │   │   │   \u001b[0m\u001b[96mself\u001b[0m._raise_if_exc(request, e)                                                         \u001b[31m│\u001b[0m\n",
       "\u001b[31m│\u001b[0m                                                                                                                 \u001b[31m│\u001b[0m\n",
       "\u001b[31m│\u001b[0m \u001b[2;33m/Users/ytong/go/src/github.com/flyteorg/flytekit/flytekit/clients/grpc_utils/\u001b[0m\u001b[1;33mwrap_exception_interceptor.py\u001b[0m:\u001b[94m31\u001b[0m   \u001b[31m│\u001b[0m\n",
       "\u001b[31m│\u001b[0m in \u001b[92m_raise_if_exc\u001b[0m                                                                                                \u001b[31m│\u001b[0m\n",
       "\u001b[31m│\u001b[0m                                                                                                                 \u001b[31m│\u001b[0m\n",
       "\u001b[31m│\u001b[0m \u001b[31m❱ \u001b[0m31 \u001b[2m│   │   \u001b[0m\u001b[94mraise\u001b[0m FlyteSystemException() \u001b[94mfrom\u001b[0m \u001b[4;96me\u001b[0m                                                                \u001b[31m│\u001b[0m\n",
       "\u001b[31m╰─────────────────────────────────────────────────────────────────────────────────────────────────────────────────╯\u001b[0m\n",
       "\u001b[1;91mFlyteSystemException\u001b[0m\n"
      ]
     },
     "metadata": {},
     "output_type": "display_data"
    }
   ],
   "source": [
    "r.execute(run_train_model_wf, inputs={\"region\": \"SEA\", \"kickoff_time\": dd})"
   ]
  },
  {
   "cell_type": "code",
   "execution_count": 13,
   "id": "9bd0e392",
   "metadata": {},
   "outputs": [],
   "source": [
    "model_artifact = r.get_artifact(f\"flyte://av0.1/flytesnacks/development/my-model:SEA\")"
   ]
  },
  {
   "cell_type": "code",
   "execution_count": 14,
   "id": "3d9730c7",
   "metadata": {},
   "outputs": [
    {
     "data": {
      "text/plain": [
       "Artifact: project=flytesnacks, domain=development, name=my-model, version=f74ac86748e244352829/end-node/o0\n",
       "  name=my-model\n",
       "  partitions=<flytekit.core.artifact.Partitions object at 0x13acca290>\n",
       "  tags=['SEA']\n",
       "  literal_type=<FlyteLiteral blob { }>, literal=<FlyteLiteral scalar { blob { metadata { type { } } uri: \"s3://my-s3-bucket/data/w5/f74ac86748e244352829-n0-0/e41b589d7c8f17b3e59037abdd0f3473/demo_ml.py\" } }>)"
      ]
     },
     "execution_count": 14,
     "metadata": {},
     "output_type": "execute_result"
    }
   ],
   "source": [
    "model_artifact"
   ]
  },
  {
   "cell_type": "markdown",
   "id": "0d99d66e-0a46-45ce-9da1-9aa2fbd52bac",
   "metadata": {},
   "source": [
    "### demo_timeseries.py"
   ]
  },
  {
   "cell_type": "markdown",
   "id": "80c339a0-c5d8-4dd1-8064-2426c813bd2a",
   "metadata": {},
   "source": [
    "This second example is supposed to show an ETL-centric use-case and demonstrates reactive workflows. The components here are:\n",
    "* A `create_upstream_directory` workflow that creates an Artifact named `upstream_data`. In this dummy example, the task in this workflow just returns a folder with the files `1.txt`... `100.txt` with 8 of them at random removed. This provides a folder whose contents mostly stay the same day to day, with some small changes.\n",
    "* A `run_update_hashes` workflow, that takes as input the upstream data above, and also a file that contains the filename and the hash for each of the 92 files in the prior step. Each day it runs, the earlier hash summary file is read, the new upstream data is read, hashes for newly seen files are added, and hashes for files that were deleted are removed.\n",
    "\n",
    "If the prior day's hash file is not present, a new one is created (which is why the `hashes_file` input for the workflow is `Optional`."
   ]
  },
  {
   "cell_type": "markdown",
   "id": "1bf19c66-ad31-44e2-aa87-e1770df1981b",
   "metadata": {},
   "source": [
    "Run the `artifact_ux.demo_timeseries.create_upstream_directory` workflow with `ds` equal to `09/01/2023 00:00:00`"
   ]
  },
  {
   "cell_type": "markdown",
   "id": "07bf9844-041d-4738-bb7f-a615546aa368",
   "metadata": {},
   "source": [
    "It should produce a `FlyteDirectory` object with some s3 path that holds the offloaded data. Once that finishes, because of the Trigger variable `trigger_hashes` and decorated on `run_update_hashes`, that workflow should kick off. If you inspect the `upstream_data` input on the `artifact_ux.demo_timeseries.run_update_hashes` execution that gets kicked off, you should see that it matches the output from the `create_upstream_directory` workflow."
   ]
  },
  {
   "cell_type": "markdown",
   "id": "9b5313b6-db98-4126-a43e-9d91beced4ec",
   "metadata": {},
   "source": [
    "Because it was the first time this was run, the `hashes_file` input should be empty. But if you run the `create_upstream_directory` workflow again, this time with `9/2/2023 12:00:00 AM UTC`, you should see a second execution of the downstream workflow, this time with the `hashes_file` input set to the output of the first run."
   ]
  },
  {
   "cell_type": "code",
   "execution_count": null,
   "id": "e1fcabc1-7b9e-4d10-bb1e-16b4f2c7bdc7",
   "metadata": {},
   "outputs": [],
   "source": []
  }
 ],
 "metadata": {
  "kernelspec": {
   "display_name": "Python 3 (ipykernel)",
   "language": "python",
   "name": "python3"
  },
  "language_info": {
   "codemirror_mode": {
    "name": "ipython",
    "version": 3
   },
   "file_extension": ".py",
   "mimetype": "text/x-python",
   "name": "python",
   "nbconvert_exporter": "python",
   "pygments_lexer": "ipython3",
   "version": "3.11.5"
  }
 },
 "nbformat": 4,
 "nbformat_minor": 5
}
